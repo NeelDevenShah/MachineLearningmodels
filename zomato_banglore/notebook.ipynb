{
 "cells": [
  {
   "attachments": {},
   "cell_type": "markdown",
   "metadata": {},
   "source": [
    "<h1>Zomato Banglore Dataset</h1>\n",
    "The basic idea of analyzing the Zomato dataset is to get a fair idea about the factors affecting the establishment of different types of restaurant at different places in Bengaluru, aggregate rating of each restaurant, Bengaluru being one such city has more than 12,000 restaurants with restaurants serving dishes from all over the world. With each day new restaurants opening the industry has’nt been saturated yet and the demand is increasing day by day. Inspite of increasing demand it however has become difficult for new restaurants to compete with established restaurants. Most of them serving the same food. Bengaluru being an IT capital of India. Most of the people here are dependent mainly on the restaurant food as they don’t have time to cook for themselves. With such an overwhelming demand of restaurants it has therefore become important to study the demography of a location.\n",
    "</br></br>\n",
    "- What kind of a food is more popular in a locality. \n",
    "- Do the entire locality loves vegetarian food. If yes then is that locality populated by a particular sect of people for eg. Jain, Marwaris, Gujaratis who are mostly vegetarian. These kind of analysis can be done using the data, by studying the factors such as • Location of the restaurant • Approx Price of food  Theme based restaurant or not \n",
    "-  Which locality of that city serves that cuisines with maximum number of restaurants • The needs of people who are striving to get the best cuisine of the neighborhood • Is a particular neighborhood famous for its own kind of food."
   ]
  },
  {
   "attachments": {},
   "cell_type": "markdown",
   "metadata": {},
   "source": [
    "<h2>Some of the questions discussed are:</h2>\n",
    "<ol>\n",
    "    <li>Which are the top restaurant chains in Bangaluru? </li>\n",
    "     <li>How many of the restuarants do not accept online orders? </li>\n",
    "     <li>What is the ratio b/w restaurants that provide and do not provide table booking ? </li>\n",
    "     <li>Rating distribution </li>\n",
    "     <li>Is there any difference b/w votes of restaurants accepting and not accepting online orders? </li>\n",
    "     <li>Which are the most common restaurant type in Banglore? </li>\n",
    "     <li>Cost factor ? </li>\n",
    "     <li>Which are the foodie areas? </li>\n",
    "     <li>Which are the most common cuisines in each locations? </li>\n",
    "     <li>Extracting location information using Geopy </li>\n",
    "     <li>Heatmap of restaurant count on each location </li>\n",
    "     <li>Which are  the most popular cuisines of Bangalore? </li>\n",
    "     <li>Heatmap of North Indian restaurants </li>\n",
    "     <li>What about South  Indian cuisines? </li>\n",
    "     <li>Analysing Restaurant chains  </li>\n",
    "     <li>Which are the most popular casual dining restaurant chains? </li>\n",
    "       <ul>\n",
    "              <li>Where are their outlets located?</li>\n",
    "       </ul>\n",
    "     <li>Top quick bites restaurant chains in Banglore </li>\n",
    "       <ul>   \n",
    "              <li>Where are their outlets located?</li>\n",
    "       </ul>\n",
    "     <li>Top Cafes of Banglore? </li>\n",
    "       <ul>\n",
    "              <li>Where are their outlets located?</li>\n",
    "       </ul>\n",
    "     <ul>      \n",
    "       <li>Wordcloud of dishes liked by cuisines.</li>\n",
    "     </ul>\n",
    "     <li>Analysing Reviews </li>\n",
    "       <ul>\n",
    "              <li>Wordcloud of restaurant reviews </li>\n",
    "              <li>Rating distribution </li>\n",
    "       </ul>\n",
    "     </ol>"
   ]
  },
  {
   "attachments": {},
   "cell_type": "markdown",
   "metadata": {},
   "source": [
    "<h2>Loading libraries</h2>"
   ]
  }
 ],
 "metadata": {
  "kernelspec": {
   "display_name": "Python 3",
   "language": "python",
   "name": "python3"
  },
  "language_info": {
   "name": "python",
   "version": "3.10.6 (main, Nov 14 2022, 16:10:14) [GCC 11.3.0]"
  },
  "orig_nbformat": 4,
  "vscode": {
   "interpreter": {
    "hash": "e7370f93d1d0cde622a1f8e1c04877d8463912d04d973331ad4851f04de6915a"
   }
  }
 },
 "nbformat": 4,
 "nbformat_minor": 2
}
