{
 "cells": [
  {
   "cell_type": "markdown",
   "id": "05db4126-2747-45d6-82b7-cbd4d66af426",
   "metadata": {},
   "source": [
    "<h1>Customer Segmentation and Effective Cross Selling</h1>\n",
    "<b>Customer segmentation: Customer segmentation is the problem of uncovering information about a firm’s customer base, based on their interactions with the business. In most cases this interaction is in terms of their purchase behavior and patterns. We explore some of the ways in which this can be used.</b>\n",
    "</br></br><b>Market basket analysis: Market basket analysis is a method to gain insights into granular behavior of customers. This is helpful in devising strategies which uncovers deeper understanding of purchase decisions taken by the customers. This is interesting as a lot of times even the customer will be unaware of such biases or trends in their purchasing behavior.</b>\n",
    "</br></br>The dataset we will be using for our analysis is quite\n",
    "simple. Based on its description on the UCI web site, it contains all the\n",
    "transactions occurring between 01/12/2010 and 09/12/2011 for a\n",
    "UK-based and registered non-store online retail. From the web site, we also\n",
    "learn that the company sells unique all-occasion gift items and a lot of\n",
    "customers of the organization are wholesalers.\n",
    "\n",
    "</br></br>The last piece of information is particularly important as gives us an\n",
    "opportunity to explore purchase behaviors of large-scale customers instead\n",
    "of normal retail customers only. The dataset does not have any information\n",
    "that will help us distinguish between a wholesale purchase and a retail\n",
    "purchase. Before we get started, make sure you load the following\n",
    "dependencies."
   ]
  },
  {
   "cell_type": "code",
   "execution_count": 1,
   "id": "6c04f75a-a8ca-4004-8910-defdae1d59fa",
   "metadata": {},
   "outputs": [],
   "source": [
    "import pandas as pd\n",
    "import datetime\n",
    "import math\n",
    "import numpy as np\n",
    "import matplotlib.pyplot as plt\n",
    "import matplotlib.mlab as mlab\n",
    "\n",
    "%matplotlib inline"
   ]
  },
  {
   "cell_type": "markdown",
   "id": "834c03ef-58cd-4010-b021-748cd2ece95e",
   "metadata": {},
   "source": [
    "<h2>Exploratory Data Analysis</h2>\n",
    "</br>The first thing you should notice about the dataset is its format. Unlike\n",
    "most of the datasets that we have handled in this book the dataset is not in a\n",
    "CSV format and instead comes as an Excel file. In some other languages (or\n",
    "even frameworks) it could have been a cause of problem but with python\n",
    "and particularly pandas we don’t face any such problem and we can read\n",
    "the dataset using the function read_excel provided by the pandas\n",
    "library. We also take a look at some of the lines in the dataset."
   ]
  },
  {
   "cell_type": "code",
   "execution_count": 2,
   "id": "44f67637-4c07-43da-8f61-b206b0fb2750",
   "metadata": {},
   "outputs": [],
   "source": [
    "cs_df = pd.read_excel(io='Online Retail.xlsx')"
   ]
  },
  {
   "cell_type": "code",
   "execution_count": 3,
   "id": "db7cb9fd-0726-4b35-81be-0ed73086298c",
   "metadata": {},
   "outputs": [
    {
     "data": {
      "text/plain": [
       "<bound method NDFrame.head of        InvoiceNo StockCode                          Description  Quantity  \\\n",
       "0         536365    85123A   WHITE HANGING HEART T-LIGHT HOLDER         6   \n",
       "1         536365     71053                  WHITE METAL LANTERN         6   \n",
       "2         536365    84406B       CREAM CUPID HEARTS COAT HANGER         8   \n",
       "3         536365    84029G  KNITTED UNION FLAG HOT WATER BOTTLE         6   \n",
       "4         536365    84029E       RED WOOLLY HOTTIE WHITE HEART.         6   \n",
       "...          ...       ...                                  ...       ...   \n",
       "541904    581587     22613          PACK OF 20 SPACEBOY NAPKINS        12   \n",
       "541905    581587     22899         CHILDREN'S APRON DOLLY GIRL          6   \n",
       "541906    581587     23254        CHILDRENS CUTLERY DOLLY GIRL          4   \n",
       "541907    581587     23255      CHILDRENS CUTLERY CIRCUS PARADE         4   \n",
       "541908    581587     22138        BAKING SET 9 PIECE RETROSPOT          3   \n",
       "\n",
       "               InvoiceDate  UnitPrice  CustomerID         Country  \n",
       "0      2010-12-01 08:26:00       2.55     17850.0  United Kingdom  \n",
       "1      2010-12-01 08:26:00       3.39     17850.0  United Kingdom  \n",
       "2      2010-12-01 08:26:00       2.75     17850.0  United Kingdom  \n",
       "3      2010-12-01 08:26:00       3.39     17850.0  United Kingdom  \n",
       "4      2010-12-01 08:26:00       3.39     17850.0  United Kingdom  \n",
       "...                    ...        ...         ...             ...  \n",
       "541904 2011-12-09 12:50:00       0.85     12680.0          France  \n",
       "541905 2011-12-09 12:50:00       2.10     12680.0          France  \n",
       "541906 2011-12-09 12:50:00       4.15     12680.0          France  \n",
       "541907 2011-12-09 12:50:00       4.15     12680.0          France  \n",
       "541908 2011-12-09 12:50:00       4.95     12680.0          France  \n",
       "\n",
       "[541909 rows x 8 columns]>"
      ]
     },
     "execution_count": 3,
     "metadata": {},
     "output_type": "execute_result"
    }
   ],
   "source": [
    "cs_df.head"
   ]
  },
  {
   "cell_type": "code",
   "execution_count": 4,
   "id": "d6660d40-d241-44ea-b132-714c6209bf1a",
   "metadata": {},
   "outputs": [
    {
     "data": {
      "text/html": [
       "<div>\n",
       "<style scoped>\n",
       "    .dataframe tbody tr th:only-of-type {\n",
       "        vertical-align: middle;\n",
       "    }\n",
       "\n",
       "    .dataframe tbody tr th {\n",
       "        vertical-align: top;\n",
       "    }\n",
       "\n",
       "    .dataframe thead th {\n",
       "        text-align: right;\n",
       "    }\n",
       "</style>\n",
       "<table border=\"1\" class=\"dataframe\">\n",
       "  <thead>\n",
       "    <tr style=\"text-align: right;\">\n",
       "      <th></th>\n",
       "      <th>index</th>\n",
       "      <th>Country</th>\n",
       "    </tr>\n",
       "  </thead>\n",
       "  <tbody>\n",
       "    <tr>\n",
       "      <th>0</th>\n",
       "      <td>United Kingdom</td>\n",
       "      <td>495478</td>\n",
       "    </tr>\n",
       "    <tr>\n",
       "      <th>1</th>\n",
       "      <td>Germany</td>\n",
       "      <td>9495</td>\n",
       "    </tr>\n",
       "    <tr>\n",
       "      <th>2</th>\n",
       "      <td>France</td>\n",
       "      <td>8557</td>\n",
       "    </tr>\n",
       "    <tr>\n",
       "      <th>3</th>\n",
       "      <td>EIRE</td>\n",
       "      <td>8196</td>\n",
       "    </tr>\n",
       "    <tr>\n",
       "      <th>4</th>\n",
       "      <td>Spain</td>\n",
       "      <td>2533</td>\n",
       "    </tr>\n",
       "    <tr>\n",
       "      <th>5</th>\n",
       "      <td>Netherlands</td>\n",
       "      <td>2371</td>\n",
       "    </tr>\n",
       "    <tr>\n",
       "      <th>6</th>\n",
       "      <td>Belgium</td>\n",
       "      <td>2069</td>\n",
       "    </tr>\n",
       "    <tr>\n",
       "      <th>7</th>\n",
       "      <td>Switzerland</td>\n",
       "      <td>2002</td>\n",
       "    </tr>\n",
       "    <tr>\n",
       "      <th>8</th>\n",
       "      <td>Portugal</td>\n",
       "      <td>1519</td>\n",
       "    </tr>\n",
       "    <tr>\n",
       "      <th>9</th>\n",
       "      <td>Australia</td>\n",
       "      <td>1259</td>\n",
       "    </tr>\n",
       "  </tbody>\n",
       "</table>\n",
       "</div>"
      ],
      "text/plain": [
       "            index  Country\n",
       "0  United Kingdom   495478\n",
       "1         Germany     9495\n",
       "2          France     8557\n",
       "3            EIRE     8196\n",
       "4           Spain     2533\n",
       "5     Netherlands     2371\n",
       "6         Belgium     2069\n",
       "7     Switzerland     2002\n",
       "8        Portugal     1519\n",
       "9       Australia     1259"
      ]
     },
     "execution_count": 4,
     "metadata": {},
     "output_type": "execute_result"
    }
   ],
   "source": [
    "cs_df.Country.value_counts().reset_index().head(10)"
   ]
  },
  {
   "cell_type": "markdown",
   "id": "10156941-843c-4b9b-8640-22502c960ae6",
   "metadata": {},
   "source": [
    "This shows us that the bulk of ordering is taking place in its home\n",
    "country only which is not surprising. We also notice the odd country name\n",
    "EIRE, which is a little concerning. But a quick web search indicates that it\n",
    "is just an old name for Ireland, so no harm done! Interestingly, Australia is\n",
    "also in the top-ten list of sales by country.\n",
    "Next we might be interested in how many unique customers the retailer\n",
    "is having and how do they stack up in the number of orders they make. We\n",
    "are also interested in knowing that what percentage of orders is made by the\n",
    "top 10 customers of the retailer. This information is interesting as it would\n",
    "tell us whether the user base of the firm is distributed relatively uniformly."
   ]
  },
  {
   "cell_type": "code",
   "execution_count": 5,
   "id": "5745f6b3-b0c0-432b-b652-900ad75c2d45",
   "metadata": {},
   "outputs": [
    {
     "data": {
      "text/plain": [
       "(4373,)"
      ]
     },
     "execution_count": 5,
     "metadata": {},
     "output_type": "execute_result"
    }
   ],
   "source": [
    "cs_df.CustomerID.unique().shape"
   ]
  },
  {
   "cell_type": "code",
   "execution_count": 6,
   "id": "9d973624-67a7-4476-a52b-924674436b8a",
   "metadata": {},
   "outputs": [
    {
     "data": {
      "text/plain": [
       "17841.0    1.962249\n",
       "14911.0    3.413228\n",
       "14096.0    4.673708\n",
       "12748.0    5.814728\n",
       "14606.0    6.498553\n",
       "15311.0    7.110850\n",
       "14646.0    7.623350\n",
       "13089.0    8.079807\n",
       "13263.0    8.492020\n",
       "14298.0    8.895138\n",
       "15039.0    9.265809\n",
       "14156.0    9.614850\n",
       "18118.0    9.930462\n",
       "Name: CustomerID, dtype: float64"
      ]
     },
     "execution_count": 6,
     "metadata": {},
     "output_type": "execute_result"
    }
   ],
   "source": [
    "# Finding the trade quantity in percentage of each customer\n",
    "(cs_df.CustomerID.value_counts()/sum(cs_df.CustomerID.value_counts())*100).head(n=13).cumsum()"
   ]
  },
  {
   "cell_type": "markdown",
   "id": "e215f75a-caba-47ed-977e-07676a746408",
   "metadata": {},
   "source": [
    "This tells us that we have 4,373 unique customers but almost 10% of\n",
    "total sales are contributed by only 13 customers (based on the cumulative\n",
    "percentage aggregation in the preceding output). This is expected given the\n",
    "fact that we have both wholesale and retail customers. The next thing we\n",
    "want to determine is how many unique items the firm is selling and check\n",
    "whether we have equal number of descriptions for them."
   ]
  },
  {
   "cell_type": "code",
   "execution_count": 7,
   "id": "7d36407b-0dd2-431e-b414-629d809b3122",
   "metadata": {},
   "outputs": [
    {
     "data": {
      "text/plain": [
       "(4070,)"
      ]
     },
     "execution_count": 7,
     "metadata": {},
     "output_type": "execute_result"
    }
   ],
   "source": [
    "cs_df.StockCode.unique().shape"
   ]
  },
  {
   "cell_type": "code",
   "execution_count": 8,
   "id": "07acc5a0-d5a0-4446-802e-b39de3b9402b",
   "metadata": {},
   "outputs": [
    {
     "data": {
      "text/plain": [
       "(4224,)"
      ]
     },
     "execution_count": 8,
     "metadata": {},
     "output_type": "execute_result"
    }
   ],
   "source": [
    "cs_df.Description.unique().shape"
   ]
  },
  {
   "cell_type": "markdown",
   "id": "66b89245-f996-49e4-9283-b505fa0d4d81",
   "metadata": {},
   "source": [
    "This tells us that we have 4,373 unique customers but almost 10% of\n",
    "total sales are contributed by only 13 customers (based on the cumulative\n",
    "percentage aggregation in the preceding output). This is expected given the\n",
    "fact that we have both wholesale and retail customers. The next thing we\n",
    "want to determine is how many unique items the firm is selling and check\n",
    "whether we have equal number of descriptions for them."
   ]
  },
  {
   "cell_type": "code",
   "execution_count": 9,
   "id": "87f5abc7-9796-44bb-b18b-76283909f34f",
   "metadata": {},
   "outputs": [],
   "source": [
    "cat_des_df = cs_df.groupby([\"StockCode\",\"Description\"]).count().reset_index()"
   ]
  },
  {
   "cell_type": "code",
   "execution_count": 10,
   "id": "5840a92a-24b6-4bd0-a2df-6d66a4adb2fd",
   "metadata": {},
   "outputs": [
    {
     "data": {
      "text/html": [
       "<div>\n",
       "<style scoped>\n",
       "    .dataframe tbody tr th:only-of-type {\n",
       "        vertical-align: middle;\n",
       "    }\n",
       "\n",
       "    .dataframe tbody tr th {\n",
       "        vertical-align: top;\n",
       "    }\n",
       "\n",
       "    .dataframe thead th {\n",
       "        text-align: right;\n",
       "    }\n",
       "</style>\n",
       "<table border=\"1\" class=\"dataframe\">\n",
       "  <thead>\n",
       "    <tr style=\"text-align: right;\">\n",
       "      <th></th>\n",
       "      <th>index</th>\n",
       "      <th>StockCode</th>\n",
       "    </tr>\n",
       "  </thead>\n",
       "  <tbody>\n",
       "    <tr>\n",
       "      <th>0</th>\n",
       "      <td>20713</td>\n",
       "      <td>8</td>\n",
       "    </tr>\n",
       "    <tr>\n",
       "      <th>1</th>\n",
       "      <td>23084</td>\n",
       "      <td>7</td>\n",
       "    </tr>\n",
       "    <tr>\n",
       "      <th>2</th>\n",
       "      <td>21830</td>\n",
       "      <td>6</td>\n",
       "    </tr>\n",
       "    <tr>\n",
       "      <th>3</th>\n",
       "      <td>85175</td>\n",
       "      <td>6</td>\n",
       "    </tr>\n",
       "    <tr>\n",
       "      <th>4</th>\n",
       "      <td>85172</td>\n",
       "      <td>5</td>\n",
       "    </tr>\n",
       "    <tr>\n",
       "      <th>...</th>\n",
       "      <td>...</td>\n",
       "      <td>...</td>\n",
       "    </tr>\n",
       "    <tr>\n",
       "      <th>645</th>\n",
       "      <td>23390</td>\n",
       "      <td>2</td>\n",
       "    </tr>\n",
       "    <tr>\n",
       "      <th>646</th>\n",
       "      <td>23212</td>\n",
       "      <td>2</td>\n",
       "    </tr>\n",
       "    <tr>\n",
       "      <th>647</th>\n",
       "      <td>23542</td>\n",
       "      <td>2</td>\n",
       "    </tr>\n",
       "    <tr>\n",
       "      <th>648</th>\n",
       "      <td>23543</td>\n",
       "      <td>2</td>\n",
       "    </tr>\n",
       "    <tr>\n",
       "      <th>649</th>\n",
       "      <td>23187</td>\n",
       "      <td>2</td>\n",
       "    </tr>\n",
       "  </tbody>\n",
       "</table>\n",
       "<p>650 rows × 2 columns</p>\n",
       "</div>"
      ],
      "text/plain": [
       "     index  StockCode\n",
       "0    20713          8\n",
       "1    23084          7\n",
       "2    21830          6\n",
       "3    85175          6\n",
       "4    85172          5\n",
       "..     ...        ...\n",
       "645  23390          2\n",
       "646  23212          2\n",
       "647  23542          2\n",
       "648  23543          2\n",
       "649  23187          2\n",
       "\n",
       "[650 rows x 2 columns]"
      ]
     },
     "execution_count": 10,
     "metadata": {},
     "output_type": "execute_result"
    }
   ],
   "source": [
    "cat_des_df.StockCode.value_counts()[cat_des_df.StockCode.value_counts() > 1].reset_index()"
   ]
  },
  {
   "cell_type": "markdown",
   "id": "a6fdf3aa-edf9-4cd9-a380-bc4bd352828f",
   "metadata": {},
   "source": [
    "<h3>Example of one such stockcode</h3>"
   ]
  },
  {
   "cell_type": "code",
   "execution_count": 11,
   "id": "481578ab-9f6d-4ebc-a764-1f15b9e79ff8",
   "metadata": {},
   "outputs": [
    {
     "data": {
      "text/plain": [
       "array(['SET/3 ROSE CANDLE IN JEWELLED BOX', 'wet pallet', 'damages',\n",
       "       '???missing', 'AMAZON'], dtype=object)"
      ]
     },
     "execution_count": 11,
     "metadata": {},
     "output_type": "execute_result"
    }
   ],
   "source": [
    "cs_df[cs_df['StockCode'] == cat_des_df.StockCode.value_counts()[cat_des_df.StockCode.value_counts() > 1].reset_index()['index'][5]]['Description'].unique()"
   ]
  },
  {
   "cell_type": "code",
   "execution_count": 12,
   "id": "b9e6f21a-0db8-4838-bdc2-964756276756",
   "metadata": {},
   "outputs": [],
   "source": [
    "cs_df['invdatetime'] = pd.to_datetime(cs_df.InvoiceDate)"
   ]
  },
  {
   "cell_type": "code",
   "execution_count": 13,
   "id": "ffd850a2-7e5f-444d-b5a9-15089b514f61",
   "metadata": {},
   "outputs": [
    {
     "data": {
      "text/plain": [
       "count    541909.000000\n",
       "mean          9.552250\n",
       "std         218.081158\n",
       "min      -80995.000000\n",
       "25%           1.000000\n",
       "50%           3.000000\n",
       "75%          10.000000\n",
       "max       80995.000000\n",
       "Name: Quantity, dtype: float64"
      ]
     },
     "execution_count": 13,
     "metadata": {},
     "output_type": "execute_result"
    }
   ],
   "source": [
    "cs_df.Quantity.describe()"
   ]
  },
  {
   "cell_type": "code",
   "execution_count": 14,
   "id": "7ecf84da-23a4-4765-bf46-3bf86b8276e8",
   "metadata": {},
   "outputs": [
    {
     "data": {
      "text/plain": [
       "count    541909.000000\n",
       "mean          4.611114\n",
       "std          96.759853\n",
       "min      -11062.060000\n",
       "25%           1.250000\n",
       "50%           2.080000\n",
       "75%           4.130000\n",
       "max       38970.000000\n",
       "Name: UnitPrice, dtype: float64"
      ]
     },
     "execution_count": 14,
     "metadata": {},
     "output_type": "execute_result"
    }
   ],
   "source": [
    "cs_df.UnitPrice.describe()"
   ]
  },
  {
   "cell_type": "markdown",
   "id": "f1868a56-6dea-415f-a63b-a788fc21b8b7",
   "metadata": {},
   "source": [
    "<h3>Data Cleaning</h3>"
   ]
  },
  {
   "cell_type": "code",
   "execution_count": 15,
   "id": "86918959-56ef-47a5-9601-2afeaa55671d",
   "metadata": {},
   "outputs": [
    {
     "name": "stderr",
     "output_type": "stream",
     "text": [
      "/tmp/ipykernel_8275/1783447032.py:5: SettingWithCopyWarning: \n",
      "A value is trying to be set on a copy of a slice from a DataFrame.\n",
      "Try using .loc[row_indexer,col_indexer] = value instead\n",
      "\n",
      "See the caveats in the documentation: https://pandas.pydata.org/pandas-docs/stable/user_guide/indexing.html#returning-a-view-versus-a-copy\n",
      "  cs_df['amount'] = cs_df.Quantity*cs_df.UnitPrice\n"
     ]
    }
   ],
   "source": [
    "# Seprate data for one geography\n",
    "cs_df = cs_df[cs_df.Country=='United Kingdom']\n",
    "\n",
    "# Seprate attribute for total amount\n",
    "cs_df['amount'] = cs_df.Quantity*cs_df.UnitPrice\n",
    "\n",
    "# Remove negative or return transactions\n",
    "# The below conditions is been fullfiled by many of the test cases, as we got the mean of the quantity in -ve which is not possible, Hence they are there are also the return\n",
    "# quantity of goods also, We have to remove it, Also we have the min of price in -ve, Which is not possible\n",
    "cs_df = cs_df[~(cs_df.amount<0)]\n",
    "cs_df.head()\n",
    "cs_df = cs_df[~(cs_df.CustomerID.isnull())]"
   ]
  },
  {
   "cell_type": "code",
   "execution_count": 16,
   "id": "e9dfbe1e-c65a-4480-8d1e-9f2356bec0c1",
   "metadata": {},
   "outputs": [
    {
     "data": {
      "text/plain": [
       "(354345, 10)"
      ]
     },
     "execution_count": 16,
     "metadata": {},
     "output_type": "execute_result"
    }
   ],
   "source": [
    "cs_df.shape"
   ]
  },
  {
   "cell_type": "markdown",
   "id": "0175732b-86c4-4a38-8f38-a5025ed22f1d",
   "metadata": {},
   "source": [
    "<h3>Build Recency Feature</h3>\n",
    "</br>Recency: How recently a customer has made a purchase. Frequency: How often a customer makes a purchase. Monetary Value: How much money a customer spends on purchases."
   ]
  },
  {
   "cell_type": "code",
   "execution_count": 17,
   "id": "1c304eb6-20e9-4f73-a39f-e41505e80379",
   "metadata": {},
   "outputs": [
    {
     "data": {
      "text/plain": [
       "Timestamp('2011-12-09 12:49:00')"
      ]
     },
     "execution_count": 17,
     "metadata": {},
     "output_type": "execute_result"
    }
   ],
   "source": [
    "cs_df.InvoiceDate.max()"
   ]
  },
  {
   "cell_type": "code",
   "execution_count": 18,
   "id": "a269e130-4999-41eb-8cc4-639c99b0366b",
   "metadata": {},
   "outputs": [
    {
     "data": {
      "text/plain": [
       "Timestamp('2010-12-01 08:26:00')"
      ]
     },
     "execution_count": 18,
     "metadata": {},
     "output_type": "execute_result"
    }
   ],
   "source": [
    "cs_df.InvoiceDate.min()"
   ]
  },
  {
   "cell_type": "code",
   "execution_count": 19,
   "id": "34a87bb1-9588-4241-b30e-da7d0d5a6be9",
   "metadata": {},
   "outputs": [],
   "source": [
    "refrence_date = cs_df.InvoiceDate.max()\n",
    "# Timedeltas are differences in times, expressed in difference units, e.g. days, hours, minutes, seconds. They can be both positive and negative.\n",
    "refrence_date = refrence_date + datetime.timedelta(days = 1)"
   ]
  },
  {
   "cell_type": "code",
   "execution_count": 20,
   "id": "1cf26ad1-45e1-4ea9-925c-b5672ac0712d",
   "metadata": {},
   "outputs": [],
   "source": [
    "cs_df['days_since_last_purchase'] = refrence_date - cs_df.InvoiceDate\n",
    "cs_df['days_since_last_purchase_num'] = cs_df['days_since_last_purchase'].astype('timedelta64[D]')"
   ]
  },
  {
   "cell_type": "markdown",
   "id": "2d0b067d-da4f-426d-8834-e5d7aa5b02cc",
   "metadata": {},
   "source": [
    "<h3>Time Period Of Transactions</h3>"
   ]
  },
  {
   "cell_type": "code",
   "execution_count": 21,
   "id": "eabe0fec-d553-4863-8ad8-003fd31ddfc4",
   "metadata": {},
   "outputs": [
    {
     "name": "stderr",
     "output_type": "stream",
     "text": [
      "/tmp/ipykernel_8275/595029647.py:1: FutureWarning: Dropping invalid columns in DataFrameGroupBy.min is deprecated. In a future version, a TypeError will be raised. Before calling .min, select only columns which should be valid for the function.\n",
      "  customer_history_df = cs_df.groupby(\"CustomerID\").min().reset_index()[['CustomerID', 'days_since_last_purchase_num']]\n"
     ]
    },
    {
     "data": {
      "text/plain": [
       "count    3921.000000\n",
       "mean       92.188472\n",
       "std        99.528995\n",
       "min         1.000000\n",
       "25%        18.000000\n",
       "50%        51.000000\n",
       "75%       143.000000\n",
       "max       374.000000\n",
       "Name: recency, dtype: float64"
      ]
     },
     "execution_count": 21,
     "metadata": {},
     "output_type": "execute_result"
    }
   ],
   "source": [
    "customer_history_df = cs_df.groupby(\"CustomerID\").min().reset_index()[['CustomerID', 'days_since_last_purchase_num']]\n",
    "customer_history_df.rename(columns={'days_since_last_purchase_num':'recency'}, inplace=True)\n",
    "customer_history_df.recency.describe()"
   ]
  },
  {
   "cell_type": "code",
   "execution_count": 22,
   "id": "88afd5f3-6a36-4426-b3f6-6f392fec355e",
   "metadata": {},
   "outputs": [
    {
     "data": {
      "text/html": [
       "<div>\n",
       "<style scoped>\n",
       "    .dataframe tbody tr th:only-of-type {\n",
       "        vertical-align: middle;\n",
       "    }\n",
       "\n",
       "    .dataframe tbody tr th {\n",
       "        vertical-align: top;\n",
       "    }\n",
       "\n",
       "    .dataframe thead th {\n",
       "        text-align: right;\n",
       "    }\n",
       "</style>\n",
       "<table border=\"1\" class=\"dataframe\">\n",
       "  <thead>\n",
       "    <tr style=\"text-align: right;\">\n",
       "      <th></th>\n",
       "      <th>CustomerID</th>\n",
       "      <th>recency</th>\n",
       "    </tr>\n",
       "  </thead>\n",
       "  <tbody>\n",
       "    <tr>\n",
       "      <th>0</th>\n",
       "      <td>12346.0</td>\n",
       "      <td>326.0</td>\n",
       "    </tr>\n",
       "    <tr>\n",
       "      <th>1</th>\n",
       "      <td>12747.0</td>\n",
       "      <td>2.0</td>\n",
       "    </tr>\n",
       "    <tr>\n",
       "      <th>2</th>\n",
       "      <td>12748.0</td>\n",
       "      <td>1.0</td>\n",
       "    </tr>\n",
       "    <tr>\n",
       "      <th>3</th>\n",
       "      <td>12749.0</td>\n",
       "      <td>4.0</td>\n",
       "    </tr>\n",
       "    <tr>\n",
       "      <th>4</th>\n",
       "      <td>12820.0</td>\n",
       "      <td>3.0</td>\n",
       "    </tr>\n",
       "  </tbody>\n",
       "</table>\n",
       "</div>"
      ],
      "text/plain": [
       "   CustomerID  recency\n",
       "0     12346.0    326.0\n",
       "1     12747.0      2.0\n",
       "2     12748.0      1.0\n",
       "3     12749.0      4.0\n",
       "4     12820.0      3.0"
      ]
     },
     "execution_count": 22,
     "metadata": {},
     "output_type": "execute_result"
    }
   ],
   "source": [
    "customer_history_df.head()"
   ]
  },
  {
   "cell_type": "code",
   "execution_count": 23,
   "id": "31d97713-6ce3-4f6e-abdd-0beb9ac78051",
   "metadata": {},
   "outputs": [
    {
     "data": {
      "text/plain": [
       "count    3921.000000\n",
       "mean       92.188472\n",
       "std        99.528995\n",
       "min         1.000000\n",
       "25%        18.000000\n",
       "50%        51.000000\n",
       "75%       143.000000\n",
       "max       374.000000\n",
       "Name: recency, dtype: float64"
      ]
     },
     "execution_count": 23,
     "metadata": {},
     "output_type": "execute_result"
    }
   ],
   "source": [
    "customer_history_df.recency.describe()"
   ]
  },
  {
   "cell_type": "code",
   "execution_count": 24,
   "id": "3133d9ef-8208-4f67-ae90-6e8c78e3c61a",
   "metadata": {},
   "outputs": [
    {
     "data": {
      "image/png": "[encoded data removed]",
      "text/plain": [
       "<Figure size 640x480 with 1 Axes>"
      ]
     },
     "metadata": {},
     "output_type": "display_data"
    }
   ],
   "source": [
    "x = customer_history_df.recency\n",
    "mu = np.mean(customer_history_df.recency)\n",
    "sigma = math.sqrt(np.var(customer_history_df.recency))\n",
    "n, bins, patches = plt.hist(x, 1000, facecolor='green', alpha=0.75)\n",
    "plt.xlabel('Recency in days')\n",
    "plt.ylabel('Number of transactions')\n",
    "plt.title('Histogram Of Sales Recency')\n",
    "plt.grid(True)"
   ]
  },
  {
   "cell_type": "markdown",
   "id": "1215c4cf-83ea-4954-9d59-1beaf9f1d963",
   "metadata": {},
   "source": [
    "<b><b>Build Frequency & Monetary Value Fratures</b></b>"
   ]
  },
  {
   "cell_type": "code",
   "execution_count": 25,
   "id": "98a220eb-cd65-453c-ac01-731776f78570",
   "metadata": {},
   "outputs": [
    {
     "data": {
      "text/html": [
       "<div>\n",
       "<style scoped>\n",
       "    .dataframe tbody tr th:only-of-type {\n",
       "        vertical-align: middle;\n",
       "    }\n",
       "\n",
       "    .dataframe tbody tr th {\n",
       "        vertical-align: top;\n",
       "    }\n",
       "\n",
       "    .dataframe thead th {\n",
       "        text-align: right;\n",
       "    }\n",
       "</style>\n",
       "<table border=\"1\" class=\"dataframe\">\n",
       "  <thead>\n",
       "    <tr style=\"text-align: right;\">\n",
       "      <th></th>\n",
       "      <th>CustomerID</th>\n",
       "      <th>recency</th>\n",
       "      <th>amount</th>\n",
       "      <th>frequency</th>\n",
       "    </tr>\n",
       "  </thead>\n",
       "  <tbody>\n",
       "    <tr>\n",
       "      <th>0</th>\n",
       "      <td>12346.0</td>\n",
       "      <td>326.0</td>\n",
       "      <td>77183.601</td>\n",
       "      <td>1</td>\n",
       "    </tr>\n",
       "    <tr>\n",
       "      <th>1</th>\n",
       "      <td>12747.0</td>\n",
       "      <td>2.0</td>\n",
       "      <td>4196.011</td>\n",
       "      <td>103</td>\n",
       "    </tr>\n",
       "    <tr>\n",
       "      <th>2</th>\n",
       "      <td>12748.0</td>\n",
       "      <td>1.0</td>\n",
       "      <td>33719.731</td>\n",
       "      <td>4596</td>\n",
       "    </tr>\n",
       "    <tr>\n",
       "      <th>3</th>\n",
       "      <td>12749.0</td>\n",
       "      <td>4.0</td>\n",
       "      <td>4090.881</td>\n",
       "      <td>199</td>\n",
       "    </tr>\n",
       "    <tr>\n",
       "      <th>4</th>\n",
       "      <td>12820.0</td>\n",
       "      <td>3.0</td>\n",
       "      <td>942.341</td>\n",
       "      <td>59</td>\n",
       "    </tr>\n",
       "    <tr>\n",
       "      <th>...</th>\n",
       "      <td>...</td>\n",
       "      <td>...</td>\n",
       "      <td>...</td>\n",
       "      <td>...</td>\n",
       "    </tr>\n",
       "    <tr>\n",
       "      <th>3916</th>\n",
       "      <td>18280.0</td>\n",
       "      <td>278.0</td>\n",
       "      <td>180.601</td>\n",
       "      <td>10</td>\n",
       "    </tr>\n",
       "    <tr>\n",
       "      <th>3917</th>\n",
       "      <td>18281.0</td>\n",
       "      <td>181.0</td>\n",
       "      <td>80.821</td>\n",
       "      <td>7</td>\n",
       "    </tr>\n",
       "    <tr>\n",
       "      <th>3918</th>\n",
       "      <td>18282.0</td>\n",
       "      <td>8.0</td>\n",
       "      <td>178.051</td>\n",
       "      <td>12</td>\n",
       "    </tr>\n",
       "    <tr>\n",
       "      <th>3919</th>\n",
       "      <td>18283.0</td>\n",
       "      <td>4.0</td>\n",
       "      <td>2094.881</td>\n",
       "      <td>756</td>\n",
       "    </tr>\n",
       "    <tr>\n",
       "      <th>3920</th>\n",
       "      <td>18287.0</td>\n",
       "      <td>43.0</td>\n",
       "      <td>1837.281</td>\n",
       "      <td>70</td>\n",
       "    </tr>\n",
       "  </tbody>\n",
       "</table>\n",
       "<p>3921 rows × 4 columns</p>\n",
       "</div>"
      ],
      "text/plain": [
       "      CustomerID  recency     amount  frequency\n",
       "0        12346.0    326.0  77183.601          1\n",
       "1        12747.0      2.0   4196.011        103\n",
       "2        12748.0      1.0  33719.731       4596\n",
       "3        12749.0      4.0   4090.881        199\n",
       "4        12820.0      3.0    942.341         59\n",
       "...          ...      ...        ...        ...\n",
       "3916     18280.0    278.0    180.601         10\n",
       "3917     18281.0    181.0     80.821          7\n",
       "3918     18282.0      8.0    178.051         12\n",
       "3919     18283.0      4.0   2094.881        756\n",
       "3920     18287.0     43.0   1837.281         70\n",
       "\n",
       "[3921 rows x 4 columns]"
      ]
     },
     "execution_count": 25,
     "metadata": {},
     "output_type": "execute_result"
    }
   ],
   "source": [
    "customer_monetary_val = cs_df[['CustomerID', 'amount']].groupby('CustomerID').sum().reset_index()\n",
    "customer_history_df = customer_history_df.merge(customer_monetary_val, how='outer')\n",
    "customer_history_df.amount = customer_history_df.amount+0.001\n",
    "customer_freq = cs_df[['CustomerID', 'amount']].groupby('CustomerID').count().reset_index()\n",
    "customer_freq.rename(columns={'amount':'frequency'}, inplace=True)\n",
    "customer_history_df.merge(customer_freq, how='outer')"
   ]
  },
  {
   "cell_type": "code",
   "execution_count": null,
   "id": "3792edc5-2d99-4e9f-8a73-5826dbef3790",
   "metadata": {},
   "outputs": [],
   "source": []
  },
  {
   "cell_type": "code",
   "execution_count": 26,
   "id": "52972af1-f708-44e3-ac4c-a04777149a81",
   "metadata": {},
   "outputs": [
    {
     "ename": "KeyError",
     "evalue": "'frequency'",
     "output_type": "error",
     "traceback": [
      "\u001b[0;31m---------------------------------------------------------------------------\u001b[0m",
      "\u001b[0;31mKeyError\u001b[0m                                  Traceback (most recent call last)",
      "\u001b[0;32m~/anaconda3/lib/python3.9/site-packages/pandas/core/indexes/base.py\u001b[0m in \u001b[0;36mget_loc\u001b[0;34m(self, key, method, tolerance)\u001b[0m\n\u001b[1;32m   3628\u001b[0m             \u001b[0;32mtry\u001b[0m\u001b[0;34m:\u001b[0m\u001b[0;34m\u001b[0m\u001b[0;34m\u001b[0m\u001b[0m\n\u001b[0;32m-> 3629\u001b[0;31m                 \u001b[0;32mreturn\u001b[0m \u001b[0mself\u001b[0m\u001b[0;34m.\u001b[0m\u001b[0m_engine\u001b[0m\u001b[0;34m.\u001b[0m\u001b[0mget_loc\u001b[0m\u001b[0;34m(\u001b[0m\u001b[0mcasted_key\u001b[0m\u001b[0;34m)\u001b[0m\u001b[0;34m\u001b[0m\u001b[0;34m\u001b[0m\u001b[0m\n\u001b[0m\u001b[1;32m   3630\u001b[0m             \u001b[0;32mexcept\u001b[0m \u001b[0mKeyError\u001b[0m \u001b[0;32mas\u001b[0m \u001b[0merr\u001b[0m\u001b[0;34m:\u001b[0m\u001b[0;34m\u001b[0m\u001b[0;34m\u001b[0m\u001b[0m\n",
      "\u001b[0;32m~/anaconda3/lib/python3.9/site-packages/pandas/_libs/index.pyx\u001b[0m in \u001b[0;36mpandas._libs.index.IndexEngine.get_loc\u001b[0;34m()\u001b[0m\n",
      "\u001b[0;32m~/anaconda3/lib/python3.9/site-packages/pandas/_libs/index.pyx\u001b[0m in \u001b[0;36mpandas._libs.index.IndexEngine.get_loc\u001b[0;34m()\u001b[0m\n",
      "\u001b[0;32mpandas/_libs/hashtable_class_helper.pxi\u001b[0m in \u001b[0;36mpandas._libs.hashtable.PyObjectHashTable.get_item\u001b[0;34m()\u001b[0m\n",
      "\u001b[0;32mpandas/_libs/hashtable_class_helper.pxi\u001b[0m in \u001b[0;36mpandas._libs.hashtable.PyObjectHashTable.get_item\u001b[0;34m()\u001b[0m\n",
      "\u001b[0;31mKeyError\u001b[0m: 'frequency'",
      "\nThe above exception was the direct cause of the following exception:\n",
      "\u001b[0;31mKeyError\u001b[0m                                  Traceback (most recent call last)",
      "\u001b[0;32m/tmp/ipykernel_8275/989591562.py\u001b[0m in \u001b[0;36m<module>\u001b[0;34m\u001b[0m\n\u001b[1;32m      3\u001b[0m \u001b[0;34m\u001b[0m\u001b[0m\n\u001b[1;32m      4\u001b[0m \u001b[0mcustomer_history_df\u001b[0m\u001b[0;34m[\u001b[0m\u001b[0;34m'recency_log'\u001b[0m\u001b[0;34m]\u001b[0m \u001b[0;34m=\u001b[0m \u001b[0mcustomer_history_df\u001b[0m\u001b[0;34m[\u001b[0m\u001b[0;34m'recency'\u001b[0m\u001b[0;34m]\u001b[0m\u001b[0;34m.\u001b[0m\u001b[0mapply\u001b[0m\u001b[0;34m(\u001b[0m\u001b[0mmath\u001b[0m\u001b[0;34m.\u001b[0m\u001b[0mlog\u001b[0m\u001b[0;34m)\u001b[0m\u001b[0;34m\u001b[0m\u001b[0;34m\u001b[0m\u001b[0m\n\u001b[0;32m----> 5\u001b[0;31m \u001b[0mcustomer_history_df\u001b[0m\u001b[0;34m[\u001b[0m\u001b[0;34m'frequency_log'\u001b[0m\u001b[0;34m]\u001b[0m \u001b[0;34m=\u001b[0m \u001b[0mcustomer_history_df\u001b[0m\u001b[0;34m[\u001b[0m\u001b[0;34m'frequency'\u001b[0m\u001b[0;34m]\u001b[0m\u001b[0;34m.\u001b[0m\u001b[0mapply\u001b[0m\u001b[0;34m(\u001b[0m\u001b[0mmath\u001b[0m\u001b[0;34m.\u001b[0m\u001b[0mlog\u001b[0m\u001b[0;34m)\u001b[0m\u001b[0;34m\u001b[0m\u001b[0;34m\u001b[0m\u001b[0m\n\u001b[0m\u001b[1;32m      6\u001b[0m \u001b[0mcustomer_history_df\u001b[0m\u001b[0;34m[\u001b[0m\u001b[0;34m'amount_log'\u001b[0m\u001b[0;34m]\u001b[0m \u001b[0;34m=\u001b[0m \u001b[0mcustomer_history_df\u001b[0m\u001b[0;34m[\u001b[0m\u001b[0;34m'amount'\u001b[0m\u001b[0;34m]\u001b[0m\u001b[0;34m.\u001b[0m\u001b[0mapply\u001b[0m\u001b[0;34m(\u001b[0m\u001b[0mmath\u001b[0m\u001b[0;34m.\u001b[0m\u001b[0mlog\u001b[0m\u001b[0;34m)\u001b[0m\u001b[0;34m\u001b[0m\u001b[0;34m\u001b[0m\u001b[0m\n\u001b[1;32m      7\u001b[0m \u001b[0mfeature_vector\u001b[0m \u001b[0;34m=\u001b[0m \u001b[0;34m[\u001b[0m\u001b[0;34m'amount_log'\u001b[0m\u001b[0;34m,\u001b[0m \u001b[0;34m'recency_log'\u001b[0m\u001b[0;34m,\u001b[0m \u001b[0;34m'frequency_log'\u001b[0m\u001b[0;34m]\u001b[0m\u001b[0;34m\u001b[0m\u001b[0;34m\u001b[0m\u001b[0m\n",
      "\u001b[0;32m~/anaconda3/lib/python3.9/site-packages/pandas/core/frame.py\u001b[0m in \u001b[0;36m__getitem__\u001b[0;34m(self, key)\u001b[0m\n\u001b[1;32m   3503\u001b[0m             \u001b[0;32mif\u001b[0m \u001b[0mself\u001b[0m\u001b[0;34m.\u001b[0m\u001b[0mcolumns\u001b[0m\u001b[0;34m.\u001b[0m\u001b[0mnlevels\u001b[0m \u001b[0;34m>\u001b[0m \u001b[0;36m1\u001b[0m\u001b[0;34m:\u001b[0m\u001b[0;34m\u001b[0m\u001b[0;34m\u001b[0m\u001b[0m\n\u001b[1;32m   3504\u001b[0m                 \u001b[0;32mreturn\u001b[0m \u001b[0mself\u001b[0m\u001b[0;34m.\u001b[0m\u001b[0m_getitem_multilevel\u001b[0m\u001b[0;34m(\u001b[0m\u001b[0mkey\u001b[0m\u001b[0;34m)\u001b[0m\u001b[0;34m\u001b[0m\u001b[0;34m\u001b[0m\u001b[0m\n\u001b[0;32m-> 3505\u001b[0;31m             \u001b[0mindexer\u001b[0m \u001b[0;34m=\u001b[0m \u001b[0mself\u001b[0m\u001b[0;34m.\u001b[0m\u001b[0mcolumns\u001b[0m\u001b[0;34m.\u001b[0m\u001b[0mget_loc\u001b[0m\u001b[0;34m(\u001b[0m\u001b[0mkey\u001b[0m\u001b[0;34m)\u001b[0m\u001b[0;34m\u001b[0m\u001b[0;34m\u001b[0m\u001b[0m\n\u001b[0m\u001b[1;32m   3506\u001b[0m             \u001b[0;32mif\u001b[0m \u001b[0mis_integer\u001b[0m\u001b[0;34m(\u001b[0m\u001b[0mindexer\u001b[0m\u001b[0;34m)\u001b[0m\u001b[0;34m:\u001b[0m\u001b[0;34m\u001b[0m\u001b[0;34m\u001b[0m\u001b[0m\n\u001b[1;32m   3507\u001b[0m                 \u001b[0mindexer\u001b[0m \u001b[0;34m=\u001b[0m \u001b[0;34m[\u001b[0m\u001b[0mindexer\u001b[0m\u001b[0;34m]\u001b[0m\u001b[0;34m\u001b[0m\u001b[0;34m\u001b[0m\u001b[0m\n",
      "\u001b[0;32m~/anaconda3/lib/python3.9/site-packages/pandas/core/indexes/base.py\u001b[0m in \u001b[0;36mget_loc\u001b[0;34m(self, key, method, tolerance)\u001b[0m\n\u001b[1;32m   3629\u001b[0m                 \u001b[0;32mreturn\u001b[0m \u001b[0mself\u001b[0m\u001b[0;34m.\u001b[0m\u001b[0m_engine\u001b[0m\u001b[0;34m.\u001b[0m\u001b[0mget_loc\u001b[0m\u001b[0;34m(\u001b[0m\u001b[0mcasted_key\u001b[0m\u001b[0;34m)\u001b[0m\u001b[0;34m\u001b[0m\u001b[0;34m\u001b[0m\u001b[0m\n\u001b[1;32m   3630\u001b[0m             \u001b[0;32mexcept\u001b[0m \u001b[0mKeyError\u001b[0m \u001b[0;32mas\u001b[0m \u001b[0merr\u001b[0m\u001b[0;34m:\u001b[0m\u001b[0;34m\u001b[0m\u001b[0;34m\u001b[0m\u001b[0m\n\u001b[0;32m-> 3631\u001b[0;31m                 \u001b[0;32mraise\u001b[0m \u001b[0mKeyError\u001b[0m\u001b[0;34m(\u001b[0m\u001b[0mkey\u001b[0m\u001b[0;34m)\u001b[0m \u001b[0;32mfrom\u001b[0m \u001b[0merr\u001b[0m\u001b[0;34m\u001b[0m\u001b[0;34m\u001b[0m\u001b[0m\n\u001b[0m\u001b[1;32m   3632\u001b[0m             \u001b[0;32mexcept\u001b[0m \u001b[0mTypeError\u001b[0m\u001b[0;34m:\u001b[0m\u001b[0;34m\u001b[0m\u001b[0;34m\u001b[0m\u001b[0m\n\u001b[1;32m   3633\u001b[0m                 \u001b[0;31m# If we have a listlike key, _check_indexing_error will raise\u001b[0m\u001b[0;34m\u001b[0m\u001b[0;34m\u001b[0m\u001b[0m\n",
      "\u001b[0;31mKeyError\u001b[0m: 'frequency'"
     ]
    }
   ],
   "source": [
    "from sklearn import preprocessing\n",
    "import math\n",
    "\n",
    "customer_history_df['recency_log'] = customer_history_df['recency'].apply(math.log)\n",
    "customer_history_df['frequency_log'] = customer_history_df['frequency'].apply(math.log)\n",
    "customer_history_df['amount_log'] = customer_history_df['amount'].apply(math.log)\n",
    "feature_vector = ['amount_log', 'recency_log', 'frequency_log']\n",
    "x = customer_history_df['feature_vector'].as_matrix()\n",
    "scaler = preprocessing.StandardScaler.fit(x)\n",
    "x_scaled = scaler.transform(x)"
   ]
  },
  {
   "cell_type": "code",
   "execution_count": null,
   "id": "0cf7bb4a-9fb6-43cb-91e4-33dc081795de",
   "metadata": {},
   "outputs": [],
   "source": []
  }
 ],
 "metadata": {
  "kernelspec": {
   "display_name": "Python 3 (ipykernel)",
   "language": "python",
   "name": "python3"
  },
  "language_info": {
   "codemirror_mode": {
    "name": "ipython",
    "version": 3
   },
   "file_extension": ".py",
   "mimetype": "text/x-python",
   "name": "python",
   "nbconvert_exporter": "python",
   "pygments_lexer": "ipython3",
   "version": "3.9.13"
  }
 },
 "nbformat": 4,
 "nbformat_minor": 5
}
