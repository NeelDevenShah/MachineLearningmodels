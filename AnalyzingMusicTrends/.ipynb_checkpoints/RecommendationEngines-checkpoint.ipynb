{
 "cells": [
  {
   "cell_type": "markdown",
   "id": "a2a170d0-6c27-4458-b667-9bf47f6fcfbf",
   "metadata": {},
   "source": [
    "<h1>Load Necessary Dependencies</h1>"
   ]
  },
  {
   "cell_type": "code",
   "execution_count": 1,
   "id": "8fee8be7-62ba-4b16-84c2-a09f775a0ef2",
   "metadata": {},
   "outputs": [],
   "source": [
    "import pandas as pd\n",
    "import numpy as np\n",
    "import time\n",
    "import sqlite3\n",
    "\n",
    "data_home='./'"
   ]
  },
  {
   "cell_type": "markdown",
   "id": "98316baa-f675-4536-a647-a981b6efec70",
   "metadata": {},
   "source": [
    "<h2>Loading and Processing the datasets</h2>"
   ]
  },
  {
   "cell_type": "code",
   "execution_count": 2,
   "id": "2ac1d0a6-81f9-42c1-9519-aa9bd473649e",
   "metadata": {},
   "outputs": [],
   "source": [
    "triple_dataset = pd.read_csv('train_triplets.txt', nrows=10000, sep='\\t', header=None, names=['user', 'song', 'play_count'])"
   ]
  },
  {
   "cell_type": "code",
   "execution_count": 3,
   "id": "1d58b91b-6137-4cdc-9a44-937598d99891",
   "metadata": {},
   "outputs": [
    {
     "data": {
      "text/html": [
       "<div>\n",
       "<style scoped>\n",
       "    .dataframe tbody tr th:only-of-type {\n",
       "        vertical-align: middle;\n",
       "    }\n",
       "\n",
       "    .dataframe tbody tr th {\n",
       "        vertical-align: top;\n",
       "    }\n",
       "\n",
       "    .dataframe thead th {\n",
       "        text-align: right;\n",
       "    }\n",
       "</style>\n",
       "<table border=\"1\" class=\"dataframe\">\n",
       "  <thead>\n",
       "    <tr style=\"text-align: right;\">\n",
       "      <th></th>\n",
       "      <th>user</th>\n",
       "      <th>song</th>\n",
       "      <th>play_count</th>\n",
       "    </tr>\n",
       "  </thead>\n",
       "  <tbody>\n",
       "    <tr>\n",
       "      <th>0</th>\n",
       "      <td>b80344d063b5ccb3212f76538f3d9e43d87dca9e</td>\n",
       "      <td>SOAKIMP12A8C130995</td>\n",
       "      <td>1</td>\n",
       "    </tr>\n",
       "    <tr>\n",
       "      <th>1</th>\n",
       "      <td>b80344d063b5ccb3212f76538f3d9e43d87dca9e</td>\n",
       "      <td>SOAPDEY12A81C210A9</td>\n",
       "      <td>1</td>\n",
       "    </tr>\n",
       "    <tr>\n",
       "      <th>2</th>\n",
       "      <td>b80344d063b5ccb3212f76538f3d9e43d87dca9e</td>\n",
       "      <td>SOBBMDR12A8C13253B</td>\n",
       "      <td>2</td>\n",
       "    </tr>\n",
       "    <tr>\n",
       "      <th>3</th>\n",
       "      <td>b80344d063b5ccb3212f76538f3d9e43d87dca9e</td>\n",
       "      <td>SOBFNSP12AF72A0E22</td>\n",
       "      <td>1</td>\n",
       "    </tr>\n",
       "    <tr>\n",
       "      <th>4</th>\n",
       "      <td>b80344d063b5ccb3212f76538f3d9e43d87dca9e</td>\n",
       "      <td>SOBFOVM12A58A7D494</td>\n",
       "      <td>1</td>\n",
       "    </tr>\n",
       "    <tr>\n",
       "      <th>5</th>\n",
       "      <td>b80344d063b5ccb3212f76538f3d9e43d87dca9e</td>\n",
       "      <td>SOBNZDC12A6D4FC103</td>\n",
       "      <td>1</td>\n",
       "    </tr>\n",
       "    <tr>\n",
       "      <th>6</th>\n",
       "      <td>b80344d063b5ccb3212f76538f3d9e43d87dca9e</td>\n",
       "      <td>SOBSUJE12A6D4F8CF5</td>\n",
       "      <td>2</td>\n",
       "    </tr>\n",
       "    <tr>\n",
       "      <th>7</th>\n",
       "      <td>b80344d063b5ccb3212f76538f3d9e43d87dca9e</td>\n",
       "      <td>SOBVFZR12A6D4F8AE3</td>\n",
       "      <td>1</td>\n",
       "    </tr>\n",
       "    <tr>\n",
       "      <th>8</th>\n",
       "      <td>b80344d063b5ccb3212f76538f3d9e43d87dca9e</td>\n",
       "      <td>SOBXALG12A8C13C108</td>\n",
       "      <td>1</td>\n",
       "    </tr>\n",
       "    <tr>\n",
       "      <th>9</th>\n",
       "      <td>b80344d063b5ccb3212f76538f3d9e43d87dca9e</td>\n",
       "      <td>SOBXHDL12A81C204C0</td>\n",
       "      <td>1</td>\n",
       "    </tr>\n",
       "  </tbody>\n",
       "</table>\n",
       "</div>"
      ],
      "text/plain": [
       "                                       user                song  play_count\n",
       "0  b80344d063b5ccb3212f76538f3d9e43d87dca9e  SOAKIMP12A8C130995           1\n",
       "1  b80344d063b5ccb3212f76538f3d9e43d87dca9e  SOAPDEY12A81C210A9           1\n",
       "2  b80344d063b5ccb3212f76538f3d9e43d87dca9e  SOBBMDR12A8C13253B           2\n",
       "3  b80344d063b5ccb3212f76538f3d9e43d87dca9e  SOBFNSP12AF72A0E22           1\n",
       "4  b80344d063b5ccb3212f76538f3d9e43d87dca9e  SOBFOVM12A58A7D494           1\n",
       "5  b80344d063b5ccb3212f76538f3d9e43d87dca9e  SOBNZDC12A6D4FC103           1\n",
       "6  b80344d063b5ccb3212f76538f3d9e43d87dca9e  SOBSUJE12A6D4F8CF5           2\n",
       "7  b80344d063b5ccb3212f76538f3d9e43d87dca9e  SOBVFZR12A6D4F8AE3           1\n",
       "8  b80344d063b5ccb3212f76538f3d9e43d87dca9e  SOBXALG12A8C13C108           1\n",
       "9  b80344d063b5ccb3212f76538f3d9e43d87dca9e  SOBXHDL12A81C204C0           1"
      ]
     },
     "execution_count": 3,
     "metadata": {},
     "output_type": "execute_result"
    }
   ],
   "source": [
    "triple_dataset.head(10)"
   ]
  },
  {
   "cell_type": "markdown",
   "id": "65536121-b224-49d2-a9c1-cb372819a7d0",
   "metadata": {},
   "source": [
    "<h>Get User and total play counts</h>"
   ]
  },
  {
   "cell_type": "code",
   "execution_count": 4,
   "id": "86210702-02c9-4306-8ed8-b86366630fe5",
   "metadata": {},
   "outputs": [],
   "source": [
    "output_dict = {}\n",
    "with open('train_triplets.txt') as f:\n",
    "    for line_number, line in enumerate(f):\n",
    "        user = line.split('\\t')[0]\n",
    "        play_count = int(line.split('\\t')[2])\n",
    "        if user in output_dict:\n",
    "            play_count += output_dict[user]\n",
    "            output_dict.update({user:play_count})\n",
    "        output_dict.update({user:play_count})\n",
    "output_list = [{'user':k, 'play_count':v} for k, v in output_dict.items()]\n",
    "play_count_df = pd.DataFrame(output_list)\n",
    "play_count_df = play_count_df.sort_values(by='play_count', ascending=False)"
   ]
  },
  {
   "cell_type": "code",
   "execution_count": 5,
   "id": "60edc3ec-55cb-411f-8e27-cbb8836bea77",
   "metadata": {},
   "outputs": [],
   "source": [
    "play_count_df.to_csv('user_playcount_df.csv', index=False)    "
   ]
  },
  {
   "cell_type": "markdown",
   "id": "ed0f8c19-ece3-4b68-bc78-24c18087841a",
   "metadata": {},
   "source": [
    "<b>Get Song and total play counts</b>"
   ]
  },
  {
   "cell_type": "code",
   "execution_count": 6,
   "id": "41088b53-18f4-4c49-b017-5fbc51c8fea0",
   "metadata": {},
   "outputs": [],
   "source": [
    "output_dict = {}\n",
    "with open('train_triplets.txt') as f:\n",
    "    for line_number, line in enumerate(f):\n",
    "        song = line.split('\\t')[1]\n",
    "        play_count = int(line.split('\\t')[2])\n",
    "        if song in output_dict:\n",
    "            play_count += output_dict[song]\n",
    "            output_dict.update({song:play_count})\n",
    "        output_dict.update({song:play_count})\n",
    "output_list = [{'song':k, 'play_count':v} for k, v in output_dict.items()]\n",
    "song_count_df = pd.DataFrame(output_list)\n",
    "song_count_df = song_count_df.sort_values(by='play_count', ascending=False)"
   ]
  },
  {
   "cell_type": "code",
   "execution_count": 7,
   "id": "0603cabd-a4b2-4042-8b34-7e1d0d4ecd74",
   "metadata": {},
   "outputs": [],
   "source": [
    "song_count_df.to_csv('song_playcount_df.csv', index=False)"
   ]
  },
  {
   "cell_type": "markdown",
   "id": "6a601af4-ee97-42b0-99ee-32ed9214e1ef",
   "metadata": {},
   "source": [
    "<b>View top users and songs</b>"
   ]
  },
  {
   "cell_type": "code",
   "execution_count": null,
   "id": "7e917013-639b-4ebf-9378-d235ea837a7d",
   "metadata": {},
   "outputs": [],
   "source": []
  }
 ],
 "metadata": {
  "kernelspec": {
   "display_name": "Python 3 (ipykernel)",
   "language": "python",
   "name": "python3"
  },
  "language_info": {
   "codemirror_mode": {
    "name": "ipython",
    "version": 3
   },
   "file_extension": ".py",
   "mimetype": "text/x-python",
   "name": "python",
   "nbconvert_exporter": "python",
   "pygments_lexer": "ipython3",
   "version": "3.9.13"
  }
 },
 "nbformat": 4,
 "nbformat_minor": 5
}
