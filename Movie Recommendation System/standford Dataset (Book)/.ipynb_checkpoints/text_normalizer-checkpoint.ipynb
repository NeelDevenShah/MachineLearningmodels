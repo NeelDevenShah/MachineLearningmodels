{
 "cells": [
  {
   "cell_type": "markdown",
   "id": "4057e59a-dc78-4148-9e62-94ba044cb46f",
   "metadata": {},
   "source": [
    "Making/Desgining of the text_normalizer dependency, Which is been stored in the .py file, And we will use it in our main code"
   ]
  },
  {
   "cell_type": "code",
   "execution_count": 1,
   "id": "adf68fac-313a-4397-bffc-b6a31a247f65",
   "metadata": {},
   "outputs": [
    {
     "name": "stderr",
     "output_type": "stream",
     "text": [
      "2022-12-19 21:55:01.146034: I tensorflow/core/platform/cpu_feature_guard.cc:193] This TensorFlow binary is optimized with oneAPI Deep Neural Network Library (oneDNN) to use the following CPU instructions in performance-critical operations:  AVX2 AVX512F AVX512_VNNI FMA\n",
      "To enable them in other operations, rebuild TensorFlow with the appropriate compiler flags.\n",
      "2022-12-19 21:55:01.270733: I tensorflow/core/util/port.cc:104] oneDNN custom operations are on. You may see slightly different numerical results due to floating-point round-off errors from different computation orders. To turn them off, set the environment variable `TF_ENABLE_ONEDNN_OPTS=0`.\n",
      "2022-12-19 21:55:01.273696: W tensorflow/compiler/xla/stream_executor/platform/default/dso_loader.cc:64] Could not load dynamic library 'libcudart.so.11.0'; dlerror: libcudart.so.11.0: cannot open shared object file: No such file or directory\n",
      "2022-12-19 21:55:01.273710: I tensorflow/compiler/xla/stream_executor/cuda/cudart_stub.cc:29] Ignore above cudart dlerror if you do not have a GPU set up on your machine.\n",
      "2022-12-19 21:55:01.747214: W tensorflow/compiler/xla/stream_executor/platform/default/dso_loader.cc:64] Could not load dynamic library 'libnvinfer.so.7'; dlerror: libnvinfer.so.7: cannot open shared object file: No such file or directory\n",
      "2022-12-19 21:55:01.747261: W tensorflow/compiler/xla/stream_executor/platform/default/dso_loader.cc:64] Could not load dynamic library 'libnvinfer_plugin.so.7'; dlerror: libnvinfer_plugin.so.7: cannot open shared object file: No such file or directory\n",
      "2022-12-19 21:55:01.747266: W tensorflow/compiler/tf2tensorrt/utils/py_utils.cc:38] TF-TRT Warning: Cannot dlopen some TensorRT libraries. If you would like to use Nvidia GPU with TensorRT, please make sure the missing libraries mentioned above are installed properly.\n"
     ]
    }
   ],
   "source": [
    "import spacy\n",
    "import pandas as pd\n",
    "import numpy as np\n",
    "import nltk\n",
    "from nltk.tokenize.toktok import ToktokTokenizer\n",
    "import re\n",
    "from bs4 import BeautifulSoup\n",
    "from contractions import CONTRACTION_MAP\n",
    "import unicodedata\n",
    "\n",
    "nlp = spacy.load('en_core_web_sm')\n",
    "tokenizer = ToktokTokenizer()\n",
    "stopword_list = nltk.corpus.stopwords.words('english')\n",
    "stopword_list.remove('no')\n",
    "stopword_list.remove('not')"
   ]
  },
  {
   "cell_type": "code",
   "execution_count": 2,
   "id": "423074f4-3b3d-4fe1-afa4-6596952445b1",
   "metadata": {},
   "outputs": [],
   "source": [
    "# Cleaning Text - Strip HTML\n",
    "def strip_html_tags(text):\n",
    "    soup = BeautifulSoup(text, \"html.parser\")\n",
    "    stripped_text = soup.get_text()\n",
    "    return stripped_text"
   ]
  },
  {
   "cell_type": "code",
   "execution_count": 3,
   "id": "f043536f-088c-4386-8ea5-02d382a09d2b",
   "metadata": {},
   "outputs": [],
   "source": [
    "# Removing accented characters\n",
    "def remove_accented_chars(text):\n",
    "    text = unicodedata.normalize('NFKD', text).encode('ascii', 'ignore').decode('utf-8', 'ignore')\n",
    "    return text"
   ]
  },
  {
   "cell_type": "code",
   "execution_count": 4,
   "id": "a13520d9-8bd4-446a-b18d-edd54a5ab956",
   "metadata": {},
   "outputs": [],
   "source": [
    "# Expanding Contractions\n",
    "def expand_contractions(text, contraction_mapping=CONTRACTION_MAP):\n",
    "    \n",
    "    contractions_pattern = re.compile('({})'.format('|'.join(contraction_mapping.keys())), flags=re.IGNORECASE|re.DOTALL)\n",
    "    def expand_match(contraction):\n",
    "        match = contraction.group(0)\n",
    "        first_char = match[0]\n",
    "        expanded_contraction = contraction_mapping.get(match)\\\n",
    "                                if contraction_mapping.get(match)\\\n",
    "                                else contraction_mapping.get(match.lower())                       \n",
    "        expanded_contraction = first_char+expanded_contraction[1:]\n",
    "        return expanded_contraction\n",
    "        \n",
    "    expanded_text = contractions_pattern.sub(expand_match, text)\n",
    "    expanded_text = re.sub(\"'\", \"\", expanded_text)\n",
    "    return expanded_text"
   ]
  },
  {
   "cell_type": "code",
   "execution_count": 5,
   "id": "5d735fda-f6c5-4c41-80a7-a843f505ad4e",
   "metadata": {},
   "outputs": [],
   "source": [
    "# Removing Special Characters\n",
    "def remove_special_characters(text):\n",
    "    text = re.sub('[^a-zA-z0-9]', '', text)\n",
    "    return text"
   ]
  },
  {
   "cell_type": "code",
   "execution_count": 6,
   "id": "afa5177b-9074-42c8-a215-6937e0d6cefa",
   "metadata": {},
   "outputs": [],
   "source": [
    "# Lemmatizing Text\n",
    "def lemmatize_text(text):\n",
    "    text = nlp(text)\n",
    "    text = ' '.join([word.lemma_ if word.lemma_ != '-PRON-' else word.text for word in text])\n",
    "    return text"
   ]
  },
  {
   "cell_type": "code",
   "execution_count": 7,
   "id": "bbff765d-d925-46f6-b1e7-e35eec484705",
   "metadata": {},
   "outputs": [],
   "source": [
    "# Removing Stopwords\n",
    "def remove_stopwords(text, is_lower_case=False):\n",
    "    tokens = tokenizer.tokenize(text)\n",
    "    tokens = [token.strip() for token in tokens]\n",
    "    if is_lower_case:\n",
    "        filtered_tokens = [token for token in tokens if token not in stopword_list]\n",
    "    else:\n",
    "        filtered_tokens = [token for token in tokens if token.lower() not in stopword_list]\n",
    "    filtered_text = ' '.join(filtered_tokens)\n",
    "    return filtered_text"
   ]
  },
  {
   "cell_type": "code",
   "execution_count": 8,
   "id": "ef7e1616-cd29-4879-bf82-6bba349a28e9",
   "metadata": {},
   "outputs": [],
   "source": [
    "# Normalize text corpus - tying it all together\n",
    "def normalize_corpus(corpus, html_stripping=True, contraction_expansion=True, accented_char_removal=True, text_lower_case=True, text_lemmatization=True, special_char_removal=True, stopword_removal=True):\n",
    "    normalize_corpus = []\n",
    "    # Normalize each document in the corpus\n",
    "    for doc in corpus:\n",
    "        # Strip HTML\n",
    "        if html_stripping:\n",
    "            doc = strip_html_tags(doc)\n",
    "        # Remove accented Characters\n",
    "        if accented_char_removal:\n",
    "            doc = remove_accented_chars(doc)\n",
    "        # Expand contractions\n",
    "        if contraction_expansion:\n",
    "            doc = expand_contractions(doc)\n",
    "        # Lowercase the text\n",
    "        if text_lower_case:\n",
    "            doc = doc.lower()\n",
    "        # Removing extra newlines\n",
    "        doc = re.sub(r'[\\r|\\n|\\r\\n]+', ' ', doc)\n",
    "        # Insert spaces between special characters to isolate them\n",
    "        special_char_pattern = re.compile(r'([{.(-)!}])')\n",
    "        doc = special_char_pattern.sub(\" \\\\1 \", doc)\n",
    "        # lemmatize text\n",
    "        if text_lemmatization:\n",
    "            doc = lemmatize_text(doc)\n",
    "        # Remove special characters\n",
    "        if special_char_removal:\n",
    "            doc = remove_special_characters(doc)\n",
    "        # Remove extra whitespaces\n",
    "        doc = re.sub(' +', ' ', doc)\n",
    "        # Remove stopwords\n",
    "        if stopword_removal:\n",
    "            doc = remove_stopwords(doc, is_lower_case=text_lower_case)\n",
    "            \n",
    "        normalize_corpus.append(doc)\n",
    "        \n",
    "    return normalize_corpus"
   ]
  },
  {
   "cell_type": "code",
   "execution_count": 9,
   "id": "33634828-b4a1-4ae9-8587-64dd1370792c",
   "metadata": {},
   "outputs": [
    {
     "data": {
      "text/plain": [
       "['HelloHellocanyouhearmeIjustheardaboutPythonItisanamazinglanguagewhichcanbeusedforScriptingWebdevelopmentInformationRetrievalNaturalLanguageProcessingMachineLearningArtificialIntelligenceWhatareyouwaitingforGoandgetstartedHeislearningsheislearningtheyhavealreadygotaheadstart']"
      ]
     },
     "execution_count": 9,
     "metadata": {},
     "output_type": "execute_result"
    }
   ],
   "source": [
    "# Sample Demo\n",
    "document = \"\"\"\n",
    "Héllo! Héllo! can you hear me! I just heard about Python!\n",
    "\n",
    "\\r\\n \n",
    "              It's an amazing language which can be used for Scripting, Web development,\\r\\n\\r\\n\n",
    "              Information Retrieval, Natural Language Processing, Machine Learning & Artificial Intelligence!\\n\n",
    "              What are you waiting for? Go and get started.\n",
    " He's learning, she's learning, they've already\\n\\n\n",
    "              got a headstart!\n",
    "           \"\"\"\n",
    "\n",
    "normalize_corpus([document], text_lemmatization=False, stopword_removal=False, text_lower_case=False)"
   ]
  },
  {
   "cell_type": "code",
   "execution_count": 10,
   "id": "8fe2b10d-f98b-41e6-8544-f37dbb5c1a19",
   "metadata": {},
   "outputs": [
    {
     "data": {
      "text/plain": [
       "['hellohellocanyouhearIIjusthearaboutpythonitbeanamazinglanguagewhichcanbeuseforscriptingwebdevelopmentinformationretrievalnaturallanguageprocessingmachinelearningartificialintelligencewhatbeyouwaitforgoandgetstarthebelearnshebelearntheyhavealreadygetaheadstart']"
      ]
     },
     "execution_count": 10,
     "metadata": {},
     "output_type": "execute_result"
    }
   ],
   "source": [
    "normalize_corpus([document])"
   ]
  }
 ],
 "metadata": {
  "kernelspec": {
   "display_name": "Python 3 (ipykernel)",
   "language": "python",
   "name": "python3"
  },
  "language_info": {
   "codemirror_mode": {
    "name": "ipython",
    "version": 3
   },
   "file_extension": ".py",
   "mimetype": "text/x-python",
   "name": "python",
   "nbconvert_exporter": "python",
   "pygments_lexer": "ipython3",
   "version": "3.9.13"
  }
 },
 "nbformat": 4,
 "nbformat_minor": 5
}
