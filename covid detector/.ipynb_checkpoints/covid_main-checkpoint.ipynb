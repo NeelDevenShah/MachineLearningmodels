{
 "cells": [
  {
   "cell_type": "code",
   "execution_count": 1,
   "id": "3cb88724-0aec-4b03-81db-786357909197",
   "metadata": {},
   "outputs": [
    {
     "name": "stderr",
     "output_type": "stream",
     "text": [
      "2023-02-25 23:35:39.777983: I tensorflow/core/platform/cpu_feature_guard.cc:193] This TensorFlow binary is optimized with oneAPI Deep Neural Network Library (oneDNN) to use the following CPU instructions in performance-critical operations:  AVX2 AVX512F AVX512_VNNI FMA\n",
      "To enable them in other operations, rebuild TensorFlow with the appropriate compiler flags.\n",
      "2023-02-25 23:35:40.051331: I tensorflow/core/util/port.cc:104] oneDNN custom operations are on. You may see slightly different numerical results due to floating-point round-off errors from different computation orders. To turn them off, set the environment variable `TF_ENABLE_ONEDNN_OPTS=0`.\n",
      "2023-02-25 23:35:40.102764: W tensorflow/compiler/xla/stream_executor/platform/default/dso_loader.cc:64] Could not load dynamic library 'libcudart.so.11.0'; dlerror: libcudart.so.11.0: cannot open shared object file: No such file or directory\n",
      "2023-02-25 23:35:40.102783: I tensorflow/compiler/xla/stream_executor/cuda/cudart_stub.cc:29] Ignore above cudart dlerror if you do not have a GPU set up on your machine.\n",
      "2023-02-25 23:35:41.002160: W tensorflow/compiler/xla/stream_executor/platform/default/dso_loader.cc:64] Could not load dynamic library 'libnvinfer.so.7'; dlerror: libnvinfer.so.7: cannot open shared object file: No such file or directory\n",
      "2023-02-25 23:35:41.002229: W tensorflow/compiler/xla/stream_executor/platform/default/dso_loader.cc:64] Could not load dynamic library 'libnvinfer_plugin.so.7'; dlerror: libnvinfer_plugin.so.7: cannot open shared object file: No such file or directory\n",
      "2023-02-25 23:35:41.002233: W tensorflow/compiler/tf2tensorrt/utils/py_utils.cc:38] TF-TRT Warning: Cannot dlopen some TensorRT libraries. If you would like to use Nvidia GPU with TensorRT, please make sure the missing libraries mentioned above are installed properly.\n"
     ]
    }
   ],
   "source": [
    "import numpy as np\n",
    "import pandas as pd\n",
    "from pathlib import Path\n",
    "\n",
    "from keras.preprocessing import image\n",
    "from keras.applications import vgg16\n",
    "from keras.utils import load_img\n",
    "from keras.utils import img_to_array\n",
    "import joblib"
   ]
  },
  {
   "cell_type": "code",
   "execution_count": 2,
   "id": "c5f239ab-a43d-4022-84d9-2bb38cc2353e",
   "metadata": {},
   "outputs": [
    {
     "name": "stdout",
     "output_type": "stream",
     "text": [
      "adding on\n"
     ]
    }
   ],
   "source": [
    "covid_pneumonia = Path('./archive/Data/train/covid_with_PNEUMONIA/')\n",
    "covid_non_pneumonia = Path('./archive/Data/train/covid_without_PNEUMONIA/')\n",
    "images = []\n",
    "labels = []\n",
    "print('adding on')\n",
    "\n",
    "# 1 => Covid_pneumonia\n",
    "# 2 => covid_non_pneumonia\n",
    "\n",
    "for i in covid_pneumonia.glob(\"*.jpeg\"):\n",
    "    image_data = load_img(i, target_size=(700, 700))\n",
    "    i_array = img_to_array(image_data)\n",
    "    images.append(i_array)\n",
    "    labels.append(1)\n",
    "    \n",
    "for i in covid_non_pneumonia.glob(\"*.jpeg\"):\n",
    "    image_data = load_img(i, target_size=(700, 700))\n",
    "    i_array = img_to_array(image_data)\n",
    "    images.append(i_array)\n",
    "    labels.append(0)"
   ]
  },
  {
   "cell_type": "code",
   "execution_count": 3,
   "id": "37d42a42-260f-421d-8f04-1218d92c772d",
   "metadata": {},
   "outputs": [],
   "source": [
    "x_train = np.array(images)\n",
    "y_train = np.array(labels)"
   ]
  },
  {
   "cell_type": "code",
   "execution_count": null,
   "id": "ecf089c4-e41a-4f2e-a2dd-4c2db84931fc",
   "metadata": {},
   "outputs": [
    {
     "name": "stderr",
     "output_type": "stream",
     "text": [
      "2023-02-25 23:36:03.876512: W tensorflow/compiler/xla/stream_executor/platform/default/dso_loader.cc:64] Could not load dynamic library 'libcuda.so.1'; dlerror: libcuda.so.1: cannot open shared object file: No such file or directory\n",
      "2023-02-25 23:36:03.876816: W tensorflow/compiler/xla/stream_executor/cuda/cuda_driver.cc:265] failed call to cuInit: UNKNOWN ERROR (303)\n",
      "2023-02-25 23:36:03.877503: I tensorflow/compiler/xla/stream_executor/cuda/cuda_diagnostics.cc:156] kernel driver does not appear to be running on this host (pop-os): /proc/driver/nvidia/version does not exist\n",
      "2023-02-25 23:36:03.881883: I tensorflow/core/platform/cpu_feature_guard.cc:193] This TensorFlow binary is optimized with oneAPI Deep Neural Network Library (oneDNN) to use the following CPU instructions in performance-critical operations:  AVX2 AVX512F AVX512_VNNI FMA\n",
      "To enable them in other operations, rebuild TensorFlow with the appropriate compiler flags.\n"
     ]
    }
   ],
   "source": [
    "x_train = vgg16.preprocess_input(x_train)\n",
    "pretrained_model= vgg16.VGG16(weights=\"./vgg16_weights_tf_dim_ordering_tf_kernels_notop.h5\",input_shape=(700,700,3),include_top=False)\n",
    "\n",
    "features_x= pretrained_model.predict(x_train)\n",
    "\n",
    "print('pretraining is done............................')"
   ]
  },
  {
   "cell_type": "code",
   "execution_count": 1,
   "id": "b48c78dd-a07f-4547-88ee-75d6c9d3e36b",
   "metadata": {},
   "outputs": [
    {
     "name": "stderr",
     "output_type": "stream",
     "text": [
      "2023-02-26 00:13:31.259265: W tensorflow/compiler/xla/stream_executor/platform/default/dso_loader.cc:64] Could not load dynamic library 'libcuda.so.1'; dlerror: libcuda.so.1: cannot open shared object file: No such file or directory\n",
      "2023-02-26 00:13:31.259286: W tensorflow/compiler/xla/stream_executor/cuda/cuda_driver.cc:265] failed call to cuInit: UNKNOWN ERROR (303)\n",
      "2023-02-26 00:13:31.259304: I tensorflow/compiler/xla/stream_executor/cuda/cuda_diagnostics.cc:156] kernel driver does not appear to be running on this host (pop-os): /proc/driver/nvidia/version does not exist\n",
      "2023-02-26 00:13:31.259504: I tensorflow/core/platform/cpu_feature_guard.cc:193] This TensorFlow binary is optimized with oneAPI Deep Neural Network Library (oneDNN) to use the following CPU instructions in performance-critical operations:  AVX2 AVX512F AVX512_VNNI FMA\n",
      "To enable them in other operations, rebuild TensorFlow with the appropriate compiler flags.\n"
     ]
    },
    {
     "ename": "NameError",
     "evalue": "name 'features_x' is not defined",
     "output_type": "error",
     "traceback": [
      "\u001b[0;31m---------------------------------------------------------------------------\u001b[0m",
      "\u001b[0;31mNameError\u001b[0m                                 Traceback (most recent call last)",
      "\u001b[0;32m/tmp/ipykernel_58675/2291240102.py\u001b[0m in \u001b[0;36m<module>\u001b[0;34m\u001b[0m\n\u001b[1;32m     15\u001b[0m \u001b[0;34m\u001b[0m\u001b[0m\n\u001b[1;32m     16\u001b[0m \u001b[0;31m# Train the model\u001b[0m\u001b[0;34m\u001b[0m\u001b[0;34m\u001b[0m\u001b[0m\n\u001b[0;32m---> 17\u001b[0;31m \u001b[0mmodel\u001b[0m\u001b[0;34m.\u001b[0m\u001b[0mfit\u001b[0m\u001b[0;34m(\u001b[0m\u001b[0mfeatures_x\u001b[0m\u001b[0;34m,\u001b[0m \u001b[0my_train\u001b[0m\u001b[0;34m,\u001b[0m \u001b[0mepochs\u001b[0m\u001b[0;34m=\u001b[0m\u001b[0;36m10\u001b[0m\u001b[0;34m,\u001b[0m \u001b[0mshuffle\u001b[0m\u001b[0;34m=\u001b[0m\u001b[0;32mTrue\u001b[0m\u001b[0;34m)\u001b[0m\u001b[0;34m\u001b[0m\u001b[0;34m\u001b[0m\u001b[0m\n\u001b[0m\u001b[1;32m     18\u001b[0m \u001b[0;34m\u001b[0m\u001b[0m\n\u001b[1;32m     19\u001b[0m \u001b[0mmodel_structure\u001b[0m \u001b[0;34m=\u001b[0m \u001b[0mmodel\u001b[0m\u001b[0;34m.\u001b[0m\u001b[0mto_json\u001b[0m\u001b[0;34m(\u001b[0m\u001b[0;34m)\u001b[0m\u001b[0;34m\u001b[0m\u001b[0;34m\u001b[0m\u001b[0m\n",
      "\u001b[0;31mNameError\u001b[0m: name 'features_x' is not defined"
     ]
    }
   ],
   "source": [
    "from keras.models import Sequential\n",
    "from keras.layers import Dense, Dropout, Flatten\n",
    "\n",
    "model = Sequential()\n",
    "model.add(Flatten())\n",
    "model.add(Dense(256, activation=\"relu\"))\n",
    "model.add(Dropout(0.5))\n",
    "model.add(Dense(1, activation=\"sigmoid\"))\n",
    "\n",
    "model.compile(\n",
    "    loss=\"binary_crossentropy\",\n",
    "    optimizer=\"adam\",\n",
    "    metrics=[\"accuracy\"]\n",
    ")\n",
    "\n",
    "# Train the model\n",
    "model.fit(features_x, y_train, epochs=10, shuffle=True)\n",
    "\n",
    "model_structure = model.to_json()\n",
    "f = Path(\"./pretrained_model_weights.h5\")\n",
    "print(\"Model is saved\")"
   ]
  },
  {
   "cell_type": "code",
   "execution_count": null,
   "id": "5f74d837-78f0-468a-a7f3-123bd9f206db",
   "metadata": {},
   "outputs": [],
   "source": [
    "img= image.load_img('../input/covid-wwo-pneumonia-chest-xray/Data/test/covid_with_PNEUMONIA/cwp(1).jpeg',target_size=(700,700))\n",
    "img_arr= image.img_to_array(img)\n",
    "img_arr= vgg16.preprocess_input(img_arr)\n",
    "features_extracted_model= vgg16.VGG16(weights=\"imagenet\",input_shape=(700,700,3),include_top=False)\n",
    "img_arr= np.expand_dims(img_arr,axis=0)\n",
    "features=features_extracted_model.predict(img_arr)\n",
    "z = {0:'covid_non_pneumonia',1:'Covid_pneumonia'}\n",
    "print('The predicted analysis for image is ',z[int(model.predict(features)[0])])"
   ]
  },
  {
   "cell_type": "code",
   "execution_count": null,
   "id": "4cc97579-d21b-4348-bb65-0e370f2335fa",
   "metadata": {},
   "outputs": [],
   "source": [
    "covid_pneumonia= Path(\"../input/covid-wwo-pneumonia-chest-xray/Data/test/covid_with_PNEUMONIA\")\n",
    "covid_non_pneumonia=Path(\"../input/covid-wwo-pneumonia-chest-xray/Data/test/covid_without_PNEUMONIA\")\n",
    "images=[]\n",
    "labels=[]\n",
    "print('checking test data...........')\n",
    "\n",
    "# 0 => Covid_pneumonia\n",
    "# 1 => covid_non_pneumonia\n",
    "\n",
    "for i in covid_pneumonia.glob(\"*.jpeg\"):\n",
    "    image_data= image.load_img(i,target_size=(700,700))\n",
    "    i_array= image.img_to_array(image_data)\n",
    "    images.append(i_array)\n",
    "    labels.append(1)\n",
    "\n",
    "for i in covid_non_pneumonia.glob(\"*.jpeg\"):\n",
    "    \n",
    "    \n",
    "    image_data= image.load_img(i,target_size=(700,700))\n",
    "    i_array= image.img_to_array(image_data)\n",
    "    images.append(i_array)\n",
    "    labels.append(0)\n",
    "\n",
    "x_test= np.array(images)\n",
    "y_test= np.array(labels)\n",
    "#call vgg16 model\n",
    "x_test = vgg16.preprocess_input(x_test)\n",
    "pretrained_model= vgg16.VGG16(weights=\"../input/vgg16-weights/vgg16_weights_tf_dim_ordering_tf_kernels_notop.h5\",input_shape=(700,700,3),include_top=False)\n",
    "features_x= pretrained_model.predict(x_test)\n",
    "\n",
    "score = model.evaluate(features_x,y_test,verbose=0)\n",
    "\n",
    "print(f'Test accuracy of model is {str(score[1])}')"
   ]
  }
 ],
 "metadata": {
  "kernelspec": {
   "display_name": "Python 3 (ipykernel)",
   "language": "python",
   "name": "python3"
  },
  "language_info": {
   "codemirror_mode": {
    "name": "ipython",
    "version": 3
   },
   "file_extension": ".py",
   "mimetype": "text/x-python",
   "name": "python",
   "nbconvert_exporter": "python",
   "pygments_lexer": "ipython3",
   "version": "3.9.13"
  }
 },
 "nbformat": 4,
 "nbformat_minor": 5
}
