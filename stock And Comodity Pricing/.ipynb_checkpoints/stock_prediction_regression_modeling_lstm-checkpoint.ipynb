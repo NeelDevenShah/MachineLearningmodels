{
 "cells": [
  {
   "cell_type": "code",
   "execution_count": 4,
   "id": "a76c96c7-7afe-4847-8cd7-1271764fd228",
   "metadata": {},
   "outputs": [
    {
     "ename": "ModuleNotFoundError",
     "evalue": "No module named 'keras.layers.wrappers'",
     "output_type": "error",
     "traceback": [
      "\u001b[0;31m---------------------------------------------------------------------------\u001b[0m",
      "\u001b[0;31mModuleNotFoundError\u001b[0m                       Traceback (most recent call last)",
      "\u001b[0;32m/tmp/ipykernel_32533/3446817009.py\u001b[0m in \u001b[0;36m<module>\u001b[0;34m\u001b[0m\n\u001b[1;32m      9\u001b[0m \u001b[0;34m\u001b[0m\u001b[0m\n\u001b[1;32m     10\u001b[0m \u001b[0;32mimport\u001b[0m \u001b[0mkeras\u001b[0m\u001b[0;34m\u001b[0m\u001b[0;34m\u001b[0m\u001b[0m\n\u001b[0;32m---> 11\u001b[0;31m \u001b[0;32mfrom\u001b[0m \u001b[0mlstm_utils\u001b[0m \u001b[0;32mimport\u001b[0m \u001b[0mget_raw_data\u001b[0m\u001b[0;34m\u001b[0m\u001b[0;34m\u001b[0m\u001b[0m\n\u001b[0m\u001b[1;32m     12\u001b[0m \u001b[0;32mfrom\u001b[0m \u001b[0mlstm_utils\u001b[0m \u001b[0;32mimport\u001b[0m \u001b[0mget_reg_model\u001b[0m\u001b[0;34m\u001b[0m\u001b[0;34m\u001b[0m\u001b[0m\n\u001b[1;32m     13\u001b[0m \u001b[0;32mfrom\u001b[0m \u001b[0mlstm_utils\u001b[0m \u001b[0;32mimport\u001b[0m \u001b[0mplot_reg_results\u001b[0m\u001b[0;34m\u001b[0m\u001b[0;34m\u001b[0m\u001b[0m\n",
      "\u001b[0;32m~/Desktop/neel/Projects/MachineLearningmodels/stock And Comodity Pricing/lstm_utils.py\u001b[0m in \u001b[0;36m<module>\u001b[0;34m\u001b[0m\n\u001b[1;32m      6\u001b[0m \u001b[0;32mfrom\u001b[0m \u001b[0mkeras\u001b[0m\u001b[0;34m.\u001b[0m\u001b[0mlayers\u001b[0m \u001b[0;32mimport\u001b[0m \u001b[0mLSTM\u001b[0m\u001b[0;34m\u001b[0m\u001b[0;34m\u001b[0m\u001b[0m\n\u001b[1;32m      7\u001b[0m \u001b[0;32mfrom\u001b[0m \u001b[0mkeras\u001b[0m\u001b[0;34m.\u001b[0m\u001b[0mmodels\u001b[0m \u001b[0;32mimport\u001b[0m \u001b[0mSequential\u001b[0m\u001b[0;34m\u001b[0m\u001b[0;34m\u001b[0m\u001b[0m\n\u001b[0;32m----> 8\u001b[0;31m \u001b[0;32mfrom\u001b[0m \u001b[0mkeras\u001b[0m\u001b[0;34m.\u001b[0m\u001b[0mlayers\u001b[0m\u001b[0;34m.\u001b[0m\u001b[0mwrappers\u001b[0m \u001b[0;32mimport\u001b[0m \u001b[0mTimeDistributed\u001b[0m\u001b[0;34m\u001b[0m\u001b[0;34m\u001b[0m\u001b[0m\n\u001b[0m\u001b[1;32m      9\u001b[0m \u001b[0;32mfrom\u001b[0m \u001b[0mkeras\u001b[0m\u001b[0;34m.\u001b[0m\u001b[0mlayers\u001b[0m\u001b[0;34m.\u001b[0m\u001b[0mcore\u001b[0m \u001b[0;32mimport\u001b[0m \u001b[0mDense\u001b[0m\u001b[0;34m,\u001b[0m \u001b[0mActivation\u001b[0m\u001b[0;34m,\u001b[0m \u001b[0mDropout\u001b[0m\u001b[0;34m\u001b[0m\u001b[0;34m\u001b[0m\u001b[0m\n\u001b[1;32m     10\u001b[0m \u001b[0;34m\u001b[0m\u001b[0m\n",
      "\u001b[0;31mModuleNotFoundError\u001b[0m: No module named 'keras.layers.wrappers'"
     ]
    }
   ],
   "source": [
    "%matplotlib inline\n",
    "\n",
    "import math\n",
    "import warnings\n",
    "import numpy as np\n",
    "\n",
    "# Specify to ignore warning messages\n",
    "warnings.filterwarnings(\"ignore\")\n",
    "\n",
    "import keras\n",
    "from lstm_utils import get_raw_data\n",
    "from lstm_utils import get_reg_model\n",
    "from lstm_utils import plot_reg_results\n",
    "from lstm_utils import get_reg_train_test\n",
    "from lstm_utils import predict_reg_multiple\n",
    "\n",
    "from sklearn.metrics import mean_squared_error"
   ]
  },
  {
   "cell_type": "code",
   "execution_count": null,
   "id": "ee6176fb-f9fe-41d3-b934-6cd1e1c10065",
   "metadata": {},
   "outputs": [],
   "source": [
    "import seaborn as sns\n",
    "import matplotlib.pyplot as plt\n",
    "\n",
    "sns.set_style('whitegrid')\n",
    "sns.set_context('talk')\n",
    "\n",
    "params = {'legend.fontsize': 'x-large',\n",
    "          'figure.figsize': (15, 5),\n",
    "          'axes.labelsize': 'x-large',\n",
    "          'axes.titlesize':'x-large',\n",
    "          'xtick.labelsize':'x-large',\n",
    "          'ytick.labelsize':'x-large'}\n",
    "\n",
    "plt.rcParams.update(params)"
   ]
  },
  {
   "cell_type": "markdown",
   "id": "3b88cc5d-754c-4cad-a06b-743322eeec29",
   "metadata": {},
   "source": [
    "<h2>Set Parameters</h2>"
   ]
  },
  {
   "cell_type": "code",
   "execution_count": null,
   "id": "f76ff370-7963-4d6d-94dd-c32b36d10dec",
   "metadata": {},
   "outputs": [],
   "source": [
    "WINDOW = 6\n",
    "PRED_LENGTH = int(WINDIW/2)\n",
    "STOCK_INDEX = '^GSPC'"
   ]
  },
  {
   "cell_type": "markdown",
   "id": "6161687a-06ee-4ee4-b02a-edd13286d829",
   "metadata": {},
   "source": [
    "<h3>Getting Data</h3>"
   ]
  },
  {
   "cell_type": "code",
   "execution_count": null,
   "id": "659913dc-aadd-4c39-b363-9dcf702bef6f",
   "metadata": {},
   "outputs": [],
   "source": [
    "sp_df = get_raw_data(STOCK_INDEX)\n",
    "sp_close_series = sp_df.Close\n",
    "\n",
    "sp_close_series.plot()"
   ]
  },
  {
   "cell_type": "markdown",
   "id": "75881721-d635-4441-801d-25220acc86ef",
   "metadata": {},
   "source": [
    "<h2>Preprocessing Data</h2>"
   ]
  },
  {
   "cell_type": "code",
   "execution_count": 6,
   "id": "36cb109c-c84e-4eb2-bf73-b20c68f43002",
   "metadata": {},
   "outputs": [
    {
     "ename": "NameError",
     "evalue": "name 'get_reg_train_test' is not defined",
     "output_type": "error",
     "traceback": [
      "\u001b[0;31m---------------------------------------------------------------------------\u001b[0m",
      "\u001b[0;31mNameError\u001b[0m                                 Traceback (most recent call last)",
      "\u001b[0;32m/tmp/ipykernel_32533/3188872906.py\u001b[0m in \u001b[0;36m<module>\u001b[0;34m\u001b[0m\n\u001b[0;32m----> 1\u001b[0;31m \u001b[0mx_train\u001b[0m\u001b[0;34m,\u001b[0m \u001b[0my_train\u001b[0m\u001b[0;34m,\u001b[0m \u001b[0mx_test\u001b[0m\u001b[0;34m,\u001b[0m \u001b[0my_test\u001b[0m\u001b[0;34m,\u001b[0m \u001b[0mscaler\u001b[0m \u001b[0;34m=\u001b[0m \u001b[0mget_reg_train_test\u001b[0m\u001b[0;34m(\u001b[0m\u001b[0msp_close_series\u001b[0m\u001b[0;34m,\u001b[0m \u001b[0msequence_length\u001b[0m\u001b[0;34m=\u001b[0m\u001b[0mWINDOW\u001b[0m\u001b[0;34m+\u001b[0m\u001b[0;36m1\u001b[0m\u001b[0;34m,\u001b[0m \u001b[0mroll_mean_window\u001b[0m\u001b[0;34m=\u001b[0m\u001b[0;32mNone\u001b[0m\u001b[0;34m,\u001b[0m \u001b[0mnormalize\u001b[0m\u001b[0;34m=\u001b[0m\u001b[0;32mTrue\u001b[0m\u001b[0;34m,\u001b[0m \u001b[0mscale\u001b[0m\u001b[0;34m=\u001b[0m\u001b[0;32mFalse\u001b[0m\u001b[0;34m)\u001b[0m\u001b[0;34m\u001b[0m\u001b[0;34m\u001b[0m\u001b[0m\n\u001b[0m\u001b[1;32m      2\u001b[0m \u001b[0;34m\u001b[0m\u001b[0m\n\u001b[1;32m      3\u001b[0m \u001b[0mprint\u001b[0m\u001b[0;34m(\u001b[0m\u001b[0;34m\"Data Split Complete\"\u001b[0m\u001b[0;34m)\u001b[0m\u001b[0;34m\u001b[0m\u001b[0;34m\u001b[0m\u001b[0m\n\u001b[1;32m      4\u001b[0m \u001b[0;34m\u001b[0m\u001b[0m\n\u001b[1;32m      5\u001b[0m \u001b[0mprint\u001b[0m\u001b[0;34m(\u001b[0m\u001b[0;34m\"x_train shape={}\"\u001b[0m\u001b[0;34m.\u001b[0m\u001b[0mformat\u001b[0m\u001b[0;34m(\u001b[0m\u001b[0mx_train\u001b[0m\u001b[0;34m.\u001b[0m\u001b[0mshape\u001b[0m\u001b[0;34m)\u001b[0m\u001b[0;34m)\u001b[0m\u001b[0;34m\u001b[0m\u001b[0;34m\u001b[0m\u001b[0m\n",
      "\u001b[0;31mNameError\u001b[0m: name 'get_reg_train_test' is not defined"
     ]
    }
   ],
   "source": [
    "x_train, y_train, x_test, y_test, scaler = get_reg_train_test(sp_close_series, sequence_length=WINDOW+1, roll_mean_window=None, normalize=True, scale=False)\n",
    "\n",
    "print(\"Data Split Complete\")\n",
    "\n",
    "print(\"x_train shape={}\".format(x_train.shape))\n",
    "print(\"x_train shape={}\".format(y_train.shape))\n",
    "print(\"x_test shape={}\".format(x_test.shape))\n",
    "print(\"x_test shape={}\".format(t_test.shape))"
   ]
  },
  {
   "cell_type": "markdown",
   "id": "8c276bac-0b17-42cb-9492-60cab1c57f10",
   "metadata": {},
   "source": [
    "<h2>Prepare LSTM Model</h2>"
   ]
  },
  {
   "cell_type": "code",
   "execution_count": null,
   "id": "afc879dc-50f5-4abb-8d72-a7c4313df76a",
   "metadata": {},
   "outputs": [],
   "source": [
    "lstm_model=None\n",
    "try:\n",
    "    lstm_model = get_reg_model(layer_units=[50, 100], window_size=WINDOW)\n",
    "except:\n",
    "    print(\"Model Build Falied. Trying Again\")\n",
    "    lstm_model = get_reg_model(layer_units=[50, 100], window_size=WINDOW)"
   ]
  },
  {
   "cell_type": "markdown",
   "id": "54618be5-841d-47c2-9ded-ce57ff643844",
   "metadata": {},
   "source": [
    "<h2>Fit the model</h2>"
   ]
  },
  {
   "cell_type": "code",
   "execution_count": null,
   "id": "dd6dbdc6-760c-4d0e-9095-de8a6254e90e",
   "metadata": {},
   "outputs": [],
   "source": [
    "# Use early stopping to avoid overfitting\n",
    "call_backs = [keras.callbacks.EarlyStopping(monitor='val_loss', patience=2, verbose=0)]\n",
    "lstm_model.fit(x_train, y_train, epochs=20, batch_size=16, verbose=1, validation_split=0.05, callbacks=callbacks)\n",
    "print(\"Model Fit Complete\")"
   ]
  },
  {
   "cell_type": "markdown",
   "id": "fdec2333-f302-4f56-bc1b-9655af79b93a",
   "metadata": {},
   "source": [
    "<h2>Train Prediction Performance</h2>"
   ]
  },
  {
   "cell_type": "code",
   "execution_count": null,
   "id": "f5b2ad97-3df7-4027-8da8-19da8c8a8b83",
   "metadata": {},
   "outputs": [],
   "source": [
    "test_pred_seqs = predict_reg_multiple(lstm_model, x_test, window_size=WINDOW,\n",
    "                                      prediction_len=PRED_LENGTH)\n",
    "test_offset = y_test.shape[0] - np.array(test_pred_seqs).flatten().shape[0]\n",
    "\n",
    "test_rmse = math.sqrt(mean_squared_error(y_test[test_offset:], \n",
    "                                          np.array(test_pred_seqs).\\\n",
    "                                          flatten()))\n",
    "print('Test Score: %.2f RMSE' % (test_rmse))"
   ]
  },
  {
   "cell_type": "markdown",
   "id": "97a778a2-3bd7-4cba-b0c0-809088b99934",
   "metadata": {},
   "source": [
    "<h3>Plot Test Predicitions</h3>"
   ]
  },
  {
   "cell_type": "code",
   "execution_count": null,
   "id": "48845466-fbc6-4c74-b514-488ebbcbe5fc",
   "metadata": {},
   "outputs": [],
   "source": [
    "plot_reg_results(test_pred_seqs,y_test,prediction_len=PRED_LENGTH)"
   ]
  }
 ],
 "metadata": {
  "kernelspec": {
   "display_name": "Python 3 (ipykernel)",
   "language": "python",
   "name": "python3"
  },
  "language_info": {
   "codemirror_mode": {
    "name": "ipython",
    "version": 3
   },
   "file_extension": ".py",
   "mimetype": "text/x-python",
   "name": "python",
   "nbconvert_exporter": "python",
   "pygments_lexer": "ipython3",
   "version": "3.9.13"
  }
 },
 "nbformat": 4,
 "nbformat_minor": 5
}
