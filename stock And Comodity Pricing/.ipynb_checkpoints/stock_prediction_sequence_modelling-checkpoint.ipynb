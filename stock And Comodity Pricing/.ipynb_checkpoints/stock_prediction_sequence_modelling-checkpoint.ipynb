{
 "cells": [
  {
   "cell_type": "code",
   "execution_count": 1,
   "id": "fd22113b-f742-4c8a-b987-7567543d3703",
   "metadata": {},
   "outputs": [
    {
     "ename": "ModuleNotFoundError",
     "evalue": "No module named 'keras.layers.wrappers'",
     "output_type": "error",
     "traceback": [
      "\u001b[0;31m---------------------------------------------------------------------------\u001b[0m",
      "\u001b[0;31mModuleNotFoundError\u001b[0m                       Traceback (most recent call last)",
      "\u001b[0;32m/tmp/ipykernel_40894/3869540041.py\u001b[0m in \u001b[0;36m<module>\u001b[0;34m\u001b[0m\n\u001b[1;32m      8\u001b[0m \u001b[0mwarnings\u001b[0m\u001b[0;34m.\u001b[0m\u001b[0mfilterwarnings\u001b[0m\u001b[0;34m(\u001b[0m\u001b[0;34m\"ignore\"\u001b[0m\u001b[0;34m)\u001b[0m\u001b[0;34m\u001b[0m\u001b[0;34m\u001b[0m\u001b[0m\n\u001b[1;32m      9\u001b[0m \u001b[0;34m\u001b[0m\u001b[0m\n\u001b[0;32m---> 10\u001b[0;31m \u001b[0;32mfrom\u001b[0m \u001b[0mlstm_utils\u001b[0m \u001b[0;32mimport\u001b[0m \u001b[0mget_raw_data\u001b[0m\u001b[0;34m\u001b[0m\u001b[0;34m\u001b[0m\u001b[0m\n\u001b[0m\u001b[1;32m     11\u001b[0m \u001b[0;32mfrom\u001b[0m \u001b[0mlstm_utils\u001b[0m \u001b[0;32mimport\u001b[0m \u001b[0mget_seq_model\u001b[0m\u001b[0;34m\u001b[0m\u001b[0;34m\u001b[0m\u001b[0m\n\u001b[1;32m     12\u001b[0m \u001b[0;32mfrom\u001b[0m \u001b[0mlstm_utils\u001b[0m \u001b[0;32mimport\u001b[0m \u001b[0mget_reg_train_test\u001b[0m\u001b[0;34m\u001b[0m\u001b[0;34m\u001b[0m\u001b[0m\n",
      "\u001b[0;32m~/Desktop/neel/Projects/MachineLearningmodels/stock And Comodity Pricing/lstm_utils.py\u001b[0m in \u001b[0;36m<module>\u001b[0;34m\u001b[0m\n\u001b[1;32m      6\u001b[0m \u001b[0;32mfrom\u001b[0m \u001b[0mkeras\u001b[0m\u001b[0;34m.\u001b[0m\u001b[0mlayers\u001b[0m \u001b[0;32mimport\u001b[0m \u001b[0mLSTM\u001b[0m\u001b[0;34m\u001b[0m\u001b[0;34m\u001b[0m\u001b[0m\n\u001b[1;32m      7\u001b[0m \u001b[0;32mfrom\u001b[0m \u001b[0mkeras\u001b[0m\u001b[0;34m.\u001b[0m\u001b[0mmodels\u001b[0m \u001b[0;32mimport\u001b[0m \u001b[0mSequential\u001b[0m\u001b[0;34m\u001b[0m\u001b[0;34m\u001b[0m\u001b[0m\n\u001b[0;32m----> 8\u001b[0;31m \u001b[0;32mfrom\u001b[0m \u001b[0mkeras\u001b[0m\u001b[0;34m.\u001b[0m\u001b[0mlayers\u001b[0m\u001b[0;34m.\u001b[0m\u001b[0mwrappers\u001b[0m \u001b[0;32mimport\u001b[0m \u001b[0mTimeDistributed\u001b[0m\u001b[0;34m\u001b[0m\u001b[0;34m\u001b[0m\u001b[0m\n\u001b[0m\u001b[1;32m      9\u001b[0m \u001b[0;32mfrom\u001b[0m \u001b[0mkeras\u001b[0m\u001b[0;34m.\u001b[0m\u001b[0mlayers\u001b[0m\u001b[0;34m.\u001b[0m\u001b[0mcore\u001b[0m \u001b[0;32mimport\u001b[0m \u001b[0mDense\u001b[0m\u001b[0;34m,\u001b[0m \u001b[0mActivation\u001b[0m\u001b[0;34m,\u001b[0m \u001b[0mDropout\u001b[0m\u001b[0;34m\u001b[0m\u001b[0;34m\u001b[0m\u001b[0m\n\u001b[1;32m     10\u001b[0m \u001b[0;34m\u001b[0m\u001b[0m\n",
      "\u001b[0;31mModuleNotFoundError\u001b[0m: No module named 'keras.layers.wrappers'"
     ]
    }
   ],
   "source": [
    "%matplotlib inline\n",
    "\n",
    "import math\n",
    "import warnings\n",
    "import numpy as np\n",
    "\n",
    "# Specify to ignore warning messages\n",
    "warnings.filterwarnings(\"ignore\")\n",
    "\n",
    "from lstm_utils import get_raw_data\n",
    "from lstm_utils import get_seq_model\n",
    "from lstm_utils import get_reg_train_test\n",
    "from keras.preprocessing.sequence import pad_sequence\n",
    "\n",
    "from sklearn.metrics import mean_squared_error"
   ]
  },
  {
   "cell_type": "code",
   "execution_count": null,
   "id": "87ecad54-811a-4b98-b437-ead9b4963ebd",
   "metadata": {},
   "outputs": [],
   "source": [
    "import seaborn as sns\n",
    "import matplotlib.pyplot as plt\n",
    "\n",
    "sns.set_style('whitegrid')\n",
    "sns.set_context('talk')\n",
    "\n",
    "params = {'legend.fontsize': 'x-large',\n",
    "          'figure.figsize': (15, 5),\n",
    "          'axes.labelsize': 'x-large',\n",
    "          'axes.titlesize':'x-large',\n",
    "          'xtick.labelsize':'x-large',\n",
    "          'ytick.labelsize':'x-large'}\n",
    "\n",
    "plt.rcParams.update(params)"
   ]
  },
  {
   "cell_type": "markdown",
   "id": "6bb63e37-a3c0-4e18-a5a3-c3d140df6e9a",
   "metadata": {},
   "source": [
    "<h2>Set Parameters</h2>"
   ]
  },
  {
   "cell_type": "code",
   "execution_count": null,
   "id": "be930b20-5b4c-4634-8fe8-ccafe310b013",
   "metadata": {},
   "outputs": [],
   "source": [
    "TRAIN_PERCENT = 0.7\n",
    "STOCK_INDEX = '^GSPC'\n",
    "VERBOSE = True"
   ]
  },
  {
   "cell_type": "markdown",
   "id": "608873e8-aac8-45d4-8023-d8eb01ca0e23",
   "metadata": {},
   "source": [
    "<h2>Getting Data</h2>"
   ]
  },
  {
   "cell_type": "code",
   "execution_count": null,
   "id": "0d9a47ba-c25f-4e27-b9d6-9e779028d491",
   "metadata": {},
   "outputs": [],
   "source": [
    "sp_df = get_raw_data(STOCK_INDEX)\n",
    "sp_close_series = sp_df.Close()\n",
    "\n",
    "sp_close_series.plot()"
   ]
  },
  {
   "cell_type": "markdown",
   "id": "8d2ea1cd-44f7-444b-91b6-48295b603575",
   "metadata": {},
   "source": [
    "<h2>Preprocessing Data</h2>"
   ]
  },
  {
   "cell_type": "code",
   "execution_count": 2,
   "id": "dd79c4dc-232c-4878-8625-9b119410fe9a",
   "metadata": {},
   "outputs": [],
   "source": [
    "# split train and test datasets\n",
    "train, test, scaler = get_seq_train_test(sp_close_series, scaling=True, train_size=TRAIN_PERCENT)\n",
    "train = np.reshape(train, (1, train.shape[0], 1))\n",
    "test = np.reshape(test, (1, test.shape[0], 1))\n",
    "\n",
    "train_x = train[:, :-1, :]\n",
    "train_y = train[:, 1:, :]\n",
    "\n",
    "test_x = test[:, :-1, :]\n",
    "test_y = test[:, 1:, :]\n",
    "\n",
    "print(\"Data Split Complete\")\n",
    "\n",
    "print(\"train_x shape={}\".format(train_x.shape))\n",
    "print(\"train_y shape={}\".format(train_y.shape))\n",
    "print(\"test_x shape={}\".format(test_x.shape))\n",
    "print(\"test_y shape={}\".format(test_y.shape))"
   ]
  },
  {
   "cell_type": "markdown",
   "id": "cbab6b4d-a4b7-4ce6-9bde-696b5d2399e0",
   "metadata": {},
   "source": [
    "<h2>Prepare LSTM Model</h2>"
   ]
  },
  {
   "cell_type": "code",
   "execution_count": null,
   "id": "15e7ba6d-19d6-401b-9385-8c610fb2bd1e",
   "metadata": {},
   "outputs": [],
   "source": [
    "# Build RNN model\n",
    "seq_lstm_model = None\n",
    "try:\n",
    "    seq_lstm_model = get_seq_model(input_shape=(train_x.shape[1], 1), verbose=VERBOSE)\n",
    "except:\n",
    "    print(\"Model Build Failed. Trying Again...\")\n",
    "    seq_lstm_model = get_seq_model(input_shape=(train_x.shape[1], 1), verbose=VERBOSE)"
   ]
  },
  {
   "cell_type": "markdown",
   "id": "43b01b87-ba9b-4b68-90b4-59f536b611bf",
   "metadata": {},
   "source": [
    "<h2>Fit the Model</h2>"
   ]
  },
  {
   "cell_type": "code",
   "execution_count": null,
   "id": "61aa4695-cc31-4f44-b0e0-c20934023f4b",
   "metadata": {},
   "outputs": [],
   "source": [
    "# train the model\n",
    "seq_lstm_model.fit(train_x, train_y, epochs=150, batch_size=1, verbose=2)\n",
    "print(\"Model Fit Complete\")"
   ]
  },
  {
   "cell_type": "markdown",
   "id": "7c63567a-6517-4e62-82d8-9e2caa665f91",
   "metadata": {},
   "source": [
    "<h2>Test prediction Performance</h2>"
   ]
  },
  {
   "cell_type": "code",
   "execution_count": null,
   "id": "f8910851-a835-45d4-b4cc-92a76bb53790",
   "metadata": {},
   "outputs": [],
   "source": [
    "# Pad input sequence\n",
    "testPredict = pad_sequences(test_x, maxlen=train_x.shape[1], padding='post', dtype='float64')"
   ]
  },
  {
   "cell_type": "code",
   "execution_count": null,
   "id": "a16ba45e-a875-4340-8f84-c26f043e320f",
   "metadata": {},
   "outputs": [],
   "source": [
    "# forecast values\n",
    "testPredict = seq_lstm_model.predict(testPredict)\n",
    "\n",
    "# evaluate performances\n",
    "testScore = math.sqrt(mean_squared_error(test_y[0], \n",
    "                                         testPredict[0][:test_x.shape[1]]))\n",
    "print('Test Score: %.2f RMSE' % (testScore))"
   ]
  },
  {
   "cell_type": "markdown",
   "id": "eb980742-5172-43fb-87c1-8e7e4fe4313c",
   "metadata": {},
   "source": [
    "<h2>Plot Test Predictions</h2>"
   ]
  },
  {
   "cell_type": "code",
   "execution_count": null,
   "id": "927b8b56-8349-4197-994c-db0db1e6ed8a",
   "metadata": {},
   "outputs": [],
   "source": [
    "# inverse transformation\n",
    "trainPredict = scaler.inverse_transform(trainPredict.\\\n",
    "                                        reshape(trainPredict.shape[1]))\n",
    "testPredict = scaler.inverse_transform(testPredict.\\\n",
    "                                       reshape(testPredict.shape[1]))"
   ]
  },
  {
   "cell_type": "code",
   "execution_count": null,
   "id": "af789d1b-fd1a-4b9e-aa9a-da410e4c4360",
   "metadata": {},
   "outputs": [],
   "source": [
    "# plot the true and forecasted values\n",
    "train_size = len(trainPredict)+1\n",
    "\n",
    "plt.plot(sp_close_series.index,\n",
    "         sp_close_series.values,c='black',\n",
    "         alpha=0.3,label='True Data')\n",
    "plt.plot(sp_close_series.index[1:train_size],\n",
    "         trainPredict,label='Training Fit',c='g')\n",
    "plt.plot(sp_close_series.index[train_size+1:],\n",
    "         testPredict[:test_x.shape[1]],label='Testing Forecast')\n",
    "plt.title('Forecast Plot')\n",
    "plt.legend()\n",
    "plt.show()"
   ]
  }
 ],
 "metadata": {
  "kernelspec": {
   "display_name": "Python 3 (ipykernel)",
   "language": "python",
   "name": "python3"
  },
  "language_info": {
   "codemirror_mode": {
    "name": "ipython",
    "version": 3
   },
   "file_extension": ".py",
   "mimetype": "text/x-python",
   "name": "python",
   "nbconvert_exporter": "python",
   "pygments_lexer": "ipython3",
   "version": "3.9.13"
  }
 },
 "nbformat": 4,
 "nbformat_minor": 5
}
