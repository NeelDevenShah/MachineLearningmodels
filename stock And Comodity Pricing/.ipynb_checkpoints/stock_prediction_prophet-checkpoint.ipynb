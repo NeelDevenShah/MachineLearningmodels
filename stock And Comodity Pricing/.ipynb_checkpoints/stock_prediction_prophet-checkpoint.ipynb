{
 "cells": [
  {
   "cell_type": "code",
   "execution_count": null,
   "id": "6652267e-2532-44a7-a435-f1013a7ccdd7",
   "metadata": {
    "tags": []
   },
   "outputs": [],
   "source": [
    "import pandas as pd\n",
    "from fbprophet import Prophet\n",
    "from lstm_utils import get_raw_data"
   ]
  },
  {
   "cell_type": "code",
   "execution_count": null,
   "id": "363c75a2-f88d-41a3-9a6b-39c02286d0dd",
   "metadata": {},
   "outputs": [],
   "source": [
    "%matplotlib inline\n",
    "import seaborn as sns\n",
    "import matplotlib.pyplot as plt\n",
    "\n",
    "sns.set_style('whitegrid')\n",
    "sns.set_context('talk')\n",
    "\n",
    "params = {'legend.fontsize': 'x-large',\n",
    "          'figure.figsize': (15, 5),\n",
    "          'axes.labelsize': 'x-large',\n",
    "          'axes.titlesize':'x-large',\n",
    "          'xtick.labelsize':'x-large',\n",
    "          'ytick.labelsize':'x-large'}\n",
    "plt.rcParams.update(params)"
   ]
  },
  {
   "cell_type": "code",
   "execution_count": null,
   "id": "4c08b102-4f88-4038-bd54-537caf111068",
   "metadata": {},
   "outputs": [],
   "source": [
    "TRAIN_PERCENT = 0.9\n",
    "STOCK_INDEX = '^GSPC'"
   ]
  },
  {
   "cell_type": "code",
   "execution_count": null,
   "id": "4dceccc9-997c-4506-bba8-a9087ced6cdd",
   "metadata": {},
   "outputs": [],
   "source": [
    "sp_df = get_raw_data(STOCK_INDEX)"
   ]
  },
  {
   "cell_type": "code",
   "execution_count": null,
   "id": "fea2c8b8-697c-4ea8-83a2-75c884e095f2",
   "metadata": {},
   "outputs": [],
   "source": [
    "# reset index to get date_time as a column\n",
    "prophet_df = sp_df.reset_index()\n",
    "\n",
    "# prepare the required dataframe\n",
    "prophet_df.rename(columns={'index':'ds','Close':'y'},inplace=True)\n",
    "prophet_df = prophet_df[['ds','y']]"
   ]
  },
  {
   "cell_type": "code",
   "execution_count": null,
   "id": "254570b0-6808-4440-b035-78fbd03c632b",
   "metadata": {},
   "outputs": [],
   "source": [
    "# prepare train and test sets\n",
    "train_size = int(prophet_df.shape[0]*TRAIN_PERCENT)\n",
    "train_df = prophet_df.iloc[:train_size]\n",
    "test_df = prophet_df.iloc[train_size+1:]"
   ]
  },
  {
   "cell_type": "code",
   "execution_count": null,
   "id": "c2b5ca42-7f7c-4039-9024-2c61b908f6bc",
   "metadata": {},
   "outputs": [],
   "source": [
    "# build a prophet model\n",
    "pro_model = Prophet()"
   ]
  },
  {
   "cell_type": "code",
   "execution_count": null,
   "id": "a17ea6c2-17de-457f-b2d0-6731e0aa4a5a",
   "metadata": {},
   "outputs": [],
   "source": [
    "# fit the model\n",
    "pro_model.fit(train_df)"
   ]
  },
  {
   "cell_type": "code",
   "execution_count": null,
   "id": "181dff2d-f59d-489d-a1c4-cd2f09788f3c",
   "metadata": {},
   "outputs": [],
   "source": [
    "# prepare a future dataframe\n",
    "test_dates = pro_model.make_future_dataframe(periods=test_df.shape[0])\n",
    "\n",
    "# forecast values\n",
    "forecast_df = pro_model.predict(test_dates)"
   ]
  },
  {
   "cell_type": "code",
   "execution_count": null,
   "id": "e84886b1-277c-46c2-af2a-c815ebc73c20",
   "metadata": {},
   "outputs": [],
   "source": [
    "pro_model.plot(forecast_df)\n",
    "plt.show()"
   ]
  },
  {
   "cell_type": "code",
   "execution_count": null,
   "id": "43350d7f-0328-489c-acb8-d9a67be666c2",
   "metadata": {},
   "outputs": [],
   "source": [
    "# plot against true data\n",
    "plt.plot(forecast_df.yhat,c='r',label='Forecast')\n",
    "plt.plot(forecast_df.yhat_lower.iloc[train_size+1:],\n",
    "         linestyle='--',c='b',alpha=0.3,\n",
    "         label='Confidence Interval')\n",
    "plt.plot(forecast_df.yhat_upper.iloc[train_size+1:],\n",
    "         linestyle='--',c='b',alpha=0.3,\n",
    "         label='Confidence Interval')\n",
    "plt.plot(prophet_df.y,c='g',label='True Data')\n",
    "plt.legend()\n",
    "plt.title('Prophet Model Forecast Against True Data')\n",
    "plt.show()"
   ]
  }
 ],
 "metadata": {
  "kernelspec": {
   "display_name": "Python 3 (ipykernel)",
   "language": "python",
   "name": "python3"
  },
  "language_info": {
   "codemirror_mode": {
    "name": "ipython",
    "version": 3
   },
   "file_extension": ".py",
   "mimetype": "text/x-python",
   "name": "python",
   "nbconvert_exporter": "python",
   "pygments_lexer": "ipython3",
   "version": "3.9.13"
  }
 },
 "nbformat": 4,
 "nbformat_minor": 5
}
