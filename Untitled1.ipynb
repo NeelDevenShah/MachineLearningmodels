{
 "cells": [
  {
   "cell_type": "code",
   "execution_count": 1,
   "id": "0b17775e",
   "metadata": {},
   "outputs": [
    {
     "data": {
      "text/plain": [
       "1.5574077246549023"
      ]
     },
     "execution_count": 1,
     "metadata": {},
     "output_type": "execute_result"
    }
   ],
   "source": [
    "import math\n",
    "math.tan(1)"
   ]
  },
  {
   "cell_type": "code",
   "execution_count": 2,
   "id": "9cf2fa2f",
   "metadata": {},
   "outputs": [
    {
     "name": "stdout",
     "output_type": "stream",
     "text": [
      "=== Executing: ===\n",
      "import math\n",
      "math.tan(1)\n",
      "=== Output: ===\n"
     ]
    },
    {
     "data": {
      "text/plain": [
       "1.5574077246549023"
      ]
     },
     "execution_count": 2,
     "metadata": {},
     "output_type": "execute_result"
    }
   ],
   "source": [
    "%rerun"
   ]
  },
  {
   "cell_type": "code",
   "execution_count": 2,
   "id": "8fcec255",
   "metadata": {},
   "outputs": [
    {
     "data": {
      "text/plain": [
       "RandomState(MT19937) at 0x22304BB0D40"
      ]
     },
     "execution_count": 2,
     "metadata": {},
     "output_type": "execute_result"
    }
   ],
   "source": [
    "import numpy as np\n",
    "import pandas as pd\n",
    "rng=np.random.RandomState(42)\n",
    "rng"
   ]
  },
  {
   "cell_type": "code",
   "execution_count": 3,
   "id": "46a090f7",
   "metadata": {},
   "outputs": [
    {
     "data": {
      "text/plain": [
       "3.141592653589793"
      ]
     },
     "execution_count": 3,
     "metadata": {},
     "output_type": "execute_result"
    }
   ],
   "source": [
    "np.pi"
   ]
  },
  {
   "cell_type": "code",
   "execution_count": 4,
   "id": "4ad91978",
   "metadata": {},
   "outputs": [],
   "source": [
    "np.exp??"
   ]
  },
  {
   "cell_type": "code",
   "execution_count": null,
   "id": "19d5867d",
   "metadata": {},
   "outputs": [],
   "source": []
  }
 ],
 "metadata": {
  "kernelspec": {
   "display_name": "Python 3 (ipykernel)",
   "language": "python",
   "name": "python3"
  },
  "language_info": {
   "codemirror_mode": {
    "name": "ipython",
    "version": 3
   },
   "file_extension": ".py",
   "mimetype": "text/x-python",
   "name": "python",
   "nbconvert_exporter": "python",
   "pygments_lexer": "ipython3",
   "version": "3.9.12"
  }
 },
 "nbformat": 4,
 "nbformat_minor": 5
}
