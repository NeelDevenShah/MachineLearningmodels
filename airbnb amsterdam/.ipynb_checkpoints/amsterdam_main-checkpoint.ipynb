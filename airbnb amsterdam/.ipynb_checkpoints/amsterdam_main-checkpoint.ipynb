{
 "cells": [
  {
   "cell_type": "code",
   "execution_count": 1,
   "id": "5342faac-ae54-4005-b702-c89b5cffa488",
   "metadata": {},
   "outputs": [],
   "source": [
    "import numpy as np\n",
    "import pandas as pd\n",
    "import seaborn as sns\n",
    "import os\n",
    "import warnings\n",
    "warnings.simplefilter(action='ignore', category=FutureWarning)\n",
    "\n",
    "sns.set()"
   ]
  },
  {
   "cell_type": "code",
   "execution_count": null,
   "id": "45efdd1b-0794-4924-8b8e-926e37ea6984",
   "metadata": {},
   "outputs": [],
   "source": [
    "# To make interactive maps\n",
    "import folium\n",
    "from folium.plugins import FastMarketCluster\n",
    "import geopandas as gpd\n",
    "from branca.colormap import LinearColormap\n",
    "\n",
    "# To make the plotly graphs\n",
    "import plotly.graph_objs as go\n",
    "import plotly.plotly as py\n",
    "from plotly.offline import iplot, init_notebook_mode\n",
    "import cufflinks\n",
    "cufflinks.go_offline(connected=True)\n",
    "init_notebook_mode(connected=True)\n",
    "\n",
    "# text mining\n",
    "from nltk.tokenize import word_tokenize\n",
    "from nltk.corpus import stopwords\n",
    "import re\n",
    "from sklearn.feature_extraction.text import TfidfVectorizer, CountVectorizer\n",
    "from wordcloud import WordCloud"
   ]
  },
  {
   "cell_type": "markdown",
   "id": "ca0e87be-6863-411c-98a5-1eed1f6261ef",
   "metadata": {},
   "source": [
    "<h2>Listing the details file</h2>"
   ]
  },
  {
   "cell_type": "code",
   "execution_count": 2,
   "id": "e2a4d899-3477-4f9f-9da1-bce849f866e3",
   "metadata": {},
   "outputs": [
    {
     "name": "stdout",
     "output_type": "stream",
     "text": [
      "['neighbourhoods.csv', 'listings_details.csv', 'listings.csv', 'neighbourhoods.geojson', 'reviews.csv', 'reviews_details.csv', 'calendar.csv']\n"
     ]
    }
   ],
   "source": [
    "print(os.listdir(\"./archive/\"))"
   ]
  },
  {
   "cell_type": "code",
   "execution_count": 8,
   "id": "b28b51f0-38d1-4a83-bcd1-2aa64394a9f6",
   "metadata": {},
   "outputs": [
    {
     "name": "stderr",
     "output_type": "stream",
     "text": [
      "/tmp/ipykernel_12141/142039933.py:2: DtypeWarning:\n",
      "\n",
      "Columns (87) have mixed types. Specify dtype option on import or set low_memory=False.\n",
      "\n"
     ]
    }
   ],
   "source": [
    "# listings = pd.read_csv(\"./archive/listings.csv\", index_col=\"id\")\n",
    "listings_details = pd.read_csv(\"./archive/listings_details.csv\")\n",
    "# calender = pd.read_csv(\"./archive/calendar.csv\")\n",
    "# reviews_details = pd.read_csv(\"./archive/reviews_details.csv\")"
   ]
  },
  {
   "cell_type": "code",
   "execution_count": null,
   "id": "52223b77-002e-4497-b25f-53f412eaa707",
   "metadata": {},
   "outputs": [],
   "source": []
  }
 ],
 "metadata": {
  "kernelspec": {
   "display_name": "Python 3 (ipykernel)",
   "language": "python",
   "name": "python3"
  },
  "language_info": {
   "codemirror_mode": {
    "name": "ipython",
    "version": 3
   },
   "file_extension": ".py",
   "mimetype": "text/x-python",
   "name": "python",
   "nbconvert_exporter": "python",
   "pygments_lexer": "ipython3",
   "version": "3.9.13"
  }
 },
 "nbformat": 4,
 "nbformat_minor": 5
}
