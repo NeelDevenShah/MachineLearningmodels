{
 "cells": [
  {
   "cell_type": "markdown",
   "id": "0e5d2960-7ffd-4760-b22b-2bf183770377",
   "metadata": {},
   "source": [
    "<h1>Deep Learning and Transfer Learning with pre-trained models<h1>"
   ]
  },
  {
   "cell_type": "code",
   "execution_count": null,
   "id": "1ca52b0d-4da4-41cf-b9c1-0f376af43fe5",
   "metadata": {},
   "outputs": [],
   "source": []
  },
  {
   "cell_type": "code",
   "execution_count": 1,
   "id": "024cea96-6f78-4b4d-b459-3a73e6bd5ecc",
   "metadata": {},
   "outputs": [],
   "source": [
    "# import reqired libs\n",
    "import os\n",
    "import keras\n",
    "import numpy as np\n",
    "from keras import backend as k\n",
    "from keras import applications\n",
    "from keras.datasets import cifar10\n",
    "from keras.models import Sequential\n",
    "from keras.layers import Dense, Dropout, Flatten\n",
    "\n",
    "import matplotlib.pyplot as plt\n",
    "\n",
    "params = {'legend.fontsize': 'x-large',\n",
    "          'figure.figsize': (15, 5),\n",
    "         'axes.labelsize': 'x-large',\n",
    "         'axes.titlesize':'x-large',\n",
    "         'xtick.labelsize':'x-large',\n",
    "         'ytick.labelsize':'x-large'}\n",
    "\n",
    "plt.rcParams.update(params)\n",
    "\n",
    "%matplotlib inline"
   ]
  },
  {
   "cell_type": "markdown",
   "id": "959a7ccf-9a3a-4afc-acd9-31d38500c190",
   "metadata": {},
   "source": [
    "<h3>Load VGG</h3>"
   ]
  },
  {
   "cell_type": "code",
   "execution_count": 5,
   "id": "63d803f9-b669-4f4d-ba47-806bbcecef69",
   "metadata": {},
   "outputs": [
    {
     "name": "stderr",
     "output_type": "stream",
     "text": [
      "2023-02-25 14:15:03.023713: W tensorflow/compiler/xla/stream_executor/platform/default/dso_loader.cc:64] Could not load dynamic library 'libcuda.so.1'; dlerror: libcuda.so.1: cannot open shared object file: No such file or directory\n",
      "2023-02-25 14:15:03.023738: W tensorflow/compiler/xla/stream_executor/cuda/cuda_driver.cc:265] failed call to cuInit: UNKNOWN ERROR (303)\n",
      "2023-02-25 14:15:03.023755: I tensorflow/compiler/xla/stream_executor/cuda/cuda_diagnostics.cc:156] kernel driver does not appear to be running on this host (pop-os): /proc/driver/nvidia/version does not exist\n",
      "2023-02-25 14:15:03.024182: I tensorflow/core/platform/cpu_feature_guard.cc:193] This TensorFlow binary is optimized with oneAPI Deep Neural Network Library (oneDNN) to use the following CPU instructions in performance-critical operations:  AVX2 AVX512F AVX512_VNNI FMA\n",
      "To enable them in other operations, rebuild TensorFlow with the appropriate compiler flags.\n"
     ]
    },
    {
     "name": "stdout",
     "output_type": "stream",
     "text": [
      "Downloading data from https://storage.googleapis.com/tensorflow/keras-applications/vgg19/vgg19_weights_tf_dim_ordering_tf_kernels_notop.h5\n",
      "80134624/80134624 [==============================] - 44s 1us/step\n"
     ]
    }
   ],
   "source": [
    "vgg_model = applications.VGG19(include_top=False, weights='imagenet')"
   ]
  },
  {
   "cell_type": "code",
   "execution_count": 6,
   "id": "47ce6472-8ac8-4831-9429-07a2e05aed40",
   "metadata": {},
   "outputs": [
    {
     "name": "stdout",
     "output_type": "stream",
     "text": [
      "Model: \"vgg19\"\n",
      "_________________________________________________________________\n",
      " Layer (type)                Output Shape              Param #   \n",
      "=================================================================\n",
      " input_1 (InputLayer)        [(None, None, None, 3)]   0         \n",
      "                                                                 \n",
      " block1_conv1 (Conv2D)       (None, None, None, 64)    1792      \n",
      "                                                                 \n",
      " block1_conv2 (Conv2D)       (None, None, None, 64)    36928     \n",
      "                                                                 \n",
      " block1_pool (MaxPooling2D)  (None, None, None, 64)    0         \n",
      "                                                                 \n",
      " block2_conv1 (Conv2D)       (None, None, None, 128)   73856     \n",
      "                                                                 \n",
      " block2_conv2 (Conv2D)       (None, None, None, 128)   147584    \n",
      "                                                                 \n",
      " block2_pool (MaxPooling2D)  (None, None, None, 128)   0         \n",
      "                                                                 \n",
      " block3_conv1 (Conv2D)       (None, None, None, 256)   295168    \n",
      "                                                                 \n",
      " block3_conv2 (Conv2D)       (None, None, None, 256)   590080    \n",
      "                                                                 \n",
      " block3_conv3 (Conv2D)       (None, None, None, 256)   590080    \n",
      "                                                                 \n",
      " block3_conv4 (Conv2D)       (None, None, None, 256)   590080    \n",
      "                                                                 \n",
      " block3_pool (MaxPooling2D)  (None, None, None, 256)   0         \n",
      "                                                                 \n",
      " block4_conv1 (Conv2D)       (None, None, None, 512)   1180160   \n",
      "                                                                 \n",
      " block4_conv2 (Conv2D)       (None, None, None, 512)   2359808   \n",
      "                                                                 \n",
      " block4_conv3 (Conv2D)       (None, None, None, 512)   2359808   \n",
      "                                                                 \n",
      " block4_conv4 (Conv2D)       (None, None, None, 512)   2359808   \n",
      "                                                                 \n",
      " block4_pool (MaxPooling2D)  (None, None, None, 512)   0         \n",
      "                                                                 \n",
      " block5_conv1 (Conv2D)       (None, None, None, 512)   2359808   \n",
      "                                                                 \n",
      " block5_conv2 (Conv2D)       (None, None, None, 512)   2359808   \n",
      "                                                                 \n",
      " block5_conv3 (Conv2D)       (None, None, None, 512)   2359808   \n",
      "                                                                 \n",
      " block5_conv4 (Conv2D)       (None, None, None, 512)   2359808   \n",
      "                                                                 \n",
      " block5_pool (MaxPooling2D)  (None, None, None, 512)   0         \n",
      "                                                                 \n",
      "=================================================================\n",
      "Total params: 20,024,384\n",
      "Trainable params: 20,024,384\n",
      "Non-trainable params: 0\n",
      "_________________________________________________________________\n"
     ]
    }
   ],
   "source": [
    "vgg_model.summary()"
   ]
  },
  {
   "cell_type": "code",
   "execution_count": 7,
   "id": "243f1929-3f22-4ce2-8834-8cee5dd86bf1",
   "metadata": {},
   "outputs": [],
   "source": [
    "# Set Parameters\n",
    "batch_size = 128\n",
    "num_classes = 10\n",
    "epochs = 50\n",
    "\n",
    "bottleneck_path = r'F:\\work\\kaggle\\cifar10_cnn\\bottleneck_features_train_vgg19.npy'"
   ]
  },
  {
   "cell_type": "markdown",
   "id": "fad20db5-f584-4f2d-9eee-a1f1260946dd",
   "metadata": {},
   "source": [
    "<h3>Get CIFAR10 Dataset</h3>"
   ]
  },
  {
   "cell_type": "code",
   "execution_count": 8,
   "id": "3566fed4-b7fd-49c2-8f82-1bcebb86a349",
   "metadata": {},
   "outputs": [],
   "source": [
    "# the data, shuffled and split between train and test sets\n",
    "(x_train, y_train), (x_test, y_test) = cifar10.load_data()"
   ]
  },
  {
   "cell_type": "code",
   "execution_count": 9,
   "id": "16d38134-e173-4221-9557-4785515bc6b3",
   "metadata": {},
   "outputs": [
    {
     "name": "stdout",
     "output_type": "stream",
     "text": [
      "x_train shape:  (50000, 32, 32, 3)\n",
      "50000 train samples\n",
      "10000 test samples\n"
     ]
    }
   ],
   "source": [
    "print('x_train shape: ', x_train.shape)\n",
    "print(x_train.shape[0], 'train samples')\n",
    "print(x_test.shape[0], 'test samples')"
   ]
  },
  {
   "cell_type": "code",
   "execution_count": 10,
   "id": "96d3adc6-1e96-4e5a-939e-f3bf537e33c4",
   "metadata": {},
   "outputs": [
    {
     "data": {
      "text/plain": [
       "(50000, 10)"
      ]
     },
     "execution_count": 10,
     "metadata": {},
     "output_type": "execute_result"
    }
   ],
   "source": [
    "# Convert class vectors to binary class matrix\n",
    "y_train = keras.utils.to_categorical(y_train, num_classes)\n",
    "y_test = keras.utils.to_categorical(y_test, num_classes)\n",
    "\n",
    "y_train.shape"
   ]
  },
  {
   "cell_type": "markdown",
   "id": "a68ec5df-76c4-4b88-b3e9-a1c22b6aef50",
   "metadata": {},
   "source": [
    "<h3>Pretrained Model for Featire Extraction</h3>"
   ]
  },
  {
   "cell_type": "code",
   "execution_count": 12,
   "id": "ad88f589-2dbb-4c1b-ab4d-62a60a2c3c6a",
   "metadata": {},
   "outputs": [
    {
     "name": "stdout",
     "output_type": "stream",
     "text": [
      "1563/1563 [==============================] - 245s 156ms/step\n"
     ]
    }
   ],
   "source": [
    "if not os.path.exists(bottleneck_path):\n",
    "    bottleneck_features_train = vgg_model.predict(x_train, verbose=1)\n",
    "    np.save(open(bottleneck_path, 'wb'),\n",
    "           bottleneck_features_train)\n",
    "else:\n",
    "    bottleneck_features_train[0].shape"
   ]
  },
  {
   "cell_type": "code",
   "execution_count": 13,
   "id": "222a97b3-5bb9-4547-a5e8-fb0813f3e4dd",
   "metadata": {},
   "outputs": [
    {
     "data": {
      "text/plain": [
       "(1, 1, 512)"
      ]
     },
     "execution_count": 13,
     "metadata": {},
     "output_type": "execute_result"
    }
   ],
   "source": [
    "bottleneck_features_train[0].shape"
   ]
  },
  {
   "cell_type": "code",
   "execution_count": 16,
   "id": "b4781c38-46ad-403d-9add-a2e4c87a1713",
   "metadata": {},
   "outputs": [
    {
     "name": "stdout",
     "output_type": "stream",
     "text": [
      "313/313 [==============================] - 47s 149ms/step\n"
     ]
    }
   ],
   "source": [
    "bottleneck_features_test = vgg_model.predict(x_test, verbose=1)"
   ]
  },
  {
   "cell_type": "markdown",
   "id": "a659a433-f404-49af-b4db-5616e68497f4",
   "metadata": {},
   "source": [
    "<h3>Custom Classifier</h3>"
   ]
  },
  {
   "cell_type": "code",
   "execution_count": 19,
   "id": "f04f4970-31c2-4b4d-bbe0-62731d9c7917",
   "metadata": {},
   "outputs": [],
   "source": [
    "clf_model = Sequential()\n",
    "clf_model.add(Flatten(input_shape=bottleneck_features_train.shape[1:]))\n",
    "clf_model.add(Dense(512, activation='relu'))\n",
    "clf_model.add(Dropout(0.5))\n",
    "clf_model.add(Dense(512, activation='relu'))\n",
    "clf_model.add(Dropout(0.5))\n",
    "clf_model.add(Dense(num_classes, activation='softmax'))"
   ]
  },
  {
   "cell_type": "code",
   "execution_count": 20,
   "id": "ee616f4e-88c6-4857-bf13-c965d6bf5242",
   "metadata": {},
   "outputs": [
    {
     "data": {
      "image/svg+xml": [
       "<svg xmlns=\"http://www.w3.org/2000/svg\" xmlns:xlink=\"http://www.w3.org/1999/xlink\" width=\"440pt\" height=\"737pt\" viewBox=\"0.00 0.00 330.00 553.00\">\n",
       "<g id=\"graph0\" class=\"graph\" transform=\"scale(1.33 1.33) rotate(0) translate(4 549)\">\n",
       "<title>G</title>\n",
       "<polygon fill=\"white\" stroke=\"transparent\" points=\"-4,4 -4,-549 326,-549 326,4 -4,4\"/>\n",
       "<!-- 139966548736848 -->\n",
       "<g id=\"node1\" class=\"node\">\n",
       "<title>139966548736848</title>\n",
       "<polygon fill=\"none\" stroke=\"black\" points=\"0,-498.5 0,-544.5 322,-544.5 322,-498.5 0,-498.5\"/>\n",
       "<text text-anchor=\"middle\" x=\"53.5\" y=\"-529.3\" font-family=\"Times,serif\" font-size=\"14.00\">flatten_input</text>\n",
       "<polyline fill=\"none\" stroke=\"black\" points=\"0,-521.5 107,-521.5 \"/>\n",
       "<text text-anchor=\"middle\" x=\"53.5\" y=\"-506.3\" font-family=\"Times,serif\" font-size=\"14.00\">InputLayer</text>\n",
       "<polyline fill=\"none\" stroke=\"black\" points=\"107,-498.5 107,-544.5 \"/>\n",
       "<text text-anchor=\"middle\" x=\"141\" y=\"-529.3\" font-family=\"Times,serif\" font-size=\"14.00\">input:</text>\n",
       "<polyline fill=\"none\" stroke=\"black\" points=\"107,-521.5 175,-521.5 \"/>\n",
       "<text text-anchor=\"middle\" x=\"141\" y=\"-506.3\" font-family=\"Times,serif\" font-size=\"14.00\">output:</text>\n",
       "<polyline fill=\"none\" stroke=\"black\" points=\"175,-498.5 175,-544.5 \"/>\n",
       "<text text-anchor=\"middle\" x=\"248.5\" y=\"-529.3\" font-family=\"Times,serif\" font-size=\"14.00\">[(None, 1, 1, 512)]</text>\n",
       "<polyline fill=\"none\" stroke=\"black\" points=\"175,-521.5 322,-521.5 \"/>\n",
       "<text text-anchor=\"middle\" x=\"248.5\" y=\"-506.3\" font-family=\"Times,serif\" font-size=\"14.00\">[(None, 1, 1, 512)]</text>\n",
       "</g>\n",
       "<!-- 139966555266832 -->\n",
       "<g id=\"node2\" class=\"node\">\n",
       "<title>139966555266832</title>\n",
       "<polygon fill=\"none\" stroke=\"black\" points=\"24.5,-415.5 24.5,-461.5 297.5,-461.5 297.5,-415.5 24.5,-415.5\"/>\n",
       "<text text-anchor=\"middle\" x=\"58.5\" y=\"-446.3\" font-family=\"Times,serif\" font-size=\"14.00\">flatten</text>\n",
       "<polyline fill=\"none\" stroke=\"black\" points=\"24.5,-438.5 92.5,-438.5 \"/>\n",
       "<text text-anchor=\"middle\" x=\"58.5\" y=\"-423.3\" font-family=\"Times,serif\" font-size=\"14.00\">Flatten</text>\n",
       "<polyline fill=\"none\" stroke=\"black\" points=\"92.5,-415.5 92.5,-461.5 \"/>\n",
       "<text text-anchor=\"middle\" x=\"126.5\" y=\"-446.3\" font-family=\"Times,serif\" font-size=\"14.00\">input:</text>\n",
       "<polyline fill=\"none\" stroke=\"black\" points=\"92.5,-438.5 160.5,-438.5 \"/>\n",
       "<text text-anchor=\"middle\" x=\"126.5\" y=\"-423.3\" font-family=\"Times,serif\" font-size=\"14.00\">output:</text>\n",
       "<polyline fill=\"none\" stroke=\"black\" points=\"160.5,-415.5 160.5,-461.5 \"/>\n",
       "<text text-anchor=\"middle\" x=\"229\" y=\"-446.3\" font-family=\"Times,serif\" font-size=\"14.00\">(None, 1, 1, 512)</text>\n",
       "<polyline fill=\"none\" stroke=\"black\" points=\"160.5,-438.5 297.5,-438.5 \"/>\n",
       "<text text-anchor=\"middle\" x=\"229\" y=\"-423.3\" font-family=\"Times,serif\" font-size=\"14.00\">(None, 512)</text>\n",
       "</g>\n",
       "<!-- 139966548736848&#45;&gt;139966555266832 -->\n",
       "<g id=\"edge1\" class=\"edge\">\n",
       "<title>139966548736848-&gt;139966555266832</title>\n",
       "<path fill=\"none\" stroke=\"black\" d=\"M161,-498.37C161,-490.15 161,-480.66 161,-471.73\"/>\n",
       "<polygon fill=\"black\" stroke=\"black\" points=\"164.5,-471.61 161,-461.61 157.5,-471.61 164.5,-471.61\"/>\n",
       "</g>\n",
       "<!-- 139967691847424 -->\n",
       "<g id=\"node3\" class=\"node\">\n",
       "<title>139967691847424</title>\n",
       "<polygon fill=\"none\" stroke=\"black\" points=\"46,-332.5 46,-378.5 276,-378.5 276,-332.5 46,-332.5\"/>\n",
       "<text text-anchor=\"middle\" x=\"76.5\" y=\"-363.3\" font-family=\"Times,serif\" font-size=\"14.00\">dense</text>\n",
       "<polyline fill=\"none\" stroke=\"black\" points=\"46,-355.5 107,-355.5 \"/>\n",
       "<text text-anchor=\"middle\" x=\"76.5\" y=\"-340.3\" font-family=\"Times,serif\" font-size=\"14.00\">Dense</text>\n",
       "<polyline fill=\"none\" stroke=\"black\" points=\"107,-332.5 107,-378.5 \"/>\n",
       "<text text-anchor=\"middle\" x=\"141\" y=\"-363.3\" font-family=\"Times,serif\" font-size=\"14.00\">input:</text>\n",
       "<polyline fill=\"none\" stroke=\"black\" points=\"107,-355.5 175,-355.5 \"/>\n",
       "<text text-anchor=\"middle\" x=\"141\" y=\"-340.3\" font-family=\"Times,serif\" font-size=\"14.00\">output:</text>\n",
       "<polyline fill=\"none\" stroke=\"black\" points=\"175,-332.5 175,-378.5 \"/>\n",
       "<text text-anchor=\"middle\" x=\"225.5\" y=\"-363.3\" font-family=\"Times,serif\" font-size=\"14.00\">(None, 512)</text>\n",
       "<polyline fill=\"none\" stroke=\"black\" points=\"175,-355.5 276,-355.5 \"/>\n",
       "<text text-anchor=\"middle\" x=\"225.5\" y=\"-340.3\" font-family=\"Times,serif\" font-size=\"14.00\">(None, 512)</text>\n",
       "</g>\n",
       "<!-- 139966555266832&#45;&gt;139967691847424 -->\n",
       "<g id=\"edge2\" class=\"edge\">\n",
       "<title>139966555266832-&gt;139967691847424</title>\n",
       "<path fill=\"none\" stroke=\"black\" d=\"M161,-415.37C161,-407.15 161,-397.66 161,-388.73\"/>\n",
       "<polygon fill=\"black\" stroke=\"black\" points=\"164.5,-388.61 161,-378.61 157.5,-388.61 164.5,-388.61\"/>\n",
       "</g>\n",
       "<!-- 139966548549248 -->\n",
       "<g id=\"node4\" class=\"node\">\n",
       "<title>139966548549248</title>\n",
       "<polygon fill=\"none\" stroke=\"black\" points=\"39,-249.5 39,-295.5 283,-295.5 283,-249.5 39,-249.5\"/>\n",
       "<text text-anchor=\"middle\" x=\"76.5\" y=\"-280.3\" font-family=\"Times,serif\" font-size=\"14.00\">dropout</text>\n",
       "<polyline fill=\"none\" stroke=\"black\" points=\"39,-272.5 114,-272.5 \"/>\n",
       "<text text-anchor=\"middle\" x=\"76.5\" y=\"-257.3\" font-family=\"Times,serif\" font-size=\"14.00\">Dropout</text>\n",
       "<polyline fill=\"none\" stroke=\"black\" points=\"114,-249.5 114,-295.5 \"/>\n",
       "<text text-anchor=\"middle\" x=\"148\" y=\"-280.3\" font-family=\"Times,serif\" font-size=\"14.00\">input:</text>\n",
       "<polyline fill=\"none\" stroke=\"black\" points=\"114,-272.5 182,-272.5 \"/>\n",
       "<text text-anchor=\"middle\" x=\"148\" y=\"-257.3\" font-family=\"Times,serif\" font-size=\"14.00\">output:</text>\n",
       "<polyline fill=\"none\" stroke=\"black\" points=\"182,-249.5 182,-295.5 \"/>\n",
       "<text text-anchor=\"middle\" x=\"232.5\" y=\"-280.3\" font-family=\"Times,serif\" font-size=\"14.00\">(None, 512)</text>\n",
       "<polyline fill=\"none\" stroke=\"black\" points=\"182,-272.5 283,-272.5 \"/>\n",
       "<text text-anchor=\"middle\" x=\"232.5\" y=\"-257.3\" font-family=\"Times,serif\" font-size=\"14.00\">(None, 512)</text>\n",
       "</g>\n",
       "<!-- 139967691847424&#45;&gt;139966548549248 -->\n",
       "<g id=\"edge3\" class=\"edge\">\n",
       "<title>139967691847424-&gt;139966548549248</title>\n",
       "<path fill=\"none\" stroke=\"black\" d=\"M161,-332.37C161,-324.15 161,-314.66 161,-305.73\"/>\n",
       "<polygon fill=\"black\" stroke=\"black\" points=\"164.5,-305.61 161,-295.61 157.5,-305.61 164.5,-305.61\"/>\n",
       "</g>\n",
       "<!-- 139967646742848 -->\n",
       "<g id=\"node5\" class=\"node\">\n",
       "<title>139967646742848</title>\n",
       "<polygon fill=\"none\" stroke=\"black\" points=\"39.5,-166.5 39.5,-212.5 282.5,-212.5 282.5,-166.5 39.5,-166.5\"/>\n",
       "<text text-anchor=\"middle\" x=\"76.5\" y=\"-197.3\" font-family=\"Times,serif\" font-size=\"14.00\">dense_1</text>\n",
       "<polyline fill=\"none\" stroke=\"black\" points=\"39.5,-189.5 113.5,-189.5 \"/>\n",
       "<text text-anchor=\"middle\" x=\"76.5\" y=\"-174.3\" font-family=\"Times,serif\" font-size=\"14.00\">Dense</text>\n",
       "<polyline fill=\"none\" stroke=\"black\" points=\"113.5,-166.5 113.5,-212.5 \"/>\n",
       "<text text-anchor=\"middle\" x=\"147.5\" y=\"-197.3\" font-family=\"Times,serif\" font-size=\"14.00\">input:</text>\n",
       "<polyline fill=\"none\" stroke=\"black\" points=\"113.5,-189.5 181.5,-189.5 \"/>\n",
       "<text text-anchor=\"middle\" x=\"147.5\" y=\"-174.3\" font-family=\"Times,serif\" font-size=\"14.00\">output:</text>\n",
       "<polyline fill=\"none\" stroke=\"black\" points=\"181.5,-166.5 181.5,-212.5 \"/>\n",
       "<text text-anchor=\"middle\" x=\"232\" y=\"-197.3\" font-family=\"Times,serif\" font-size=\"14.00\">(None, 512)</text>\n",
       "<polyline fill=\"none\" stroke=\"black\" points=\"181.5,-189.5 282.5,-189.5 \"/>\n",
       "<text text-anchor=\"middle\" x=\"232\" y=\"-174.3\" font-family=\"Times,serif\" font-size=\"14.00\">(None, 512)</text>\n",
       "</g>\n",
       "<!-- 139966548549248&#45;&gt;139967646742848 -->\n",
       "<g id=\"edge4\" class=\"edge\">\n",
       "<title>139966548549248-&gt;139967646742848</title>\n",
       "<path fill=\"none\" stroke=\"black\" d=\"M161,-249.37C161,-241.15 161,-231.66 161,-222.73\"/>\n",
       "<polygon fill=\"black\" stroke=\"black\" points=\"164.5,-222.61 161,-212.61 157.5,-222.61 164.5,-222.61\"/>\n",
       "</g>\n",
       "<!-- 139966548412304 -->\n",
       "<g id=\"node6\" class=\"node\">\n",
       "<title>139966548412304</title>\n",
       "<polygon fill=\"none\" stroke=\"black\" points=\"32,-83.5 32,-129.5 290,-129.5 290,-83.5 32,-83.5\"/>\n",
       "<text text-anchor=\"middle\" x=\"76.5\" y=\"-114.3\" font-family=\"Times,serif\" font-size=\"14.00\">dropout_1</text>\n",
       "<polyline fill=\"none\" stroke=\"black\" points=\"32,-106.5 121,-106.5 \"/>\n",
       "<text text-anchor=\"middle\" x=\"76.5\" y=\"-91.3\" font-family=\"Times,serif\" font-size=\"14.00\">Dropout</text>\n",
       "<polyline fill=\"none\" stroke=\"black\" points=\"121,-83.5 121,-129.5 \"/>\n",
       "<text text-anchor=\"middle\" x=\"155\" y=\"-114.3\" font-family=\"Times,serif\" font-size=\"14.00\">input:</text>\n",
       "<polyline fill=\"none\" stroke=\"black\" points=\"121,-106.5 189,-106.5 \"/>\n",
       "<text text-anchor=\"middle\" x=\"155\" y=\"-91.3\" font-family=\"Times,serif\" font-size=\"14.00\">output:</text>\n",
       "<polyline fill=\"none\" stroke=\"black\" points=\"189,-83.5 189,-129.5 \"/>\n",
       "<text text-anchor=\"middle\" x=\"239.5\" y=\"-114.3\" font-family=\"Times,serif\" font-size=\"14.00\">(None, 512)</text>\n",
       "<polyline fill=\"none\" stroke=\"black\" points=\"189,-106.5 290,-106.5 \"/>\n",
       "<text text-anchor=\"middle\" x=\"239.5\" y=\"-91.3\" font-family=\"Times,serif\" font-size=\"14.00\">(None, 512)</text>\n",
       "</g>\n",
       "<!-- 139967646742848&#45;&gt;139966548412304 -->\n",
       "<g id=\"edge5\" class=\"edge\">\n",
       "<title>139967646742848-&gt;139966548412304</title>\n",
       "<path fill=\"none\" stroke=\"black\" d=\"M161,-166.37C161,-158.15 161,-148.66 161,-139.73\"/>\n",
       "<polygon fill=\"black\" stroke=\"black\" points=\"164.5,-139.61 161,-129.61 157.5,-139.61 164.5,-139.61\"/>\n",
       "</g>\n",
       "<!-- 139966548637104 -->\n",
       "<g id=\"node7\" class=\"node\">\n",
       "<title>139966548637104</title>\n",
       "<polygon fill=\"none\" stroke=\"black\" points=\"39.5,-0.5 39.5,-46.5 282.5,-46.5 282.5,-0.5 39.5,-0.5\"/>\n",
       "<text text-anchor=\"middle\" x=\"76.5\" y=\"-31.3\" font-family=\"Times,serif\" font-size=\"14.00\">dense_2</text>\n",
       "<polyline fill=\"none\" stroke=\"black\" points=\"39.5,-23.5 113.5,-23.5 \"/>\n",
       "<text text-anchor=\"middle\" x=\"76.5\" y=\"-8.3\" font-family=\"Times,serif\" font-size=\"14.00\">Dense</text>\n",
       "<polyline fill=\"none\" stroke=\"black\" points=\"113.5,-0.5 113.5,-46.5 \"/>\n",
       "<text text-anchor=\"middle\" x=\"147.5\" y=\"-31.3\" font-family=\"Times,serif\" font-size=\"14.00\">input:</text>\n",
       "<polyline fill=\"none\" stroke=\"black\" points=\"113.5,-23.5 181.5,-23.5 \"/>\n",
       "<text text-anchor=\"middle\" x=\"147.5\" y=\"-8.3\" font-family=\"Times,serif\" font-size=\"14.00\">output:</text>\n",
       "<polyline fill=\"none\" stroke=\"black\" points=\"181.5,-0.5 181.5,-46.5 \"/>\n",
       "<text text-anchor=\"middle\" x=\"232\" y=\"-31.3\" font-family=\"Times,serif\" font-size=\"14.00\">(None, 512)</text>\n",
       "<polyline fill=\"none\" stroke=\"black\" points=\"181.5,-23.5 282.5,-23.5 \"/>\n",
       "<text text-anchor=\"middle\" x=\"232\" y=\"-8.3\" font-family=\"Times,serif\" font-size=\"14.00\">(None, 10)</text>\n",
       "</g>\n",
       "<!-- 139966548412304&#45;&gt;139966548637104 -->\n",
       "<g id=\"edge6\" class=\"edge\">\n",
       "<title>139966548412304-&gt;139966548637104</title>\n",
       "<path fill=\"none\" stroke=\"black\" d=\"M161,-83.37C161,-75.15 161,-65.66 161,-56.73\"/>\n",
       "<polygon fill=\"black\" stroke=\"black\" points=\"164.5,-56.61 161,-46.61 157.5,-56.61 164.5,-56.61\"/>\n",
       "</g>\n",
       "</g>\n",
       "</svg>"
      ],
      "text/plain": [
       "<IPython.core.display.SVG object>"
      ]
     },
     "execution_count": 20,
     "metadata": {},
     "output_type": "execute_result"
    }
   ],
   "source": [
    "from IPython.display import SVG\n",
    "from keras.utils.vis_utils import model_to_dot\n",
    "\n",
    "SVG(model_to_dot(clf_model, show_shapes=True, show_layer_names=True, rankdir='TB').create(prog='dot', format='svg'))"
   ]
  },
  {
   "cell_type": "markdown",
   "id": "99eacdc6-acb7-47de-9d9e-72ad852210f1",
   "metadata": {},
   "source": [
    "<h3>Compile the model</h3>"
   ]
  },
  {
   "cell_type": "code",
   "execution_count": 21,
   "id": "6fa97e95-206d-4c0f-9de3-d96498e61997",
   "metadata": {},
   "outputs": [],
   "source": [
    "clf_model.compile(loss=keras.losses.categorical_crossentropy, optimizer=keras.optimizers.Adadelta(), metrics=['accuracy'])"
   ]
  },
  {
   "cell_type": "markdown",
   "id": "7b7b6098-df8d-4236-92fd-6e8fbfd1d59d",
   "metadata": {},
   "source": [
    "<h3>Train the classifier</h3>"
   ]
  },
  {
   "cell_type": "code",
   "execution_count": 22,
   "id": "a25b583d-f158-43b6-bf95-98ea3f52db06",
   "metadata": {},
   "outputs": [
    {
     "name": "stdout",
     "output_type": "stream",
     "text": [
      "Epoch 1/50\n",
      "391/391 [==============================] - 2s 5ms/step - loss: 30.1649 - accuracy: 0.1053\n",
      "Epoch 2/50\n",
      "391/391 [==============================] - 2s 5ms/step - loss: 28.4651 - accuracy: 0.1088\n",
      "Epoch 3/50\n",
      "391/391 [==============================] - 2s 5ms/step - loss: 27.0443 - accuracy: 0.1156\n",
      "Epoch 4/50\n",
      "391/391 [==============================] - 2s 5ms/step - loss: 25.8180 - accuracy: 0.1210\n",
      "Epoch 5/50\n",
      "391/391 [==============================] - 2s 5ms/step - loss: 24.8347 - accuracy: 0.1261\n",
      "Epoch 6/50\n",
      "391/391 [==============================] - 2s 6ms/step - loss: 23.9454 - accuracy: 0.1277\n",
      "Epoch 7/50\n",
      "391/391 [==============================] - 2s 5ms/step - loss: 22.9631 - accuracy: 0.1359\n",
      "Epoch 8/50\n",
      "391/391 [==============================] - 2s 5ms/step - loss: 22.1002 - accuracy: 0.1422\n",
      "Epoch 9/50\n",
      "391/391 [==============================] - 2s 5ms/step - loss: 21.2892 - accuracy: 0.1446\n",
      "Epoch 10/50\n",
      "391/391 [==============================] - 2s 5ms/step - loss: 20.6527 - accuracy: 0.1509\n",
      "Epoch 11/50\n",
      "391/391 [==============================] - 2s 5ms/step - loss: 19.9075 - accuracy: 0.1561\n",
      "Epoch 12/50\n",
      "391/391 [==============================] - 2s 5ms/step - loss: 19.3256 - accuracy: 0.1617\n",
      "Epoch 13/50\n",
      "391/391 [==============================] - 2s 5ms/step - loss: 18.8983 - accuracy: 0.1632\n",
      "Epoch 14/50\n",
      "391/391 [==============================] - 2s 5ms/step - loss: 18.2393 - accuracy: 0.1676\n",
      "Epoch 15/50\n",
      "391/391 [==============================] - 2s 5ms/step - loss: 17.6859 - accuracy: 0.1733\n",
      "Epoch 16/50\n",
      "391/391 [==============================] - 2s 5ms/step - loss: 17.1178 - accuracy: 0.1768\n",
      "Epoch 17/50\n",
      "391/391 [==============================] - 2s 6ms/step - loss: 16.6306 - accuracy: 0.1827\n",
      "Epoch 18/50\n",
      "391/391 [==============================] - 2s 5ms/step - loss: 16.2848 - accuracy: 0.1823\n",
      "Epoch 19/50\n",
      "391/391 [==============================] - 2s 5ms/step - loss: 15.7819 - accuracy: 0.1903\n",
      "Epoch 20/50\n",
      "391/391 [==============================] - 2s 5ms/step - loss: 15.4640 - accuracy: 0.1926\n",
      "Epoch 21/50\n",
      "391/391 [==============================] - 2s 6ms/step - loss: 15.0959 - accuracy: 0.1925\n",
      "Epoch 22/50\n",
      "391/391 [==============================] - 2s 5ms/step - loss: 14.6559 - accuracy: 0.1973\n",
      "Epoch 23/50\n",
      "391/391 [==============================] - 2s 5ms/step - loss: 14.3950 - accuracy: 0.1990\n",
      "Epoch 24/50\n",
      "391/391 [==============================] - 2s 5ms/step - loss: 14.0940 - accuracy: 0.2022\n",
      "Epoch 25/50\n",
      "391/391 [==============================] - 2s 5ms/step - loss: 13.6644 - accuracy: 0.2070\n",
      "Epoch 26/50\n",
      "391/391 [==============================] - 2s 6ms/step - loss: 13.3069 - accuracy: 0.2108\n",
      "Epoch 27/50\n",
      "391/391 [==============================] - 2s 5ms/step - loss: 13.2254 - accuracy: 0.2097\n",
      "Epoch 28/50\n",
      "391/391 [==============================] - 2s 5ms/step - loss: 12.8501 - accuracy: 0.2124\n",
      "Epoch 29/50\n",
      "391/391 [==============================] - 2s 6ms/step - loss: 12.6044 - accuracy: 0.2164\n",
      "Epoch 30/50\n",
      "391/391 [==============================] - 2s 5ms/step - loss: 12.2936 - accuracy: 0.2219\n",
      "Epoch 31/50\n",
      "391/391 [==============================] - 2s 6ms/step - loss: 12.0963 - accuracy: 0.2232\n",
      "Epoch 32/50\n",
      "391/391 [==============================] - 2s 6ms/step - loss: 11.8936 - accuracy: 0.2242\n",
      "Epoch 33/50\n",
      "391/391 [==============================] - 2s 6ms/step - loss: 11.6149 - accuracy: 0.2282\n",
      "Epoch 34/50\n",
      "391/391 [==============================] - 2s 6ms/step - loss: 11.3807 - accuracy: 0.2301\n",
      "Epoch 35/50\n",
      "391/391 [==============================] - 2s 6ms/step - loss: 11.1985 - accuracy: 0.2307\n",
      "Epoch 36/50\n",
      "391/391 [==============================] - 2s 6ms/step - loss: 11.0310 - accuracy: 0.2344\n",
      "Epoch 37/50\n",
      "391/391 [==============================] - 2s 5ms/step - loss: 10.8199 - accuracy: 0.2342\n",
      "Epoch 38/50\n",
      "391/391 [==============================] - 2s 6ms/step - loss: 10.5937 - accuracy: 0.2360\n",
      "Epoch 39/50\n",
      "391/391 [==============================] - 2s 5ms/step - loss: 10.4537 - accuracy: 0.2369\n",
      "Epoch 40/50\n",
      "391/391 [==============================] - 2s 5ms/step - loss: 10.2915 - accuracy: 0.2390\n",
      "Epoch 41/50\n",
      "391/391 [==============================] - 2s 5ms/step - loss: 10.0517 - accuracy: 0.2418\n",
      "Epoch 42/50\n",
      "391/391 [==============================] - 2s 5ms/step - loss: 9.9644 - accuracy: 0.2424\n",
      "Epoch 43/50\n",
      "391/391 [==============================] - 2s 6ms/step - loss: 9.7292 - accuracy: 0.2436\n",
      "Epoch 44/50\n",
      "391/391 [==============================] - 2s 5ms/step - loss: 9.6179 - accuracy: 0.2452\n",
      "Epoch 45/50\n",
      "391/391 [==============================] - 2s 5ms/step - loss: 9.4580 - accuracy: 0.2479\n",
      "Epoch 46/50\n",
      "391/391 [==============================] - 2s 6ms/step - loss: 9.3184 - accuracy: 0.2488\n",
      "Epoch 47/50\n",
      "391/391 [==============================] - 2s 6ms/step - loss: 9.2192 - accuracy: 0.2507\n",
      "Epoch 48/50\n",
      "391/391 [==============================] - 2s 6ms/step - loss: 9.0012 - accuracy: 0.2524\n",
      "Epoch 49/50\n",
      "391/391 [==============================] - 2s 6ms/step - loss: 8.8946 - accuracy: 0.2546\n",
      "Epoch 50/50\n",
      "391/391 [==============================] - 2s 5ms/step - loss: 8.8005 - accuracy: 0.2536\n"
     ]
    },
    {
     "data": {
      "text/plain": [
       "<keras.callbacks.History at 0x7f4c82999ca0>"
      ]
     },
     "execution_count": 22,
     "metadata": {},
     "output_type": "execute_result"
    }
   ],
   "source": [
    "clf_model.fit(bottleneck_features_train, y_train, batch_size=batch_size, epochs=epochs, verbose=1)"
   ]
  },
  {
   "cell_type": "markdown",
   "id": "d6ed5108-a5a6-42d6-8ebf-f196e4840703",
   "metadata": {},
   "source": [
    "<h3>Predict and test model performance</h3>"
   ]
  },
  {
   "cell_type": "code",
   "execution_count": 23,
   "id": "45269978-ede8-4bb9-9835-60e739be6e1f",
   "metadata": {},
   "outputs": [
    {
     "name": "stdout",
     "output_type": "stream",
     "text": [
      "313/313 [==============================] - 1s 2ms/step - loss: 2.8208 - accuracy: 0.4175\n"
     ]
    }
   ],
   "source": [
    "score = clf_model.evaluate(bottleneck_features_test, y_test, verbose=1)"
   ]
  },
  {
   "cell_type": "code",
   "execution_count": 24,
   "id": "f4c0db66-feaf-461d-9d82-19c4a0901675",
   "metadata": {},
   "outputs": [
    {
     "name": "stdout",
     "output_type": "stream",
     "text": [
      "Test loss:  2.8208189010620117\n",
      "Test accuracy:  0.41749998927116394\n"
     ]
    }
   ],
   "source": [
    "print('Test loss: ', score[0])\n",
    "print('Test accuracy: ', score[1])"
   ]
  },
  {
   "cell_type": "markdown",
   "id": "20fe87d7-bc61-4cd1-a2f1-0ad845448601",
   "metadata": {},
   "source": [
    "<h3>Assign label to test image</h3>"
   ]
  },
  {
   "cell_type": "code",
   "execution_count": 34,
   "id": "d9a3a177-094e-47ba-bfe9-343add422b51",
   "metadata": {},
   "outputs": [],
   "source": [
    "def predict_label(img_idx,show_proba=True):\n",
    "    plt.imshow(x_test[img_idx],aspect='auto')\n",
    "    plt.title(\"Image to be Labeled\")\n",
    "    plt.show()\n",
    "    \n",
    "    print(\"Actual Class:{}\".format(np.nonzero(y_test[img_idx])[0][0]))\n",
    "    \n",
    "    test_image =np.expand_dims(x_test[img_idx], axis=0)\n",
    "    bf = vgg_model.predict(test_image,verbose=0)\n",
    "    pred_label = clf_model.predict(bf,batch_size=1,verbose=0)\n",
    "    \n",
    "    print(\"Predicted Class:{}\".format(max(pred_label[0]).index))\n",
    "    if show_proba:\n",
    "        print(\"Predicted Probabilities\")\n",
    "        print(clf_model.predict(bf))"
   ]
  },
  {
   "cell_type": "code",
   "execution_count": 35,
   "id": "7b4b5f30-971b-4aec-ac95-97aec7bae008",
   "metadata": {},
   "outputs": [
    {
     "data": {
      "image/png": "[encoded data removed]",
      "text/plain": [
       "<Figure size 1500x500 with 1 Axes>"
      ]
     },
     "metadata": {},
     "output_type": "display_data"
    },
    {
     "name": "stdout",
     "output_type": "stream",
     "text": [
      "Actual Class:8\n"
     ]
    },
    {
     "ename": "AttributeError",
     "evalue": "'numpy.float32' object has no attribute 'index'",
     "output_type": "error",
     "traceback": [
      "\u001b[0;31m---------------------------------------------------------------------------\u001b[0m",
      "\u001b[0;31mAttributeError\u001b[0m                            Traceback (most recent call last)",
      "\u001b[0;32m/tmp/ipykernel_19808/997137390.py\u001b[0m in \u001b[0;36m<module>\u001b[0;34m\u001b[0m\n\u001b[1;32m      1\u001b[0m \u001b[0mimg_idx\u001b[0m \u001b[0;34m=\u001b[0m \u001b[0;36m3999\u001b[0m \u001b[0;31m# sample indices : 999,1999 and 3999\u001b[0m\u001b[0;34m\u001b[0m\u001b[0;34m\u001b[0m\u001b[0m\n\u001b[1;32m      2\u001b[0m \u001b[0;32mfor\u001b[0m \u001b[0mimg_idx\u001b[0m \u001b[0;32min\u001b[0m \u001b[0;34m[\u001b[0m\u001b[0;36m999\u001b[0m\u001b[0;34m,\u001b[0m\u001b[0;36m1999\u001b[0m\u001b[0;34m,\u001b[0m\u001b[0;36m3999\u001b[0m\u001b[0;34m]\u001b[0m\u001b[0;34m:\u001b[0m\u001b[0;34m\u001b[0m\u001b[0;34m\u001b[0m\u001b[0m\n\u001b[0;32m----> 3\u001b[0;31m     \u001b[0mpredict_label\u001b[0m\u001b[0;34m(\u001b[0m\u001b[0mimg_idx\u001b[0m\u001b[0;34m)\u001b[0m\u001b[0;34m\u001b[0m\u001b[0;34m\u001b[0m\u001b[0m\n\u001b[0m",
      "\u001b[0;32m/tmp/ipykernel_19808/2501651336.py\u001b[0m in \u001b[0;36mpredict_label\u001b[0;34m(img_idx, show_proba)\u001b[0m\n\u001b[1;32m     10\u001b[0m     \u001b[0mpred_label\u001b[0m \u001b[0;34m=\u001b[0m \u001b[0mclf_model\u001b[0m\u001b[0;34m.\u001b[0m\u001b[0mpredict\u001b[0m\u001b[0;34m(\u001b[0m\u001b[0mbf\u001b[0m\u001b[0;34m,\u001b[0m\u001b[0mbatch_size\u001b[0m\u001b[0;34m=\u001b[0m\u001b[0;36m1\u001b[0m\u001b[0;34m,\u001b[0m\u001b[0mverbose\u001b[0m\u001b[0;34m=\u001b[0m\u001b[0;36m0\u001b[0m\u001b[0;34m)\u001b[0m\u001b[0;34m\u001b[0m\u001b[0;34m\u001b[0m\u001b[0m\n\u001b[1;32m     11\u001b[0m \u001b[0;34m\u001b[0m\u001b[0m\n\u001b[0;32m---> 12\u001b[0;31m     \u001b[0mprint\u001b[0m\u001b[0;34m(\u001b[0m\u001b[0;34m\"Predicted Class:{}\"\u001b[0m\u001b[0;34m.\u001b[0m\u001b[0mformat\u001b[0m\u001b[0;34m(\u001b[0m\u001b[0mmax\u001b[0m\u001b[0;34m(\u001b[0m\u001b[0mpred_label\u001b[0m\u001b[0;34m[\u001b[0m\u001b[0;36m0\u001b[0m\u001b[0;34m]\u001b[0m\u001b[0;34m)\u001b[0m\u001b[0;34m.\u001b[0m\u001b[0mindex\u001b[0m\u001b[0;34m)\u001b[0m\u001b[0;34m)\u001b[0m\u001b[0;34m\u001b[0m\u001b[0;34m\u001b[0m\u001b[0m\n\u001b[0m\u001b[1;32m     13\u001b[0m     \u001b[0;32mif\u001b[0m \u001b[0mshow_proba\u001b[0m\u001b[0;34m:\u001b[0m\u001b[0;34m\u001b[0m\u001b[0;34m\u001b[0m\u001b[0m\n\u001b[1;32m     14\u001b[0m         \u001b[0mprint\u001b[0m\u001b[0;34m(\u001b[0m\u001b[0;34m\"Predicted Probabilities\"\u001b[0m\u001b[0;34m)\u001b[0m\u001b[0;34m\u001b[0m\u001b[0;34m\u001b[0m\u001b[0m\n",
      "\u001b[0;31mAttributeError\u001b[0m: 'numpy.float32' object has no attribute 'index'"
     ]
    }
   ],
   "source": [
    "img_idx = 3999 # sample indices : 999,1999 and 3999\n",
    "for img_idx in [999,1999,3999]:\n",
    "    predict_label(img_idx)"
   ]
  },
  {
   "cell_type": "code",
   "execution_count": null,
   "id": "8a06d688-618c-4c34-a2ce-94676da606ac",
   "metadata": {},
   "outputs": [],
   "source": []
  },
  {
   "cell_type": "code",
   "execution_count": null,
   "id": "60409529-d8e5-4f3c-9977-9f9345b83206",
   "metadata": {},
   "outputs": [],
   "source": []
  },
  {
   "cell_type": "code",
   "execution_count": null,
   "id": "73e236b5-9ea0-455e-815d-cda6cd03d071",
   "metadata": {},
   "outputs": [],
   "source": []
  }
 ],
 "metadata": {
  "kernelspec": {
   "display_name": "Python 3 (ipykernel)",
   "language": "python",
   "name": "python3"
  },
  "language_info": {
   "codemirror_mode": {
    "name": "ipython",
    "version": 3
   },
   "file_extension": ".py",
   "mimetype": "text/x-python",
   "name": "python",
   "nbconvert_exporter": "python",
   "pygments_lexer": "ipython3",
   "version": "3.9.13"
  }
 },
 "nbformat": 4,
 "nbformat_minor": 5
}
