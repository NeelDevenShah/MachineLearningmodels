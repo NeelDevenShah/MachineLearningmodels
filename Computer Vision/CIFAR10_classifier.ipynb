{
 "cells": [
  {
   "cell_type": "code",
   "execution_count": 1,
   "id": "853c88b5-f8bb-477c-946d-caee92fe2a62",
   "metadata": {},
   "outputs": [],
   "source": [
    "# Import required libs\n",
    "import keras\n",
    "import numpy as np\n",
    "from keras import backend as k\n",
    "from keras.datasets import cifar10\n",
    "from keras.models import Sequential\n",
    "from keras.layers import Dense, Dropout, Flatten\n",
    "from keras.layers import Conv2D, MaxPooling2D\n",
    "from keras.applications.vgg16 import preprocess_input, decode_predictions\n",
    "\n",
    "import matplotlib.pyplot as plt\n",
    "params = {'legend.fontsize': 'x-large',\n",
    "          'figure.figsize': (15, 5),\n",
    "         'axes.labelsize': 'x-large',\n",
    "         'axes.titlesize':'x-large',\n",
    "         'xtick.labelsize':'x-large',\n",
    "         'ytick.labelsize':'x-large'}\n",
    "\n",
    "plt.rcParams.update(params)\n",
    "\n",
    "%matplotlib inline"
   ]
  },
  {
   "cell_type": "markdown",
   "id": "8adf8d37-de71-4d58-91c9-d62760e3f92b",
   "metadata": {},
   "source": [
    "<h2>Set Parameters<h2>"
   ]
  },
  {
   "cell_type": "markdown",
   "id": "c3ab3e69-3138-4345-a1ea-06d635d5cc10",
   "metadata": {},
   "source": [
    "<h2>Set Parameters<h2>"
   ]
  },
  {
   "cell_type": "code",
   "execution_count": 3,
   "id": "3cd8fcb5-55ef-4c5d-87c3-2dd48d1e1661",
   "metadata": {},
   "outputs": [],
   "source": [
    "batch_size=128\n",
    "num_classes = 10\n",
    "epochs = 10\n",
    "input_shape = (32, 32, 3)"
   ]
  },
  {
   "cell_type": "markdown",
   "id": "4f1aa3b3-d7ce-483a-8718-cadaf6076fe9",
   "metadata": {},
   "source": [
    "<h2>Get CIFAR Dataset<h2>"
   ]
  },
  {
   "cell_type": "code",
   "execution_count": 4,
   "id": "ebb77437-af81-4f07-8497-403741aaf96b",
   "metadata": {},
   "outputs": [
    {
     "name": "stdout",
     "output_type": "stream",
     "text": [
      "Downloading data from https://www.cs.toronto.edu/~kriz/cifar-10-python.tar.gz\n",
      "170498071/170498071 [==============================] - 231s 1us/step\n"
     ]
    }
   ],
   "source": [
    "# the data, shuffeled and split between train and test sets\n",
    "(x_train, y_train), (x_test, y_test) = cifar10.load_data()"
   ]
  },
  {
   "cell_type": "markdown",
   "id": "c68e8977-2b81-48cf-9f31-81f2f07bd507",
   "metadata": {},
   "source": [
    "<h2>Dataset Details<h2>"
   ]
  },
  {
   "cell_type": "code",
   "execution_count": 6,
   "id": "9954d629-112b-4c8e-87de-9838a08c7f4c",
   "metadata": {},
   "outputs": [
    {
     "name": "stdout",
     "output_type": "stream",
     "text": [
      "x_train shape: (50000, 32, 32, 3)\n",
      "50000 train samples\n",
      "10000 test samples\n"
     ]
    }
   ],
   "source": [
    "print('x_train shape:', x_train.shape)\n",
    "print(x_train.shape[0], 'train samples')\n",
    "print(x_test.shape[0], 'test samples')"
   ]
  },
  {
   "cell_type": "code",
   "execution_count": 7,
   "id": "8b1c94e7-c64a-4176-8695-7e997364607a",
   "metadata": {},
   "outputs": [],
   "source": [
    "# Convert class vectors to binary class metrices\n",
    "y_train = keras.utils.to_categorical(y_train, num_classes)\n",
    "y_test = keras.utils.to_categorical(y_test, num_classes)"
   ]
  },
  {
   "cell_type": "markdown",
   "id": "69970011-93c9-4054-864d-5e737c351a03",
   "metadata": {},
   "source": [
    "<h2>Build a CNN based deep neural network<h2>"
   ]
  },
  {
   "cell_type": "code",
   "execution_count": 8,
   "id": "d81657fa-fa10-41f9-bf25-47306e31d693",
   "metadata": {},
   "outputs": [
    {
     "name": "stderr",
     "output_type": "stream",
     "text": [
      "2023-02-25 12:43:24.330561: W tensorflow/compiler/xla/stream_executor/platform/default/dso_loader.cc:64] Could not load dynamic library 'libcuda.so.1'; dlerror: libcuda.so.1: cannot open shared object file: No such file or directory\n",
      "2023-02-25 12:43:24.330917: W tensorflow/compiler/xla/stream_executor/cuda/cuda_driver.cc:265] failed call to cuInit: UNKNOWN ERROR (303)\n",
      "2023-02-25 12:43:24.330946: I tensorflow/compiler/xla/stream_executor/cuda/cuda_diagnostics.cc:156] kernel driver does not appear to be running on this host (pop-os): /proc/driver/nvidia/version does not exist\n",
      "2023-02-25 12:43:24.332058: I tensorflow/core/platform/cpu_feature_guard.cc:193] This TensorFlow binary is optimized with oneAPI Deep Neural Network Library (oneDNN) to use the following CPU instructions in performance-critical operations:  AVX2 AVX512F AVX512_VNNI FMA\n",
      "To enable them in other operations, rebuild TensorFlow with the appropriate compiler flags.\n"
     ]
    }
   ],
   "source": [
    "model = Sequential()\n",
    "model.add(Conv2D(32, kernel_size=(3, 3), activation='relu', input_shape=input_shape))\n",
    "model.add(Conv2D(64, (3, 3), activation='relu'))\n",
    "model.add(MaxPooling2D(pool_size=(2, 2)))\n",
    "model.add(Dropout(0.25))\n",
    "model.add(Flatten())\n",
    "model.add(Dense(128, activation='relu'))\n",
    "model.add(Dropout(0.5))\n",
    "model.add(Dense(num_classes, activation='softmax'))"
   ]
  },
  {
   "cell_type": "markdown",
   "id": "0d01b5e4-4257-41ea-95aa-280baf5752de",
   "metadata": {},
   "source": [
    "<h2>visualize the network architecture<h2>"
   ]
  },
  {
   "cell_type": "code",
   "execution_count": 9,
   "id": "2f350159-6d19-4ef4-b7c0-d2033d947262",
   "metadata": {},
   "outputs": [
    {
     "data": {
      "image/svg+xml": [
       "<svg xmlns=\"http://www.w3.org/2000/svg\" xmlns:xlink=\"http://www.w3.org/1999/xlink\" width=\"461pt\" height=\"959pt\" viewBox=\"0.00 0.00 346.00 719.00\">\n",
       "<g id=\"graph0\" class=\"graph\" transform=\"scale(1.33 1.33) rotate(0) translate(4 715)\">\n",
       "<title>G</title>\n",
       "<polygon fill=\"white\" stroke=\"transparent\" points=\"-4,4 -4,-715 342,-715 342,4 -4,4\"/>\n",
       "<!-- 139946082216064 -->\n",
       "<g id=\"node1\" class=\"node\">\n",
       "<title>139946082216064</title>\n",
       "<polygon fill=\"none\" stroke=\"black\" points=\"5.5,-664.5 5.5,-710.5 332.5,-710.5 332.5,-664.5 5.5,-664.5\"/>\n",
       "<text text-anchor=\"middle\" x=\"61.5\" y=\"-695.3\" font-family=\"Times,serif\" font-size=\"14.00\">conv2d_input</text>\n",
       "<polyline fill=\"none\" stroke=\"black\" points=\"5.5,-687.5 117.5,-687.5 \"/>\n",
       "<text text-anchor=\"middle\" x=\"61.5\" y=\"-672.3\" font-family=\"Times,serif\" font-size=\"14.00\">InputLayer</text>\n",
       "<polyline fill=\"none\" stroke=\"black\" points=\"117.5,-664.5 117.5,-710.5 \"/>\n",
       "<text text-anchor=\"middle\" x=\"151.5\" y=\"-695.3\" font-family=\"Times,serif\" font-size=\"14.00\">input:</text>\n",
       "<polyline fill=\"none\" stroke=\"black\" points=\"117.5,-687.5 185.5,-687.5 \"/>\n",
       "<text text-anchor=\"middle\" x=\"151.5\" y=\"-672.3\" font-family=\"Times,serif\" font-size=\"14.00\">output:</text>\n",
       "<polyline fill=\"none\" stroke=\"black\" points=\"185.5,-664.5 185.5,-710.5 \"/>\n",
       "<text text-anchor=\"middle\" x=\"259\" y=\"-695.3\" font-family=\"Times,serif\" font-size=\"14.00\">[(None, 32, 32, 3)]</text>\n",
       "<polyline fill=\"none\" stroke=\"black\" points=\"185.5,-687.5 332.5,-687.5 \"/>\n",
       "<text text-anchor=\"middle\" x=\"259\" y=\"-672.3\" font-family=\"Times,serif\" font-size=\"14.00\">[(None, 32, 32, 3)]</text>\n",
       "</g>\n",
       "<!-- 139946082169424 -->\n",
       "<g id=\"node2\" class=\"node\">\n",
       "<title>139946082169424</title>\n",
       "<polygon fill=\"none\" stroke=\"black\" points=\"25.5,-581.5 25.5,-627.5 312.5,-627.5 312.5,-581.5 25.5,-581.5\"/>\n",
       "<text text-anchor=\"middle\" x=\"62\" y=\"-612.3\" font-family=\"Times,serif\" font-size=\"14.00\">conv2d</text>\n",
       "<polyline fill=\"none\" stroke=\"black\" points=\"25.5,-604.5 98.5,-604.5 \"/>\n",
       "<text text-anchor=\"middle\" x=\"62\" y=\"-589.3\" font-family=\"Times,serif\" font-size=\"14.00\">Conv2D</text>\n",
       "<polyline fill=\"none\" stroke=\"black\" points=\"98.5,-581.5 98.5,-627.5 \"/>\n",
       "<text text-anchor=\"middle\" x=\"132.5\" y=\"-612.3\" font-family=\"Times,serif\" font-size=\"14.00\">input:</text>\n",
       "<polyline fill=\"none\" stroke=\"black\" points=\"98.5,-604.5 166.5,-604.5 \"/>\n",
       "<text text-anchor=\"middle\" x=\"132.5\" y=\"-589.3\" font-family=\"Times,serif\" font-size=\"14.00\">output:</text>\n",
       "<polyline fill=\"none\" stroke=\"black\" points=\"166.5,-581.5 166.5,-627.5 \"/>\n",
       "<text text-anchor=\"middle\" x=\"239.5\" y=\"-612.3\" font-family=\"Times,serif\" font-size=\"14.00\">(None, 32, 32, 3)</text>\n",
       "<polyline fill=\"none\" stroke=\"black\" points=\"166.5,-604.5 312.5,-604.5 \"/>\n",
       "<text text-anchor=\"middle\" x=\"239.5\" y=\"-589.3\" font-family=\"Times,serif\" font-size=\"14.00\">(None, 30, 30, 32)</text>\n",
       "</g>\n",
       "<!-- 139946082216064&#45;&gt;139946082169424 -->\n",
       "<g id=\"edge1\" class=\"edge\">\n",
       "<title>139946082216064-&gt;139946082169424</title>\n",
       "<path fill=\"none\" stroke=\"black\" d=\"M169,-664.37C169,-656.15 169,-646.66 169,-637.73\"/>\n",
       "<polygon fill=\"black\" stroke=\"black\" points=\"172.5,-637.61 169,-627.61 165.5,-637.61 172.5,-637.61\"/>\n",
       "</g>\n",
       "<!-- 139946083620608 -->\n",
       "<g id=\"node3\" class=\"node\">\n",
       "<title>139946083620608</title>\n",
       "<polygon fill=\"none\" stroke=\"black\" points=\"20.5,-498.5 20.5,-544.5 317.5,-544.5 317.5,-498.5 20.5,-498.5\"/>\n",
       "<text text-anchor=\"middle\" x=\"62\" y=\"-529.3\" font-family=\"Times,serif\" font-size=\"14.00\">conv2d_1</text>\n",
       "<polyline fill=\"none\" stroke=\"black\" points=\"20.5,-521.5 103.5,-521.5 \"/>\n",
       "<text text-anchor=\"middle\" x=\"62\" y=\"-506.3\" font-family=\"Times,serif\" font-size=\"14.00\">Conv2D</text>\n",
       "<polyline fill=\"none\" stroke=\"black\" points=\"103.5,-498.5 103.5,-544.5 \"/>\n",
       "<text text-anchor=\"middle\" x=\"137.5\" y=\"-529.3\" font-family=\"Times,serif\" font-size=\"14.00\">input:</text>\n",
       "<polyline fill=\"none\" stroke=\"black\" points=\"103.5,-521.5 171.5,-521.5 \"/>\n",
       "<text text-anchor=\"middle\" x=\"137.5\" y=\"-506.3\" font-family=\"Times,serif\" font-size=\"14.00\">output:</text>\n",
       "<polyline fill=\"none\" stroke=\"black\" points=\"171.5,-498.5 171.5,-544.5 \"/>\n",
       "<text text-anchor=\"middle\" x=\"244.5\" y=\"-529.3\" font-family=\"Times,serif\" font-size=\"14.00\">(None, 30, 30, 32)</text>\n",
       "<polyline fill=\"none\" stroke=\"black\" points=\"171.5,-521.5 317.5,-521.5 \"/>\n",
       "<text text-anchor=\"middle\" x=\"244.5\" y=\"-506.3\" font-family=\"Times,serif\" font-size=\"14.00\">(None, 28, 28, 64)</text>\n",
       "</g>\n",
       "<!-- 139946082169424&#45;&gt;139946083620608 -->\n",
       "<g id=\"edge2\" class=\"edge\">\n",
       "<title>139946082169424-&gt;139946083620608</title>\n",
       "<path fill=\"none\" stroke=\"black\" d=\"M169,-581.37C169,-573.15 169,-563.66 169,-554.73\"/>\n",
       "<polygon fill=\"black\" stroke=\"black\" points=\"172.5,-554.61 169,-544.61 165.5,-554.61 172.5,-554.61\"/>\n",
       "</g>\n",
       "<!-- 139946082223776 -->\n",
       "<g id=\"node4\" class=\"node\">\n",
       "<title>139946082223776</title>\n",
       "<polygon fill=\"none\" stroke=\"black\" points=\"0,-415.5 0,-461.5 338,-461.5 338,-415.5 0,-415.5\"/>\n",
       "<text text-anchor=\"middle\" x=\"62\" y=\"-446.3\" font-family=\"Times,serif\" font-size=\"14.00\">max_pooling2d</text>\n",
       "<polyline fill=\"none\" stroke=\"black\" points=\"0,-438.5 124,-438.5 \"/>\n",
       "<text text-anchor=\"middle\" x=\"62\" y=\"-423.3\" font-family=\"Times,serif\" font-size=\"14.00\">MaxPooling2D</text>\n",
       "<polyline fill=\"none\" stroke=\"black\" points=\"124,-415.5 124,-461.5 \"/>\n",
       "<text text-anchor=\"middle\" x=\"158\" y=\"-446.3\" font-family=\"Times,serif\" font-size=\"14.00\">input:</text>\n",
       "<polyline fill=\"none\" stroke=\"black\" points=\"124,-438.5 192,-438.5 \"/>\n",
       "<text text-anchor=\"middle\" x=\"158\" y=\"-423.3\" font-family=\"Times,serif\" font-size=\"14.00\">output:</text>\n",
       "<polyline fill=\"none\" stroke=\"black\" points=\"192,-415.5 192,-461.5 \"/>\n",
       "<text text-anchor=\"middle\" x=\"265\" y=\"-446.3\" font-family=\"Times,serif\" font-size=\"14.00\">(None, 28, 28, 64)</text>\n",
       "<polyline fill=\"none\" stroke=\"black\" points=\"192,-438.5 338,-438.5 \"/>\n",
       "<text text-anchor=\"middle\" x=\"265\" y=\"-423.3\" font-family=\"Times,serif\" font-size=\"14.00\">(None, 14, 14, 64)</text>\n",
       "</g>\n",
       "<!-- 139946083620608&#45;&gt;139946082223776 -->\n",
       "<g id=\"edge3\" class=\"edge\">\n",
       "<title>139946083620608-&gt;139946082223776</title>\n",
       "<path fill=\"none\" stroke=\"black\" d=\"M169,-498.37C169,-490.15 169,-480.66 169,-471.73\"/>\n",
       "<polygon fill=\"black\" stroke=\"black\" points=\"172.5,-471.61 169,-461.61 165.5,-471.61 172.5,-471.61\"/>\n",
       "</g>\n",
       "<!-- 139946082258464 -->\n",
       "<g id=\"node5\" class=\"node\">\n",
       "<title>139946082258464</title>\n",
       "<polygon fill=\"none\" stroke=\"black\" points=\"24.5,-332.5 24.5,-378.5 313.5,-378.5 313.5,-332.5 24.5,-332.5\"/>\n",
       "<text text-anchor=\"middle\" x=\"62\" y=\"-363.3\" font-family=\"Times,serif\" font-size=\"14.00\">dropout</text>\n",
       "<polyline fill=\"none\" stroke=\"black\" points=\"24.5,-355.5 99.5,-355.5 \"/>\n",
       "<text text-anchor=\"middle\" x=\"62\" y=\"-340.3\" font-family=\"Times,serif\" font-size=\"14.00\">Dropout</text>\n",
       "<polyline fill=\"none\" stroke=\"black\" points=\"99.5,-332.5 99.5,-378.5 \"/>\n",
       "<text text-anchor=\"middle\" x=\"133.5\" y=\"-363.3\" font-family=\"Times,serif\" font-size=\"14.00\">input:</text>\n",
       "<polyline fill=\"none\" stroke=\"black\" points=\"99.5,-355.5 167.5,-355.5 \"/>\n",
       "<text text-anchor=\"middle\" x=\"133.5\" y=\"-340.3\" font-family=\"Times,serif\" font-size=\"14.00\">output:</text>\n",
       "<polyline fill=\"none\" stroke=\"black\" points=\"167.5,-332.5 167.5,-378.5 \"/>\n",
       "<text text-anchor=\"middle\" x=\"240.5\" y=\"-363.3\" font-family=\"Times,serif\" font-size=\"14.00\">(None, 14, 14, 64)</text>\n",
       "<polyline fill=\"none\" stroke=\"black\" points=\"167.5,-355.5 313.5,-355.5 \"/>\n",
       "<text text-anchor=\"middle\" x=\"240.5\" y=\"-340.3\" font-family=\"Times,serif\" font-size=\"14.00\">(None, 14, 14, 64)</text>\n",
       "</g>\n",
       "<!-- 139946082223776&#45;&gt;139946082258464 -->\n",
       "<g id=\"edge4\" class=\"edge\">\n",
       "<title>139946082223776-&gt;139946082258464</title>\n",
       "<path fill=\"none\" stroke=\"black\" d=\"M169,-415.37C169,-407.15 169,-397.66 169,-388.73\"/>\n",
       "<polygon fill=\"black\" stroke=\"black\" points=\"172.5,-388.61 169,-378.61 165.5,-388.61 172.5,-388.61\"/>\n",
       "</g>\n",
       "<!-- 139946082225456 -->\n",
       "<g id=\"node6\" class=\"node\">\n",
       "<title>139946082225456</title>\n",
       "<polygon fill=\"none\" stroke=\"black\" points=\"28,-249.5 28,-295.5 310,-295.5 310,-249.5 28,-249.5\"/>\n",
       "<text text-anchor=\"middle\" x=\"62\" y=\"-280.3\" font-family=\"Times,serif\" font-size=\"14.00\">flatten</text>\n",
       "<polyline fill=\"none\" stroke=\"black\" points=\"28,-272.5 96,-272.5 \"/>\n",
       "<text text-anchor=\"middle\" x=\"62\" y=\"-257.3\" font-family=\"Times,serif\" font-size=\"14.00\">Flatten</text>\n",
       "<polyline fill=\"none\" stroke=\"black\" points=\"96,-249.5 96,-295.5 \"/>\n",
       "<text text-anchor=\"middle\" x=\"130\" y=\"-280.3\" font-family=\"Times,serif\" font-size=\"14.00\">input:</text>\n",
       "<polyline fill=\"none\" stroke=\"black\" points=\"96,-272.5 164,-272.5 \"/>\n",
       "<text text-anchor=\"middle\" x=\"130\" y=\"-257.3\" font-family=\"Times,serif\" font-size=\"14.00\">output:</text>\n",
       "<polyline fill=\"none\" stroke=\"black\" points=\"164,-249.5 164,-295.5 \"/>\n",
       "<text text-anchor=\"middle\" x=\"237\" y=\"-280.3\" font-family=\"Times,serif\" font-size=\"14.00\">(None, 14, 14, 64)</text>\n",
       "<polyline fill=\"none\" stroke=\"black\" points=\"164,-272.5 310,-272.5 \"/>\n",
       "<text text-anchor=\"middle\" x=\"237\" y=\"-257.3\" font-family=\"Times,serif\" font-size=\"14.00\">(None, 12544)</text>\n",
       "</g>\n",
       "<!-- 139946082258464&#45;&gt;139946082225456 -->\n",
       "<g id=\"edge5\" class=\"edge\">\n",
       "<title>139946082258464-&gt;139946082225456</title>\n",
       "<path fill=\"none\" stroke=\"black\" d=\"M169,-332.37C169,-324.15 169,-314.66 169,-305.73\"/>\n",
       "<polygon fill=\"black\" stroke=\"black\" points=\"172.5,-305.61 169,-295.61 165.5,-305.61 172.5,-305.61\"/>\n",
       "</g>\n",
       "<!-- 139946082171344 -->\n",
       "<g id=\"node7\" class=\"node\">\n",
       "<title>139946082171344</title>\n",
       "<polygon fill=\"none\" stroke=\"black\" points=\"45,-166.5 45,-212.5 293,-212.5 293,-166.5 45,-166.5\"/>\n",
       "<text text-anchor=\"middle\" x=\"75.5\" y=\"-197.3\" font-family=\"Times,serif\" font-size=\"14.00\">dense</text>\n",
       "<polyline fill=\"none\" stroke=\"black\" points=\"45,-189.5 106,-189.5 \"/>\n",
       "<text text-anchor=\"middle\" x=\"75.5\" y=\"-174.3\" font-family=\"Times,serif\" font-size=\"14.00\">Dense</text>\n",
       "<polyline fill=\"none\" stroke=\"black\" points=\"106,-166.5 106,-212.5 \"/>\n",
       "<text text-anchor=\"middle\" x=\"140\" y=\"-197.3\" font-family=\"Times,serif\" font-size=\"14.00\">input:</text>\n",
       "<polyline fill=\"none\" stroke=\"black\" points=\"106,-189.5 174,-189.5 \"/>\n",
       "<text text-anchor=\"middle\" x=\"140\" y=\"-174.3\" font-family=\"Times,serif\" font-size=\"14.00\">output:</text>\n",
       "<polyline fill=\"none\" stroke=\"black\" points=\"174,-166.5 174,-212.5 \"/>\n",
       "<text text-anchor=\"middle\" x=\"233.5\" y=\"-197.3\" font-family=\"Times,serif\" font-size=\"14.00\">(None, 12544)</text>\n",
       "<polyline fill=\"none\" stroke=\"black\" points=\"174,-189.5 293,-189.5 \"/>\n",
       "<text text-anchor=\"middle\" x=\"233.5\" y=\"-174.3\" font-family=\"Times,serif\" font-size=\"14.00\">(None, 128)</text>\n",
       "</g>\n",
       "<!-- 139946082225456&#45;&gt;139946082171344 -->\n",
       "<g id=\"edge6\" class=\"edge\">\n",
       "<title>139946082225456-&gt;139946082171344</title>\n",
       "<path fill=\"none\" stroke=\"black\" d=\"M169,-249.37C169,-241.15 169,-231.66 169,-222.73\"/>\n",
       "<polygon fill=\"black\" stroke=\"black\" points=\"172.5,-222.61 169,-212.61 165.5,-222.61 172.5,-222.61\"/>\n",
       "</g>\n",
       "<!-- 139946082291920 -->\n",
       "<g id=\"node8\" class=\"node\">\n",
       "<title>139946082291920</title>\n",
       "<polygon fill=\"none\" stroke=\"black\" points=\"40,-83.5 40,-129.5 298,-129.5 298,-83.5 40,-83.5\"/>\n",
       "<text text-anchor=\"middle\" x=\"84.5\" y=\"-114.3\" font-family=\"Times,serif\" font-size=\"14.00\">dropout_1</text>\n",
       "<polyline fill=\"none\" stroke=\"black\" points=\"40,-106.5 129,-106.5 \"/>\n",
       "<text text-anchor=\"middle\" x=\"84.5\" y=\"-91.3\" font-family=\"Times,serif\" font-size=\"14.00\">Dropout</text>\n",
       "<polyline fill=\"none\" stroke=\"black\" points=\"129,-83.5 129,-129.5 \"/>\n",
       "<text text-anchor=\"middle\" x=\"163\" y=\"-114.3\" font-family=\"Times,serif\" font-size=\"14.00\">input:</text>\n",
       "<polyline fill=\"none\" stroke=\"black\" points=\"129,-106.5 197,-106.5 \"/>\n",
       "<text text-anchor=\"middle\" x=\"163\" y=\"-91.3\" font-family=\"Times,serif\" font-size=\"14.00\">output:</text>\n",
       "<polyline fill=\"none\" stroke=\"black\" points=\"197,-83.5 197,-129.5 \"/>\n",
       "<text text-anchor=\"middle\" x=\"247.5\" y=\"-114.3\" font-family=\"Times,serif\" font-size=\"14.00\">(None, 128)</text>\n",
       "<polyline fill=\"none\" stroke=\"black\" points=\"197,-106.5 298,-106.5 \"/>\n",
       "<text text-anchor=\"middle\" x=\"247.5\" y=\"-91.3\" font-family=\"Times,serif\" font-size=\"14.00\">(None, 128)</text>\n",
       "</g>\n",
       "<!-- 139946082171344&#45;&gt;139946082291920 -->\n",
       "<g id=\"edge7\" class=\"edge\">\n",
       "<title>139946082171344-&gt;139946082291920</title>\n",
       "<path fill=\"none\" stroke=\"black\" d=\"M169,-166.37C169,-158.15 169,-148.66 169,-139.73\"/>\n",
       "<polygon fill=\"black\" stroke=\"black\" points=\"172.5,-139.61 169,-129.61 165.5,-139.61 172.5,-139.61\"/>\n",
       "</g>\n",
       "<!-- 139946082358560 -->\n",
       "<g id=\"node9\" class=\"node\">\n",
       "<title>139946082358560</title>\n",
       "<polygon fill=\"none\" stroke=\"black\" points=\"47.5,-0.5 47.5,-46.5 290.5,-46.5 290.5,-0.5 47.5,-0.5\"/>\n",
       "<text text-anchor=\"middle\" x=\"84.5\" y=\"-31.3\" font-family=\"Times,serif\" font-size=\"14.00\">dense_1</text>\n",
       "<polyline fill=\"none\" stroke=\"black\" points=\"47.5,-23.5 121.5,-23.5 \"/>\n",
       "<text text-anchor=\"middle\" x=\"84.5\" y=\"-8.3\" font-family=\"Times,serif\" font-size=\"14.00\">Dense</text>\n",
       "<polyline fill=\"none\" stroke=\"black\" points=\"121.5,-0.5 121.5,-46.5 \"/>\n",
       "<text text-anchor=\"middle\" x=\"155.5\" y=\"-31.3\" font-family=\"Times,serif\" font-size=\"14.00\">input:</text>\n",
       "<polyline fill=\"none\" stroke=\"black\" points=\"121.5,-23.5 189.5,-23.5 \"/>\n",
       "<text text-anchor=\"middle\" x=\"155.5\" y=\"-8.3\" font-family=\"Times,serif\" font-size=\"14.00\">output:</text>\n",
       "<polyline fill=\"none\" stroke=\"black\" points=\"189.5,-0.5 189.5,-46.5 \"/>\n",
       "<text text-anchor=\"middle\" x=\"240\" y=\"-31.3\" font-family=\"Times,serif\" font-size=\"14.00\">(None, 128)</text>\n",
       "<polyline fill=\"none\" stroke=\"black\" points=\"189.5,-23.5 290.5,-23.5 \"/>\n",
       "<text text-anchor=\"middle\" x=\"240\" y=\"-8.3\" font-family=\"Times,serif\" font-size=\"14.00\">(None, 10)</text>\n",
       "</g>\n",
       "<!-- 139946082291920&#45;&gt;139946082358560 -->\n",
       "<g id=\"edge8\" class=\"edge\">\n",
       "<title>139946082291920-&gt;139946082358560</title>\n",
       "<path fill=\"none\" stroke=\"black\" d=\"M169,-83.37C169,-75.15 169,-65.66 169,-56.73\"/>\n",
       "<polygon fill=\"black\" stroke=\"black\" points=\"172.5,-56.61 169,-46.61 165.5,-56.61 172.5,-56.61\"/>\n",
       "</g>\n",
       "</g>\n",
       "</svg>"
      ],
      "text/plain": [
       "<IPython.core.display.SVG object>"
      ]
     },
     "execution_count": 9,
     "metadata": {},
     "output_type": "execute_result"
    }
   ],
   "source": [
    "from IPython.display import SVG\n",
    "from keras.utils.vis_utils import model_to_dot\n",
    "\n",
    "SVG(model_to_dot(model, show_shapes=True, show_layer_names=True, rankdir='TB').create(prog='dot', format='svg'))"
   ]
  },
  {
   "cell_type": "markdown",
   "id": "b2736701-d4a0-4c18-b449-8b5457ef2751",
   "metadata": {},
   "source": [
    "<h2>Compile the model<h2>"
   ]
  },
  {
   "cell_type": "code",
   "execution_count": 11,
   "id": "cf7184b4-148f-47bc-b32b-ed3e04d7365a",
   "metadata": {},
   "outputs": [],
   "source": [
    "model.compile(loss=keras.losses.categorical_crossentropy, optimizer=keras.optimizers.Adadelta(), metrics=['accuracy'])"
   ]
  },
  {
   "cell_type": "markdown",
   "id": "f8e89bba-760a-4c22-9691-f9436b3cae23",
   "metadata": {},
   "source": [
    "<h2>Train the classifier<h2>"
   ]
  },
  {
   "cell_type": "code",
   "execution_count": 12,
   "id": "fb3914c5-1e4c-4029-b611-a5bfad8aac27",
   "metadata": {},
   "outputs": [
    {
     "name": "stdout",
     "output_type": "stream",
     "text": [
      "Epoch 1/10\n",
      "391/391 [==============================] - 28s 70ms/step - loss: 45.3674 - accuracy: 0.1044\n",
      "Epoch 2/10\n",
      "391/391 [==============================] - 32s 81ms/step - loss: 11.6562 - accuracy: 0.1092\n",
      "Epoch 3/10\n",
      "391/391 [==============================] - 32s 81ms/step - loss: 3.5415 - accuracy: 0.0997\n",
      "Epoch 4/10\n",
      "391/391 [==============================] - 34s 87ms/step - loss: 2.6470 - accuracy: 0.0963\n",
      "Epoch 5/10\n",
      "391/391 [==============================] - 32s 82ms/step - loss: 2.4690 - accuracy: 0.0973\n",
      "Epoch 6/10\n",
      "391/391 [==============================] - 32s 82ms/step - loss: 2.4077 - accuracy: 0.0965\n",
      "Epoch 7/10\n",
      "391/391 [==============================] - 32s 81ms/step - loss: 2.3801 - accuracy: 0.0980\n",
      "Epoch 8/10\n",
      "391/391 [==============================] - 32s 81ms/step - loss: 2.3609 - accuracy: 0.0971\n",
      "Epoch 9/10\n",
      "391/391 [==============================] - 31s 80ms/step - loss: 2.3437 - accuracy: 0.0983\n",
      "Epoch 10/10\n",
      "391/391 [==============================] - 32s 81ms/step - loss: 2.3420 - accuracy: 0.0981\n"
     ]
    },
    {
     "data": {
      "text/plain": [
       "<keras.callbacks.History at 0x7f47bdbc5400>"
      ]
     },
     "execution_count": 12,
     "metadata": {},
     "output_type": "execute_result"
    }
   ],
   "source": [
    "model.fit(x_train, y_train, batch_size=batch_size, epochs=epochs, verbose=1)"
   ]
  },
  {
   "cell_type": "markdown",
   "id": "d31edd84-5ab2-422a-a9d6-c57d42ca97ad",
   "metadata": {},
   "source": [
    "<h2>Predict and test model performance<h2>"
   ]
  },
  {
   "cell_type": "code",
   "execution_count": 13,
   "id": "c76ce071-6f99-4602-ba34-d639b2e17d12",
   "metadata": {},
   "outputs": [
    {
     "name": "stdout",
     "output_type": "stream",
     "text": [
      "313/313 [==============================] - 3s 10ms/step - loss: 2.3030 - accuracy: 0.0998\n"
     ]
    }
   ],
   "source": [
    "score = model.evaluate(x_test, y_test, verbose=1)"
   ]
  },
  {
   "cell_type": "code",
   "execution_count": 17,
   "id": "54422f7b-6328-4aaf-a2fd-9db9e769274f",
   "metadata": {},
   "outputs": [
    {
     "name": "stdout",
     "output_type": "stream",
     "text": [
      "Test loss:  2.302971601486206\n",
      "Test Accuracy:  0.0997999981045723\n"
     ]
    }
   ],
   "source": [
    "print('Test loss: ',score[0])\n",
    "print('Test Accuracy: ',score[1])"
   ]
  },
  {
   "cell_type": "markdown",
   "id": "e7833587-d424-4afb-bac3-914d8c22e507",
   "metadata": {},
   "source": [
    "<h2>How CNN classifies an Image?<h2>\n",
    "Prepare image for CNN"
   ]
  },
  {
   "cell_type": "code",
   "execution_count": 41,
   "id": "e2c9c3c3-2166-4d73-a0fc-59be7cbaa814",
   "metadata": {},
   "outputs": [
    {
     "data": {
      "text/plain": [
       "<matplotlib.image.AxesImage at 0x7f47a02961f0>"
      ]
     },
     "execution_count": 41,
     "metadata": {},
     "output_type": "execute_result"
    },
    {
     "data": {
      "image/png": "[encoded data removed]",
      "text/plain": [
       "<Figure size 1500x500 with 1 Axes>"
      ]
     },
     "metadata": {},
     "output_type": "display_data"
    }
   ],
   "source": [
    "img_idx = 2\n",
    "plt.imshow(x_test[img_idx], aspect='auto')"
   ]
  },
  {
   "cell_type": "code",
   "execution_count": 42,
   "id": "188b053a-613c-416f-b935-0b7afd7e5230",
   "metadata": {},
   "outputs": [
    {
     "data": {
      "text/plain": [
       "array([0., 0., 0., 0., 0., 0., 0., 0., 1., 0.], dtype=float32)"
      ]
     },
     "execution_count": 42,
     "metadata": {},
     "output_type": "execute_result"
    }
   ],
   "source": [
    "y_test[img_idx]"
   ]
  },
  {
   "cell_type": "markdown",
   "id": "e790fdee-2958-47ff-9f2e-e8c00f0d03e2",
   "metadata": {},
   "source": [
    "<b>Predict the label<b>"
   ]
  },
  {
   "cell_type": "code",
   "execution_count": 43,
   "id": "c5b10fce-8b8d-423f-9ea3-46637fb05bb5",
   "metadata": {},
   "outputs": [
    {
     "data": {
      "text/plain": [
       "(1, 32, 32, 3)"
      ]
     },
     "execution_count": 43,
     "metadata": {},
     "output_type": "execute_result"
    }
   ],
   "source": [
    "test_image = np.expand_dims(x_test[img_idx], axis=0)\n",
    "test_image.shape"
   ]
  },
  {
   "cell_type": "code",
   "execution_count": 49,
   "id": "54a4e5b7-aaff-4adf-9970-7874a64da839",
   "metadata": {},
   "outputs": [
    {
     "name": "stdout",
     "output_type": "stream",
     "text": [
      "1/1 [==============================] - 0s 16ms/step\n",
      "[[0.10003678 0.10000288 0.10004799 0.10009002 0.0999643  0.09991413\n",
      "  0.09994328 0.10000856 0.09996828 0.10002377]]\n"
     ]
    }
   ],
   "source": [
    "predict = model.predict(test_image)\n",
    "print(predict)"
   ]
  },
  {
   "cell_type": "code",
   "execution_count": null,
   "id": "245074a8-07b2-4405-96a5-477355d7285c",
   "metadata": {},
   "outputs": [],
   "source": []
  }
 ],
 "metadata": {
  "kernelspec": {
   "display_name": "Python 3 (ipykernel)",
   "language": "python",
   "name": "python3"
  },
  "language_info": {
   "codemirror_mode": {
    "name": "ipython",
    "version": 3
   },
   "file_extension": ".py",
   "mimetype": "text/x-python",
   "name": "python",
   "nbconvert_exporter": "python",
   "pygments_lexer": "ipython3",
   "version": "3.9.13"
  }
 },
 "nbformat": 4,
 "nbformat_minor": 5
}
